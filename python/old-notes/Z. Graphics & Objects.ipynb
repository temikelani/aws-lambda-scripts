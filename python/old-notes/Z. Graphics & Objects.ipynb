{
 "cells": [
  {
   "cell_type": "markdown",
   "metadata": {},
   "source": [
    "<a id=\"top\"></a>\n",
    "# Table of contents"
   ]
  },
  {
   "cell_type": "markdown",
   "metadata": {},
   "source": [
    "- [1. Create a Window](#1)  \n",
    "- [2. Draw A Point](#2)   \n",
    "- [3. Draw a red circle](#3)\n",
    "- [4. Draw a text label](#4)\n",
    "- [5. Draw a square using a rectangle object](#5)\n",
    "- [6. Draw a line segment](#6)\n",
    "- [7. Draw an Oval](#7)\n",
    "- [8.](#8)\n",
    "- [9.](#9)\n",
    "- [10.](#10)\n",
    "- [11.](#11)\n",
    "- [12.](#13)\n",
    "- [13.](#13)\n",
    "- [14.](#14)\n",
    "- [15.](#15)\n",
    "- [16.](#16)\n",
    "- [17.](#17)\n",
    "- [18.](#18)\n",
    "- [19.](#19)\n",
    "- [20.](#20)\n",
    "- [21.](#21)\n",
    "- [22.](#22)\n",
    "- [23.](#23)\n",
    "\n",
    "\n",
    " <a id=\"\"></a> "
   ]
  },
  {
   "cell_type": "markdown",
   "metadata": {},
   "source": [
    "____"
   ]
  },
  {
   "cell_type": "markdown",
   "metadata": {},
   "source": [
    "Graphics.py file is from John Zelle book resources  \n",
    "https://mcsp.wartburg.edu/zelle/python/python3/"
   ]
  },
  {
   "cell_type": "markdown",
   "metadata": {},
   "source": [
    "# Import the graphics module"
   ]
  },
  {
   "cell_type": "code",
   "execution_count": 2,
   "metadata": {},
   "outputs": [],
   "source": [
    "from graphics import *"
   ]
  },
  {
   "cell_type": "markdown",
   "metadata": {},
   "source": [
    "# Documentation"
   ]
  },
  {
   "cell_type": "markdown",
   "metadata": {},
   "source": [
    "\n",
    "```\n",
    "GraphWin() - creates new canvas\n",
    "\n",
    "GraphWin(name, width, height) - creates new canvas with nanem 'name' and width 'width' and height 'height'\n",
    "\n",
    "Point(x,y) - creates a point at x,y\n",
    "\n",
    "Circle(Point(x,y), r) - Circle with radiud r and center x,y\n",
    "\n",
    "label(Point(x,y), text) - Create a label centered at x,y with text 'text'\n",
    "\n",
    "Rectangle((Point(x1,y1), Point(x2,y2))\n",
    "\n",
    "Line((Point(x1,y1), Point(x2,y2))\n",
    "\n",
    "Oval(Point(x,y), Point(x,y)\n",
    "\n",
    "Polygon(p1,p2,p3,...) - Draws a polygon with as many points (p1, p2,p3...) as you give it. \n",
    "                        The constructor for Polygon accepts any number of points and creates a polygon by \n",
    "                        using line segments to connect the points in the order given and to connect \n",
    "                        the last point back to the first.\n",
    "\n",
    ".getX()-  gets the X coordinate\n",
    "\n",
    ".getY() - gets the Y coordinate\n",
    "\n",
    ".move(x,y) - move an object on the plane: circle.move(2,4)\n",
    "\n",
    ".draw() - draws to the window; accepts window name: Circle.draw(win)\n",
    "\n",
    ".setFill(color) - sets thefill color: circle.setFill\n",
    "\n",
    ".setBackground(color) - changed bkg color of any object: .setBackground('red') \n",
    "\n",
    ".close() - closes a window: win.close()\n",
    "\n",
    ".setWidth() - increases the border thickness of a shape in px, accepts and int Circle.setWidth(2)\n",
    "\n",
    ".setOutline() - changes the border color: line.setOutline('red')\n",
    "\n",
    ".setCoords() - set the vertical axix coordinates: win.setCoords(O.O, 0.0, 10.0, 10000.0) \n",
    "             - setCoords (xll , yll , xur , yur) Sets the coordinate system of the window. \n",
    "             - The lower-left comer is (xll, yll) and the upper-right comer is (xur, yur).\n",
    "             - (coordinates to go from (0 , 0) in the lower left to (10,10000) in the upper right)\n",
    "             \n",
    ".setText() - message.setText(\"Click anywhere to quit.\"). To change an existing text label, we don't need to create a new Text object; we can just change the text that is displayed\n",
    "\n",
    ".getMouse() - p = win.getMouse(): returns the point p(x,y) the user click on . you can get the X and Y \n",
    "              coords p.getX()....\n",
    "             \n",
    "\n",
    "```"
   ]
  },
  {
   "cell_type": "markdown",
   "metadata": {},
   "source": [
    "# Import the graphics module"
   ]
  },
  {
   "cell_type": "code",
   "execution_count": 3,
   "metadata": {},
   "outputs": [],
   "source": [
    "from graphics import *"
   ]
  },
  {
   "cell_type": "code",
   "execution_count": 2,
   "metadata": {},
   "outputs": [],
   "source": [
    "# graphics?"
   ]
  },
  {
   "cell_type": "markdown",
   "metadata": {},
   "source": [
    "____"
   ]
  },
  {
   "cell_type": "markdown",
   "metadata": {},
   "source": [
    "<a id=\"1\"></a>\n",
    "# 1. Create a Window\n",
    "([go to top](#top)) "
   ]
  },
  {
   "cell_type": "code",
   "execution_count": 4,
   "metadata": {},
   "outputs": [],
   "source": [
    "win = GraphWin()"
   ]
  },
  {
   "cell_type": "markdown",
   "metadata": {},
   "source": [
    "____"
   ]
  },
  {
   "cell_type": "markdown",
   "metadata": {},
   "source": [
    "<a id=\"2\"></a>\n",
    "# 2. Draw A Point\n",
    "([go to top](#top))"
   ]
  },
  {
   "cell_type": "code",
   "execution_count": 10,
   "metadata": {},
   "outputs": [],
   "source": [
    "# variables p,p2 golds the location of a point\n",
    "\n",
    "p = Point(50, 60)\n",
    "p2 = Point(140, 100)"
   ]
  },
  {
   "cell_type": "markdown",
   "metadata": {},
   "source": [
    "- get the x and y coordinates for p"
   ]
  },
  {
   "cell_type": "code",
   "execution_count": 5,
   "metadata": {},
   "outputs": [
    {
     "data": {
      "text/plain": [
       "50"
      ]
     },
     "execution_count": 5,
     "metadata": {},
     "output_type": "execute_result"
    }
   ],
   "source": [
    "p.getX()"
   ]
  },
  {
   "cell_type": "code",
   "execution_count": 6,
   "metadata": {},
   "outputs": [
    {
     "data": {
      "text/plain": [
       "60"
      ]
     },
     "execution_count": 6,
     "metadata": {},
     "output_type": "execute_result"
    }
   ],
   "source": [
    "p.getY()"
   ]
  },
  {
   "cell_type": "markdown",
   "metadata": {},
   "source": [
    "- draw the point on the canvas\n",
    "- draw(window)"
   ]
  },
  {
   "cell_type": "code",
   "execution_count": 7,
   "metadata": {},
   "outputs": [],
   "source": [
    "p.draw(win)"
   ]
  },
  {
   "cell_type": "code",
   "execution_count": 11,
   "metadata": {},
   "outputs": [],
   "source": [
    "p2.draw(win)"
   ]
  },
  {
   "cell_type": "markdown",
   "metadata": {},
   "source": [
    "____"
   ]
  },
  {
   "cell_type": "markdown",
   "metadata": {},
   "source": [
    "<a id=\"3\"></a>\n",
    "# 3. Draw a red circle\n",
    "([go to top](#top))"
   ]
  },
  {
   "cell_type": "markdown",
   "metadata": {},
   "source": [
    "- create a new window and call it shapes"
   ]
  },
  {
   "cell_type": "code",
   "execution_count": 12,
   "metadata": {},
   "outputs": [],
   "source": [
    "win2 = GraphWin('shapes')"
   ]
  },
  {
   "cell_type": "markdown",
   "metadata": {},
   "source": [
    "- Draw a red circle 'circ' centered at the point (100,100) with radious 30"
   ]
  },
  {
   "cell_type": "code",
   "execution_count": 14,
   "metadata": {},
   "outputs": [],
   "source": [
    "center = Point(100,100)"
   ]
  },
  {
   "cell_type": "code",
   "execution_count": 15,
   "metadata": {},
   "outputs": [],
   "source": [
    "circ = Circle(center, 30)"
   ]
  },
  {
   "cell_type": "code",
   "execution_count": 17,
   "metadata": {},
   "outputs": [],
   "source": [
    "circ.setFill('red')"
   ]
  },
  {
   "cell_type": "markdown",
   "metadata": {},
   "source": [
    "- draw the cirle"
   ]
  },
  {
   "cell_type": "code",
   "execution_count": 18,
   "metadata": {},
   "outputs": [],
   "source": [
    "circ.draw(win2)"
   ]
  },
  {
   "cell_type": "markdown",
   "metadata": {},
   "source": [
    "____"
   ]
  },
  {
   "cell_type": "markdown",
   "metadata": {},
   "source": [
    "<a id=\"4\"></a>\n",
    "# 4. Draw a text label\n",
    "([go to top](#top))  "
   ]
  },
  {
   "cell_type": "code",
   "execution_count": 19,
   "metadata": {},
   "outputs": [],
   "source": [
    "label = Text(center, 'Red ')"
   ]
  },
  {
   "cell_type": "markdown",
   "metadata": {},
   "source": [
    "- draw the label on the canvas"
   ]
  },
  {
   "cell_type": "code",
   "execution_count": 20,
   "metadata": {},
   "outputs": [],
   "source": [
    "label.draw(win2)"
   ]
  },
  {
   "cell_type": "markdown",
   "metadata": {},
   "source": [
    "____"
   ]
  },
  {
   "cell_type": "markdown",
   "metadata": {},
   "source": [
    "<a id=\"5\"></a>\n",
    "# 5. Draw a square using a rectangle object\n",
    "([go to top](#top))"
   ]
  },
  {
   "cell_type": "code",
   "execution_count": 27,
   "metadata": {},
   "outputs": [],
   "source": [
    "rect = Rectangle(Point(30,30), Point(70,70))"
   ]
  },
  {
   "cell_type": "code",
   "execution_count": 28,
   "metadata": {},
   "outputs": [],
   "source": [
    "rect.draw(win2)"
   ]
  },
  {
   "cell_type": "markdown",
   "metadata": {},
   "source": [
    "____"
   ]
  },
  {
   "cell_type": "markdown",
   "metadata": {},
   "source": [
    "<a id=\"6\"></a>\n",
    "# 6. Draw a line segment\n",
    "([go to top](#top))"
   ]
  },
  {
   "cell_type": "code",
   "execution_count": 32,
   "metadata": {},
   "outputs": [],
   "source": [
    "line = Line(Point(20,30), Point(180,165))"
   ]
  },
  {
   "cell_type": "code",
   "execution_count": 33,
   "metadata": {},
   "outputs": [],
   "source": [
    "line.draw(win2)"
   ]
  },
  {
   "cell_type": "markdown",
   "metadata": {},
   "source": [
    "____"
   ]
  },
  {
   "cell_type": "markdown",
   "metadata": {},
   "source": [
    "<a id=\"7\"></a>\n",
    "# 7. Draw an Oval\n",
    "([go to top](#top))"
   ]
  },
  {
   "cell_type": "code",
   "execution_count": 43,
   "metadata": {},
   "outputs": [],
   "source": [
    "oval = Oval(Point(50,170), Point(180,199))"
   ]
  },
  {
   "cell_type": "code",
   "execution_count": 44,
   "metadata": {},
   "outputs": [],
   "source": [
    "oval.draw(win2)"
   ]
  },
  {
   "cell_type": "markdown",
   "metadata": {},
   "source": [
    "____"
   ]
  },
  {
   "cell_type": "markdown",
   "metadata": {},
   "source": [
    "<a id=\"8\"></a>\n",
    "# 8. Title\n",
    "([go to top](#top))"
   ]
  },
  {
   "cell_type": "markdown",
   "metadata": {},
   "source": [
    "____"
   ]
  },
  {
   "cell_type": "markdown",
   "metadata": {},
   "source": [
    "<a id=\"9\"></a>\n",
    "# 9. Title\n",
    "([go to top](#top))"
   ]
  },
  {
   "cell_type": "markdown",
   "metadata": {},
   "source": [
    "____"
   ]
  },
  {
   "cell_type": "markdown",
   "metadata": {},
   "source": [
    "<a id=\"10\"></a>\n",
    "# 10. Title\n",
    "([go to top](#top))"
   ]
  },
  {
   "cell_type": "markdown",
   "metadata": {},
   "source": [
    "____"
   ]
  },
  {
   "cell_type": "markdown",
   "metadata": {},
   "source": [
    "<a id=\"11\"></a>\n",
    "# 11. Title\n",
    "([go to top](#top))"
   ]
  },
  {
   "cell_type": "markdown",
   "metadata": {},
   "source": [
    "____"
   ]
  },
  {
   "cell_type": "markdown",
   "metadata": {},
   "source": [
    "<a id=\"12\"></a>\n",
    "# 12. Title\n",
    "([go to top](#top))"
   ]
  },
  {
   "cell_type": "markdown",
   "metadata": {},
   "source": [
    "____"
   ]
  },
  {
   "cell_type": "markdown",
   "metadata": {},
   "source": [
    "<a id=\"13\"></a>\n",
    "# 13. Title\n",
    "([go to top](#top))"
   ]
  },
  {
   "cell_type": "markdown",
   "metadata": {},
   "source": [
    "____"
   ]
  },
  {
   "cell_type": "markdown",
   "metadata": {},
   "source": [
    "<a id=\"14\"></a>\n",
    "# 14. Title\n",
    "([go to top](#top))"
   ]
  },
  {
   "cell_type": "markdown",
   "metadata": {},
   "source": [
    "____"
   ]
  },
  {
   "cell_type": "markdown",
   "metadata": {},
   "source": [
    "<a id=\"15\"></a>\n",
    "# 15. Title\n",
    "([go to top](#top))"
   ]
  },
  {
   "cell_type": "markdown",
   "metadata": {},
   "source": [
    "____"
   ]
  },
  {
   "cell_type": "markdown",
   "metadata": {},
   "source": [
    "<a id=\"16\"></a>\n",
    "# 16. Title\n",
    "([go to top](#top))"
   ]
  },
  {
   "cell_type": "markdown",
   "metadata": {},
   "source": [
    "____"
   ]
  },
  {
   "cell_type": "markdown",
   "metadata": {},
   "source": [
    "<a id=\"17\"></a>\n",
    "# 17. Title\n",
    "([go to top](#top))"
   ]
  },
  {
   "cell_type": "markdown",
   "metadata": {},
   "source": [
    "____"
   ]
  },
  {
   "cell_type": "markdown",
   "metadata": {},
   "source": [
    "<a id=\"18\"></a>\n",
    "# 18. Title\n",
    "([go to top](#top))"
   ]
  },
  {
   "cell_type": "markdown",
   "metadata": {},
   "source": [
    "____"
   ]
  },
  {
   "cell_type": "markdown",
   "metadata": {},
   "source": [
    "<a id=\"19\"></a>\n",
    "# 19. Title\n",
    "([go to top](#top))"
   ]
  },
  {
   "cell_type": "markdown",
   "metadata": {},
   "source": [
    "____"
   ]
  },
  {
   "cell_type": "markdown",
   "metadata": {},
   "source": [
    "<a id=\"20\"></a>\n",
    "# 20. Title\n",
    "([go to top](#top))"
   ]
  },
  {
   "cell_type": "markdown",
   "metadata": {},
   "source": [
    "____"
   ]
  },
  {
   "cell_type": "markdown",
   "metadata": {},
   "source": [
    "____"
   ]
  },
  {
   "cell_type": "code",
   "execution_count": null,
   "metadata": {},
   "outputs": [],
   "source": []
  },
  {
   "cell_type": "markdown",
   "metadata": {},
   "source": [
    "____"
   ]
  },
  {
   "cell_type": "code",
   "execution_count": null,
   "metadata": {},
   "outputs": [],
   "source": []
  }
 ],
 "metadata": {
  "kernelspec": {
   "display_name": "Python 3",
   "language": "python",
   "name": "python3"
  },
  "language_info": {
   "codemirror_mode": {
    "name": "ipython",
    "version": 3
   },
   "file_extension": ".py",
   "mimetype": "text/x-python",
   "name": "python",
   "nbconvert_exporter": "python",
   "pygments_lexer": "ipython3",
   "version": "3.8.5"
  }
 },
 "nbformat": 4,
 "nbformat_minor": 4
}
