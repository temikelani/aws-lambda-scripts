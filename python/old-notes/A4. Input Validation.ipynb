{
 "cells": [
  {
   "cell_type": "markdown",
   "metadata": {},
   "source": [
    "<a id=\"top\"></a>\n",
    "# Table of contents"
   ]
  },
  {
   "cell_type": "markdown",
   "metadata": {},
   "source": [
    "- [1. Import PyInputPlus](#1)  \n",
    "- [2. Add a prompt](#2)   \n",
    "- [3. The min, max, greaterThan, and lessThan Keyword Arguments](#3)\n",
    "- [4. The `blank=True` Keyword Argument](#4)\n",
    "- [5. The limit, timeout, and default Keyword Arguments](#5)\n",
    "- [6. allowRegexes and blockRegexes Keywords](#6)\n",
    "- [7. Passing a Custom Validation Function to inputCustom()](#7)\n",
    "- [8. `inputYesNo()`](#8)\n",
    "- [9.](#9)\n",
    "- [10.](#10)\n",
    "- [11.](#11)\n",
    "- [12.](#13)\n",
    "- [13.](#13)\n",
    "- [14.](#14)\n",
    "- [15.](#15)\n",
    "- [16.](#16)\n",
    "- [17.](#17)\n",
    "- [18.](#18)\n",
    "- [19.](#19)\n",
    "- [20.](#20)\n",
    "- [21.](#21)\n",
    "- [22.](#22)\n",
    "- [23.](#23)\n",
    "\n",
    "\n",
    " <a id=\"\"></a> "
   ]
  },
  {
   "cell_type": "markdown",
   "metadata": {},
   "source": [
    "____"
   ]
  },
  {
   "cell_type": "markdown",
   "metadata": {},
   "source": [
    "<a id=\"1\"></a>\n",
    "# 1. import PyInputPlus\n",
    "([go to top](#top))"
   ]
  },
  {
   "cell_type": "markdown",
   "metadata": {},
   "source": [
    "https://pyinputplus.readthedocs.io/."
   ]
  },
  {
   "cell_type": "code",
   "execution_count": 1,
   "metadata": {},
   "outputs": [],
   "source": [
    "import pyinputplus"
   ]
  },
  {
   "cell_type": "markdown",
   "metadata": {},
   "source": [
    "- PyInputPlus contains functions similar to input() for several kinds of data: numbers, dates, email addresses, and more. \n",
    "- If the user ever enters invalid input, such as a badly formatted date or a number that is outside of an intended range, \n",
    "- PyInputPlus will reprompt them for input just like with try and except. \n",
    "- PyInputPlus also has other useful features like a limit for the number of times it reprompts users and a timeout if users are required to respond within a time limit."
   ]
  },
  {
   "cell_type": "markdown",
   "metadata": {},
   "source": [
    "- `inputStr()` Is like the built-in input() function but has the gen- eral PyInputPlus features. You can also pass a custom validation function to it\n",
    "- `inputNum()` Ensures the user enters a number and returns an int or float, depending on if the number has a decimal point in it\n",
    "- `inputChoice()` Ensures the user enters one of the provided choices inputMenu() Is similar to inputChoice(), but provides a menu with num-\n",
    "bered or lettered options\n",
    "- `inputDatetime()` Ensures the user enters a date and time\n",
    "- `inputYesNo()` Ensures the user enters a “yes” or “no” response\n",
    "- `inputBool()` Is similar to inputYesNo(), but takes a “True” or “False” response and returns a Boolean value\n",
    "- `inputEmail()` Ensures the user enters a valid email address inputFilepath() Ensures the user enters a valid file path and filename, and can optionally check that a file with that name exists\n",
    "- `inputPassword()` Is like the built-in input(), but displays * characters as the user types so that passwords, or other sensitive information, aren’t displayed on the screen"
   ]
  },
  {
   "cell_type": "code",
   "execution_count": 1,
   "metadata": {},
   "outputs": [],
   "source": [
    "import pyinputplus as pyip"
   ]
  },
  {
   "cell_type": "code",
   "execution_count": 7,
   "metadata": {},
   "outputs": [
    {
     "name": "stdout",
     "output_type": "stream",
     "text": [
      "five\n",
      "'five' is not a number.\n",
      "5\n",
      "you entered: 5\n"
     ]
    }
   ],
   "source": [
    "response = pyip.inputNum()\n",
    "print('you entered:', response)"
   ]
  },
  {
   "cell_type": "markdown",
   "metadata": {},
   "source": [
    "____"
   ]
  },
  {
   "cell_type": "markdown",
   "metadata": {},
   "source": [
    "<a id=\"2\"></a>\n",
    "# 2. Add a prompt\n",
    "([go to top](#top))"
   ]
  },
  {
   "cell_type": "code",
   "execution_count": 11,
   "metadata": {},
   "outputs": [
    {
     "name": "stdout",
     "output_type": "stream",
     "text": [
      "Enter a number: dog\n",
      "'dog' is not an integer.\n",
      "Enter a number: 5.5\n",
      "'5.5' is not an integer.\n",
      "Enter a number: 5\n",
      "you entered: 5\n"
     ]
    }
   ],
   "source": [
    "response = pyip.inputInt(prompt = 'Enter a number: ')\n",
    "print('you entered:', response)"
   ]
  },
  {
   "cell_type": "code",
   "execution_count": null,
   "metadata": {},
   "outputs": [],
   "source": []
  },
  {
   "cell_type": "markdown",
   "metadata": {},
   "source": [
    "____"
   ]
  },
  {
   "cell_type": "markdown",
   "metadata": {},
   "source": [
    "<a id=\"3\"></a>\n",
    "# 3. The min, max, greaterThan, and lessThan Keyword Arguments\n",
    "([go to top](#top))"
   ]
  },
  {
   "cell_type": "code",
   "execution_count": 14,
   "metadata": {},
   "outputs": [
    {
     "name": "stdout",
     "output_type": "stream",
     "text": [
      "Enter num: 3\n",
      "Number must be at minimum 4.\n",
      "Enter num: 5\n",
      "you entered: 5\n"
     ]
    }
   ],
   "source": [
    "# min\n",
    "response = pyip.inputNum('Enter num: ', min=4)\n",
    "print('you entered:', response)"
   ]
  },
  {
   "cell_type": "code",
   "execution_count": 17,
   "metadata": {},
   "outputs": [
    {
     "name": "stdout",
     "output_type": "stream",
     "text": [
      "Enter num: 5\n",
      "Number must be at maximum 4.\n",
      "Enter num: 3\n",
      "you entered: 3\n"
     ]
    }
   ],
   "source": [
    "# max\n",
    "response = pyip.inputNum('Enter num: ', max=4)\n",
    "print('you entered:', response)"
   ]
  },
  {
   "cell_type": "code",
   "execution_count": 15,
   "metadata": {},
   "outputs": [
    {
     "name": "stdout",
     "output_type": "stream",
     "text": [
      "Enter num: 4\n",
      "Number must be greater than 4.\n",
      "Enter num: 6\n",
      "you entered: 6\n"
     ]
    }
   ],
   "source": [
    "# greaterThan\n",
    "response = pyip.inputNum('Enter num: ', greaterThan=4)\n",
    "print('you entered:', response)"
   ]
  },
  {
   "cell_type": "code",
   "execution_count": 16,
   "metadata": {},
   "outputs": [
    {
     "name": "stdout",
     "output_type": "stream",
     "text": [
      ">3\n",
      "Number must be at minimum 4.\n",
      ">7\n",
      "Number must be less than 6.\n",
      ">5\n",
      "you entered: 5\n"
     ]
    }
   ],
   "source": [
    "# lessThan\n",
    "response = pyip.inputNum('>', min=4, lessThan=6)\n",
    "print('you entered:', response)"
   ]
  },
  {
   "cell_type": "code",
   "execution_count": null,
   "metadata": {},
   "outputs": [],
   "source": []
  },
  {
   "cell_type": "markdown",
   "metadata": {},
   "source": [
    "____"
   ]
  },
  {
   "cell_type": "markdown",
   "metadata": {},
   "source": [
    "<a id=\"4\"></a>\n",
    "# 4. The blank Keyword Argument\n",
    "- By default, blank input isn’t allowed unless the blank keyword argument is set to True:  \n",
    "\n",
    "\n",
    "([go to top](#top))"
   ]
  },
  {
   "cell_type": "code",
   "execution_count": 19,
   "metadata": {},
   "outputs": [
    {
     "name": "stdout",
     "output_type": "stream",
     "text": [
      "Enter num: \n",
      "Blank values are not allowed.\n",
      "Enter num: 1\n",
      "you entered: 1\n"
     ]
    }
   ],
   "source": [
    "response = pyip.inputNum('Enter num: ')\n",
    "print('you entered:', response)"
   ]
  },
  {
   "cell_type": "code",
   "execution_count": 20,
   "metadata": {},
   "outputs": [
    {
     "name": "stdout",
     "output_type": "stream",
     "text": [
      "Enter num: \n",
      "you entered: \n"
     ]
    }
   ],
   "source": [
    "response = pyip.inputNum('Enter num: ', blank = True)\n",
    "print('you entered:', response)"
   ]
  },
  {
   "cell_type": "markdown",
   "metadata": {},
   "source": [
    "____"
   ]
  },
  {
   "cell_type": "markdown",
   "metadata": {},
   "source": [
    "<a id=\"5\"></a>\n",
    "# 5. The limit, timeout, and default Keyword Arguments\n",
    "- By default, the PyInputPlus functions will continue to ask the user for valid input forever (or for as long as the program runs). \n",
    "- Use the `limit` keyword argument to determine how many attempts a PyInputPlus function will make to receive valid input before giving up, \n",
    "- Use the `timeout` keyword argument to determine how many seconds the user has to enter valid input before the PyInputPlus func- tion gives up.  \n",
    "- Pass a `default` keyword argument, and the function returns the default value instead of raising an exception. \n",
    "\n",
    "\n",
    "([go to top](#top))"
   ]
  },
  {
   "cell_type": "code",
   "execution_count": 7,
   "metadata": {},
   "outputs": [
    {
     "name": "stdout",
     "output_type": "stream",
     "text": [
      "hey\n",
      "'hey' is not a number.\n",
      "you\n",
      "'you' is not a number.\n",
      "response is:  N/A\n"
     ]
    }
   ],
   "source": [
    "# enter the wrong input twice\n",
    "\n",
    "response = pyip.inputNum(limit = 2, timeout = 10, default = 'N/A') \n",
    "\n",
    "print('response is: ', response)"
   ]
  },
  {
   "cell_type": "code",
   "execution_count": 11,
   "metadata": {},
   "outputs": [
    {
     "name": "stdout",
     "output_type": "stream",
     "text": [
      "5\n",
      "response is:  N/A\n"
     ]
    }
   ],
   "source": [
    "# enter a number after 10 seconds of waiting\n",
    "\n",
    "response = pyip.inputNum(limit = 2, timeout = 10, default = 'N/A') \n",
    "\n",
    "print('response is: ', response)"
   ]
  },
  {
   "cell_type": "code",
   "execution_count": 10,
   "metadata": {},
   "outputs": [],
   "source": [
    "# enter a number after 10 seconds of waiting\n",
    "\n",
    "# response = pyip.inputNum(timeout=10) "
   ]
  },
  {
   "cell_type": "code",
   "execution_count": 9,
   "metadata": {},
   "outputs": [],
   "source": [
    "# give a wrong input twice\n",
    "\n",
    "#response = pyip.inputNum(limit=2) "
   ]
  },
  {
   "cell_type": "code",
   "execution_count": null,
   "metadata": {},
   "outputs": [],
   "source": []
  },
  {
   "cell_type": "markdown",
   "metadata": {},
   "source": [
    "____"
   ]
  },
  {
   "cell_type": "markdown",
   "metadata": {},
   "source": [
    "<a id=\"6\"></a>\n",
    "# 6. `allowRegexes` and `blockRegexes` Keywords\n",
    "- The `allowRegexes and blockRegexes` keyword arguments take a list of regular expression strings to determine what the PyInputPlus function will accept or reject as valid input. \n",
    "- For example, `inputNum()` below will accept Roman numerals in addition to the usual numbers:\n",
    "    - Of course, this regex affects only what letters the `inputNum()` function will accept from the user; the function will still accept Roman numerals with invalid ordering such as `'XVX' or 'MILLI'` because the `r'(I|V|X|L|C|D|M)+'`regular expression accepts those strings.  \n",
    "    \n",
    "\n",
    "([go to top](#top))"
   ]
  },
  {
   "cell_type": "code",
   "execution_count": 13,
   "metadata": {
    "scrolled": true
   },
   "outputs": [
    {
     "name": "stdout",
     "output_type": "stream",
     "text": [
      "XLII\n",
      "response is:  XLII\n"
     ]
    }
   ],
   "source": [
    "response = pyip.inputNum(allowRegexes=[r'(I|V|X|L|C|D|M)+', r'zero'])\n",
    "print('response is: ', response)"
   ]
  },
  {
   "cell_type": "code",
   "execution_count": 19,
   "metadata": {
    "scrolled": true
   },
   "outputs": [
    {
     "name": "stdout",
     "output_type": "stream",
     "text": [
      "xlii\n",
      "response is:  xlii\n"
     ]
    }
   ],
   "source": [
    "response = pyip.inputNum(allowRegexes=[r'(i|v|x|l|c|d|m)+', r'zero'])\n",
    "print('response is: ', response)"
   ]
  },
  {
   "cell_type": "code",
   "execution_count": 16,
   "metadata": {
    "scrolled": true
   },
   "outputs": [
    {
     "name": "stdout",
     "output_type": "stream",
     "text": [
      "zero\n",
      "response is:  zero\n"
     ]
    }
   ],
   "source": [
    "response = pyip.inputNum(allowRegexes=[r'(I|V|X|L|C|D|M)+', r'zero'])\n",
    "print('response is: ', response)"
   ]
  },
  {
   "cell_type": "code",
   "execution_count": 17,
   "metadata": {},
   "outputs": [
    {
     "name": "stdout",
     "output_type": "stream",
     "text": [
      "zero\n",
      "'zero' is not a number.\n",
      "5\n",
      "response is:  5\n"
     ]
    }
   ],
   "source": [
    "response = pyip.inputNum(allowRegexes=[r'(I|V|X|L|C|D|M)+'])\n",
    "print('response is: ', response)"
   ]
  },
  {
   "cell_type": "markdown",
   "metadata": {},
   "source": [
    "`----------------------------------------------------------------------------------------------------------------`"
   ]
  },
  {
   "cell_type": "code",
   "execution_count": 24,
   "metadata": {
    "scrolled": true
   },
   "outputs": [
    {
     "name": "stdout",
     "output_type": "stream",
     "text": [
      "2\n",
      "This response is invalid.\n",
      "4\n",
      "This response is invalid.\n",
      "6\n",
      "This response is invalid.\n",
      "24\n",
      "This response is invalid.\n",
      "3\n",
      "response is:  3\n"
     ]
    }
   ],
   "source": [
    "# won't accept even numbers\n",
    "response = pyip.inputNum(blockRegexes=[r'[02468]$'])\n",
    "print('response is: ', response)"
   ]
  },
  {
   "cell_type": "markdown",
   "metadata": {},
   "source": [
    "`----------------------------------------------------------------------------------------------------------------`"
   ]
  },
  {
   "cell_type": "markdown",
   "metadata": {},
   "source": [
    "- If you specify `both an allowRegexes and blockRegexes argument, the allow list overrides the block list.`"
   ]
  },
  {
   "cell_type": "code",
   "execution_count": 26,
   "metadata": {},
   "outputs": [
    {
     "name": "stdout",
     "output_type": "stream",
     "text": [
      "cat\n",
      "This response is invalid.\n",
      "catapult\n",
      "This response is invalid.\n",
      "catastrophe\n",
      "This response is invalid.\n",
      "caterpillar\n",
      "response is:  caterpillar\n"
     ]
    }
   ],
   "source": [
    "response = pyip.inputStr(allowRegexes=[r'caterpillar', 'category'], blockRegexes=[r'cat'])\n",
    "print('response is: ', response)"
   ]
  },
  {
   "cell_type": "markdown",
   "metadata": {},
   "source": [
    "____"
   ]
  },
  {
   "cell_type": "markdown",
   "metadata": {},
   "source": [
    "<a id=\"7\"></a>\n",
    "# 7. Passing a Custom Validation Function to `inputCustom()`\n",
    "([go to top](#top))"
   ]
  },
  {
   "cell_type": "markdown",
   "metadata": {},
   "source": [
    "You can write a function to perform `your own custom validation logic by passing the function to inputCustom()`. For example, say you want the user to enter a `series of digits that adds up to 10. `\n",
    "\n",
    "There is no pyinputplus inputAddsUpToTen() function, but you can create your own function that:\n",
    "- Accepts a single string argument of what the user entered\n",
    "- Raises an exception if the string fails validation\n",
    "- Returns None (or has no return statement) if inputCustom() should return the string unchanged\n",
    "- Returns a non-None value if inputCustom() should return a different string from the one the user entered\n",
    "- Is passed as the first argument to inputCustom()"
   ]
  },
  {
   "cell_type": "markdown",
   "metadata": {},
   "source": [
    "For example, we can create our own addsUpToTen() function, and then pass it to inputCustom(). \n",
    "\n",
    "- Note that the function call looks `like inputCustom(addsUpToTen) and not inputCustom(addsUpToTen()) `\n",
    "- because `we are passing the addsUpToTen() function itself to inputCustom(), not calling addsUpToTen() and passing its return value.`"
   ]
  },
  {
   "cell_type": "code",
   "execution_count": 35,
   "metadata": {},
   "outputs": [],
   "source": [
    "#accepts a string of numbers\n",
    "def addsUpToTen(strNums):\n",
    "    numbers = list(strNums)\n",
    "    \n",
    "    for i, num in enumerate(numbers):\n",
    "        numbers[i] = int(num)\n",
    "    \n",
    "    if sum(numbers) != 10:\n",
    "        raise Exception('The numbers should add up to 10 not %s' %(sum(numbers)))\n",
    "        \n",
    "    return int(strNums)"
   ]
  },
  {
   "cell_type": "markdown",
   "metadata": {},
   "source": [
    "`----------------------------------------------------------------------------------------------------------------`"
   ]
  },
  {
   "cell_type": "code",
   "execution_count": 37,
   "metadata": {
    "scrolled": false
   },
   "outputs": [
    {
     "name": "stdout",
     "output_type": "stream",
     "text": [
      "245\n"
     ]
    },
    {
     "ename": "Exception",
     "evalue": "The numbers should add up to 10 not 11",
     "output_type": "error",
     "traceback": [
      "\u001b[0;31m---------------------------------------------------------------------------\u001b[0m",
      "\u001b[0;31mException\u001b[0m                                 Traceback (most recent call last)",
      "\u001b[0;32m<ipython-input-37-fe0723984fd3>\u001b[0m in \u001b[0;36m<module>\u001b[0;34m\u001b[0m\n\u001b[1;32m      1\u001b[0m \u001b[0muserInput\u001b[0m \u001b[0;34m=\u001b[0m \u001b[0minput\u001b[0m\u001b[0;34m(\u001b[0m\u001b[0;34m)\u001b[0m\u001b[0;34m\u001b[0m\u001b[0;34m\u001b[0m\u001b[0m\n\u001b[0;32m----> 2\u001b[0;31m \u001b[0maddsUpToTen\u001b[0m\u001b[0;34m(\u001b[0m\u001b[0muserInput\u001b[0m\u001b[0;34m)\u001b[0m\u001b[0;34m\u001b[0m\u001b[0;34m\u001b[0m\u001b[0m\n\u001b[0m",
      "\u001b[0;32m<ipython-input-35-1929651c8ad4>\u001b[0m in \u001b[0;36maddsUpToTen\u001b[0;34m(strNums)\u001b[0m\n\u001b[1;32m      7\u001b[0m \u001b[0;34m\u001b[0m\u001b[0m\n\u001b[1;32m      8\u001b[0m     \u001b[0;32mif\u001b[0m \u001b[0msum\u001b[0m\u001b[0;34m(\u001b[0m\u001b[0mnumbers\u001b[0m\u001b[0;34m)\u001b[0m \u001b[0;34m!=\u001b[0m \u001b[0;36m10\u001b[0m\u001b[0;34m:\u001b[0m\u001b[0;34m\u001b[0m\u001b[0;34m\u001b[0m\u001b[0m\n\u001b[0;32m----> 9\u001b[0;31m         \u001b[0;32mraise\u001b[0m \u001b[0mException\u001b[0m\u001b[0;34m(\u001b[0m\u001b[0;34m'The numbers should add up to 10 not %s'\u001b[0m \u001b[0;34m%\u001b[0m\u001b[0;34m(\u001b[0m\u001b[0msum\u001b[0m\u001b[0;34m(\u001b[0m\u001b[0mnumbers\u001b[0m\u001b[0;34m)\u001b[0m\u001b[0;34m)\u001b[0m\u001b[0;34m)\u001b[0m\u001b[0;34m\u001b[0m\u001b[0;34m\u001b[0m\u001b[0m\n\u001b[0m\u001b[1;32m     10\u001b[0m \u001b[0;34m\u001b[0m\u001b[0m\n\u001b[1;32m     11\u001b[0m     \u001b[0;32mreturn\u001b[0m \u001b[0mint\u001b[0m\u001b[0;34m(\u001b[0m\u001b[0mstrNums\u001b[0m\u001b[0;34m)\u001b[0m\u001b[0;34m\u001b[0m\u001b[0;34m\u001b[0m\u001b[0m\n",
      "\u001b[0;31mException\u001b[0m: The numbers should add up to 10 not 11"
     ]
    }
   ],
   "source": [
    "userInput = input()\n",
    "addsUpToTen(userInput)"
   ]
  },
  {
   "cell_type": "markdown",
   "metadata": {},
   "source": [
    "`----------------------------------------------------------------------------------------------------------------`"
   ]
  },
  {
   "cell_type": "code",
   "execution_count": 38,
   "metadata": {
    "scrolled": false
   },
   "outputs": [
    {
     "name": "stdout",
     "output_type": "stream",
     "text": [
      "245\n",
      "The numbers should add up to 10 not 11\n",
      "649\n",
      "The numbers should add up to 10 not 19\n",
      "55\n"
     ]
    }
   ],
   "source": [
    "response = pyip.inputCustom(addsUpToTen)"
   ]
  },
  {
   "cell_type": "code",
   "execution_count": 39,
   "metadata": {
    "scrolled": false
   },
   "outputs": [
    {
     "data": {
      "text/plain": [
       "55"
      ]
     },
     "execution_count": 39,
     "metadata": {},
     "output_type": "execute_result"
    }
   ],
   "source": [
    "response"
   ]
  },
  {
   "cell_type": "markdown",
   "metadata": {},
   "source": [
    "____"
   ]
  },
  {
   "cell_type": "markdown",
   "metadata": {},
   "source": [
    "<a id=\"8\"></a>\n",
    "# 8. `inputYesNo()`\n",
    "([go to top](#top))"
   ]
  },
  {
   "cell_type": "code",
   "execution_count": 43,
   "metadata": {},
   "outputs": [],
   "source": [
    "pyip.inputYesNo?"
   ]
  },
  {
   "cell_type": "code",
   "execution_count": 44,
   "metadata": {},
   "outputs": [
    {
     "name": "stdout",
     "output_type": "stream",
     "text": [
      "Do you want money: y\n",
      "yes\n"
     ]
    }
   ],
   "source": [
    "response = pyip.inputYesNo('Do you want money: ')\n",
    "print(response)"
   ]
  },
  {
   "cell_type": "code",
   "execution_count": 45,
   "metadata": {},
   "outputs": [
    {
     "name": "stdout",
     "output_type": "stream",
     "text": [
      "Do you want money: y\n",
      "here you go: $$$\n"
     ]
    }
   ],
   "source": [
    "response = pyip.inputYesNo('Do you want money: ')\n",
    "if response == 'yes': # y or YES or yes\n",
    "    print('here you go: $$$')\n",
    "else:\n",
    "    print('okay bye')"
   ]
  },
  {
   "cell_type": "code",
   "execution_count": 55,
   "metadata": {},
   "outputs": [
    {
     "name": "stdout",
     "output_type": "stream",
     "text": [
      "Do you want money: yes\n",
      "'yes' is not a valid yeahyeah/noway response.\n",
      "Do you want money: YES\n",
      "'YES' is not a valid yeahyeah/noway response.\n",
      "Do you want money: y\n",
      "here you go: $$$\n"
     ]
    }
   ],
   "source": [
    "response = pyip.inputYesNo('Do you want money: ', yesVal = 'yeahyeah', noVal = 'noway')\n",
    "if response == 'yeahyeah': # y or yeah yeah\n",
    "    print('here you go: $$$')\n",
    "elif response == 'noway':\n",
    "    print('okay bye')"
   ]
  },
  {
   "cell_type": "code",
   "execution_count": 56,
   "metadata": {},
   "outputs": [
    {
     "name": "stdout",
     "output_type": "stream",
     "text": [
      "Do you want money: nope\n",
      "'nope' is not a valid yeahyeah/noway response.\n",
      "Do you want money: no\n",
      "'no' is not a valid yeahyeah/noway response.\n",
      "Do you want money: n\n",
      "okay bye\n"
     ]
    }
   ],
   "source": [
    "response = pyip.inputYesNo('Do you want money: ', yesVal = 'yeahyeah', noVal = 'noway')\n",
    "if response == 'yeahyeah': # y or yeah yeah\n",
    "    print('here you go: $$$')\n",
    "elif response == 'noway':\n",
    "    print('okay bye')"
   ]
  },
  {
   "cell_type": "code",
   "execution_count": 58,
   "metadata": {},
   "outputs": [
    {
     "name": "stdout",
     "output_type": "stream",
     "text": [
      "Do you want money: yeahyeah\n",
      "here you go: $$$\n"
     ]
    }
   ],
   "source": [
    "# try it out\n",
    "\n",
    "response = pyip.inputYesNo('Do you want money: ', yesVal = 'yeahyeah', noVal = 'noway')\n",
    "if response == 'yeahyeah': # y or yeah yeah\n",
    "    print('here you go: $$$')\n",
    "elif response == 'noway':\n",
    "    print('okay bye')"
   ]
  },
  {
   "cell_type": "code",
   "execution_count": null,
   "metadata": {},
   "outputs": [],
   "source": []
  },
  {
   "cell_type": "markdown",
   "metadata": {},
   "source": [
    "____"
   ]
  },
  {
   "cell_type": "markdown",
   "metadata": {},
   "source": [
    "<a id=\"9\"></a>\n",
    "# 9. Multiplication Quiz\n",
    "([go to top](#top))"
   ]
  },
  {
   "cell_type": "code",
   "execution_count": 59,
   "metadata": {},
   "outputs": [],
   "source": [
    "import pyinputplus as pyip, random, time"
   ]
  },
  {
   "cell_type": "code",
   "execution_count": 71,
   "metadata": {},
   "outputs": [
    {
     "name": "stdout",
     "output_type": "stream",
     "text": [
      "Q0 : 9 x 4 = 36\n",
      "Correct!\n",
      "Q1 : 6 x 5 = 30\n",
      "Correct!\n",
      "Q2 : 6 x 6 = 36\n",
      "Correct!\n",
      "Q3 : 5 x 8 = 40\n",
      "Correct!\n",
      "Q4 : 7 x 6 = 42\n",
      "Correct!\n",
      "Q5 : 9 x 6 = 54\n",
      "Correct!\n",
      "Q6 : 9 x 7 = 63\n",
      "Correct!\n",
      "Q7 : 8 x 7 = 58\n",
      "Incorrect!\n",
      "Q7 : 8 x 7 = 56\n",
      "Out of time!\n",
      "Q8 : 5 x 6 = 30\n",
      "Correct!\n",
      "Q9 : 5 x 8 = 40\n",
      "Correct!\n",
      "Score: 9 / 10\n"
     ]
    }
   ],
   "source": [
    "noOfQuestions = 10\n",
    "correctAnswers = 0\n",
    "\n",
    "for question in range(noOfQuestions):\n",
    "    num1 = random.randint(5,9)\n",
    "    num2 = random.randint(4,9)\n",
    "    \n",
    "    prompt = 'Q%s : %s x %s = ' % (question, num1, num2)    \n",
    "    \n",
    "    # Right answers are handled by allowRegexes.\n",
    "     # Wrong answers are handled by blockRegexes, with a custom message. \n",
    "    try:\n",
    "        pyip.inputStr(prompt, \n",
    "                      allowRegexes = ['^%s$' % (num1 * num2)], \n",
    "                      blockRegexes = [('.*', 'Incorrect!')], \n",
    "                      timeout = 8, \n",
    "                      limit = 3)\n",
    "    except pyip.TimeoutException: \n",
    "        print('Out of time!')\n",
    "    except pyip.RetryLimitException: \n",
    "        print('Out of tries!')\n",
    "    else:\n",
    "        # This block runs if no exceptions were raised in the try block. \n",
    "        print('Correct!')\n",
    "        correctAnswers += 1\n",
    "        time.sleep(1) # Brief pause to let user see the result.\n",
    "        \n",
    "print('Score: %s / %s' % (correctAnswers, noOfQuestions))"
   ]
  },
  {
   "cell_type": "code",
   "execution_count": null,
   "metadata": {},
   "outputs": [],
   "source": []
  },
  {
   "cell_type": "code",
   "execution_count": null,
   "metadata": {},
   "outputs": [],
   "source": []
  },
  {
   "cell_type": "code",
   "execution_count": null,
   "metadata": {},
   "outputs": [],
   "source": [
    "s"
   ]
  },
  {
   "cell_type": "code",
   "execution_count": null,
   "metadata": {},
   "outputs": [],
   "source": []
  },
  {
   "cell_type": "code",
   "execution_count": null,
   "metadata": {},
   "outputs": [],
   "source": []
  },
  {
   "cell_type": "markdown",
   "metadata": {},
   "source": [
    "____"
   ]
  },
  {
   "cell_type": "markdown",
   "metadata": {},
   "source": [
    "<a id=\"10\"></a>\n",
    "# 10. Title\n",
    "([go to top](#top))"
   ]
  },
  {
   "cell_type": "markdown",
   "metadata": {},
   "source": [
    "____"
   ]
  },
  {
   "cell_type": "markdown",
   "metadata": {},
   "source": [
    "<a id=\"11\"></a>\n",
    "# 11. Title\n",
    "([go to top](#top))"
   ]
  },
  {
   "cell_type": "markdown",
   "metadata": {},
   "source": [
    "____"
   ]
  },
  {
   "cell_type": "markdown",
   "metadata": {},
   "source": [
    "<a id=\"12\"></a>\n",
    "# 12. Title\n",
    "([go to top](#top))"
   ]
  },
  {
   "cell_type": "markdown",
   "metadata": {},
   "source": [
    "____"
   ]
  },
  {
   "cell_type": "markdown",
   "metadata": {},
   "source": [
    "<a id=\"13\"></a>\n",
    "# 13. Title\n",
    "([go to top](#top))"
   ]
  },
  {
   "cell_type": "markdown",
   "metadata": {},
   "source": [
    "____"
   ]
  },
  {
   "cell_type": "markdown",
   "metadata": {},
   "source": [
    "<a id=\"14\"></a>\n",
    "# 14. Title\n",
    "([go to top](#top))"
   ]
  },
  {
   "cell_type": "markdown",
   "metadata": {},
   "source": [
    "____"
   ]
  },
  {
   "cell_type": "markdown",
   "metadata": {},
   "source": [
    "<a id=\"15\"></a>\n",
    "# 15. Title\n",
    "([go to top](#top))"
   ]
  },
  {
   "cell_type": "markdown",
   "metadata": {},
   "source": [
    "____"
   ]
  },
  {
   "cell_type": "markdown",
   "metadata": {},
   "source": [
    "<a id=\"16\"></a>\n",
    "# 16. Title\n",
    "([go to top](#top))"
   ]
  },
  {
   "cell_type": "markdown",
   "metadata": {},
   "source": [
    "____"
   ]
  },
  {
   "cell_type": "markdown",
   "metadata": {},
   "source": [
    "<a id=\"17\"></a>\n",
    "# 17. Title\n",
    "([go to top](#top))"
   ]
  },
  {
   "cell_type": "markdown",
   "metadata": {},
   "source": [
    "____"
   ]
  },
  {
   "cell_type": "markdown",
   "metadata": {},
   "source": [
    "<a id=\"18\"></a>\n",
    "# 18. Title\n",
    "([go to top](#top))"
   ]
  },
  {
   "cell_type": "markdown",
   "metadata": {},
   "source": [
    "____"
   ]
  },
  {
   "cell_type": "markdown",
   "metadata": {},
   "source": [
    "<a id=\"19\"></a>\n",
    "# 19. Title\n",
    "([go to top](#top))"
   ]
  },
  {
   "cell_type": "markdown",
   "metadata": {},
   "source": [
    "____"
   ]
  },
  {
   "cell_type": "markdown",
   "metadata": {},
   "source": [
    "<a id=\"20\"></a>\n",
    "# 20. Title\n",
    "([go to top](#top))"
   ]
  },
  {
   "cell_type": "markdown",
   "metadata": {},
   "source": [
    "____"
   ]
  },
  {
   "cell_type": "markdown",
   "metadata": {},
   "source": [
    "____"
   ]
  },
  {
   "cell_type": "code",
   "execution_count": 66,
   "metadata": {},
   "outputs": [],
   "source": [
    "pyip.inputStr?"
   ]
  },
  {
   "cell_type": "markdown",
   "metadata": {},
   "source": [
    "____"
   ]
  },
  {
   "cell_type": "code",
   "execution_count": null,
   "metadata": {},
   "outputs": [],
   "source": []
  }
 ],
 "metadata": {
  "kernelspec": {
   "display_name": "Python 3 (ipykernel)",
   "language": "python",
   "name": "python3"
  },
  "language_info": {
   "codemirror_mode": {
    "name": "ipython",
    "version": 3
   },
   "file_extension": ".py",
   "mimetype": "text/x-python",
   "name": "python",
   "nbconvert_exporter": "python",
   "pygments_lexer": "ipython3",
   "version": "3.10.1"
  }
 },
 "nbformat": 4,
 "nbformat_minor": 4
}
