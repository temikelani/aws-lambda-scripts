{
 "cells": [
  {
   "cell_type": "markdown",
   "metadata": {},
   "source": [
    "<a id=\"top\"></a>\n",
    "# Table of contents"
   ]
  },
  {
   "cell_type": "markdown",
   "metadata": {},
   "source": [
    "- [1. Import Module](#1)  \n",
    "- [2. Overview](#2)   \n",
    "- [3. Grouping w Parentheses](#3)\n",
    "- [4. Match parenthesis in your text](#4)\n",
    "- [5. Special Regex Characters](#5)\n",
    "- [6. Matching groups with the pipe `|`](#6)\n",
    "- [7. Optional Matching with Question Mark](#7)\n",
    "- [8. Zero or more matching with star *](#8)\n",
    "- [9. One or more matching with plus +](#9)\n",
    "- [10. Match Specific Repetitions with Braces](#10)\n",
    "- [11. Greedy or nah?](#11)\n",
    "- [12. `findall()` method](#13)\n",
    "- [13. Character Classes](#13)\n",
    "- [14. Make Your own Character Classes](#14)\n",
    "- [15. Caret and Dollar Sign Characters](#15)\n",
    "- [16. Wildcard Character .](#16)\n",
    "- [17. Recap](#17)\n",
    "- [18. Case-Insensitive Matching](#18)\n",
    "- [19.](#19)\n",
    "- [20.](#20)\n",
    "- [21.](#21)\n",
    "- [22.](#22)\n",
    "- [23.](#23)\n",
    "\n",
    "\n",
    " <a id=\"\"></a> "
   ]
  },
  {
   "cell_type": "markdown",
   "metadata": {},
   "source": [
    "____"
   ]
  },
  {
   "cell_type": "markdown",
   "metadata": {},
   "source": [
    "<a id=\"1\"></a>\n",
    "# 1. Import Module\n",
    "([go to top](#top))"
   ]
  },
  {
   "cell_type": "code",
   "execution_count": 2,
   "metadata": {},
   "outputs": [],
   "source": [
    "#import regex module\n",
    "# see re documentation in last cell\n",
    "\n",
    "import re\n",
    "\n",
    "# x = re.compile('enter pattern here')\n",
    "# y = x.search('enter tect to be match')\n",
    "# z, = y.group() # print out matched geoup"
   ]
  },
  {
   "cell_type": "markdown",
   "metadata": {},
   "source": [
    "____"
   ]
  },
  {
   "cell_type": "markdown",
   "metadata": {},
   "source": [
    "<a id=\"2\"></a>\n",
    "# 2. Overview\n",
    "([go to top](#top))"
   ]
  },
  {
   "cell_type": "code",
   "execution_count": 5,
   "metadata": {},
   "outputs": [
    {
     "name": "stdout",
     "output_type": "stream",
     "text": [
      "Phone number found: 415-555-4242\n"
     ]
    }
   ],
   "source": [
    "# phone number pattern is all digits()\n",
    "phoneNumRegex = re.compile(r'\\d\\d\\d-\\d\\d\\d-\\d\\d\\d\\d') #raw string\n",
    "mo = phoneNumRegex.search('My number is 415-555-4242.')\n",
    "print('Phone number found: ' + mo.group())"
   ]
  },
  {
   "cell_type": "markdown",
   "metadata": {},
   "source": [
    "____"
   ]
  },
  {
   "cell_type": "markdown",
   "metadata": {},
   "source": [
    "<a id=\"3\"></a>\n",
    "# 3. Grouping w Parentheses\n",
    "([go to top](#top))"
   ]
  },
  {
   "cell_type": "code",
   "execution_count": 6,
   "metadata": {},
   "outputs": [],
   "source": [
    "phoneNumRegex = re.compile(r'(\\d\\d\\d)-(\\d\\d\\d-\\d\\d\\d\\d)') \n",
    "mo = phoneNumRegex.search('My number is 415-555-4242.')"
   ]
  },
  {
   "cell_type": "code",
   "execution_count": 7,
   "metadata": {},
   "outputs": [
    {
     "data": {
      "text/plain": [
       "'415-555-4242'"
      ]
     },
     "execution_count": 7,
     "metadata": {},
     "output_type": "execute_result"
    }
   ],
   "source": [
    "mo.group()"
   ]
  },
  {
   "cell_type": "code",
   "execution_count": 10,
   "metadata": {},
   "outputs": [
    {
     "data": {
      "text/plain": [
       "'415-555-4242'"
      ]
     },
     "execution_count": 10,
     "metadata": {},
     "output_type": "execute_result"
    }
   ],
   "source": [
    "mo.group(0)"
   ]
  },
  {
   "cell_type": "code",
   "execution_count": 17,
   "metadata": {},
   "outputs": [
    {
     "data": {
      "text/plain": [
       "('415', '555-4242')"
      ]
     },
     "execution_count": 17,
     "metadata": {},
     "output_type": "execute_result"
    }
   ],
   "source": [
    "mo.groups()\n",
    "# returns a tuple of multiple values"
   ]
  },
  {
   "cell_type": "code",
   "execution_count": 8,
   "metadata": {},
   "outputs": [
    {
     "data": {
      "text/plain": [
       "'415'"
      ]
     },
     "execution_count": 8,
     "metadata": {},
     "output_type": "execute_result"
    }
   ],
   "source": [
    "mo.group(1)"
   ]
  },
  {
   "cell_type": "code",
   "execution_count": 9,
   "metadata": {},
   "outputs": [
    {
     "data": {
      "text/plain": [
       "'555-4242'"
      ]
     },
     "execution_count": 9,
     "metadata": {},
     "output_type": "execute_result"
    }
   ],
   "source": [
    "mo.group(2)"
   ]
  },
  {
   "cell_type": "code",
   "execution_count": 19,
   "metadata": {},
   "outputs": [
    {
     "name": "stdout",
     "output_type": "stream",
     "text": [
      "415 and 555-4242\n"
     ]
    }
   ],
   "source": [
    "areacode, mainNum = mo.groups()\n",
    "print(areacode, 'and',  mainNum)"
   ]
  },
  {
   "cell_type": "markdown",
   "metadata": {},
   "source": [
    "____"
   ]
  },
  {
   "cell_type": "markdown",
   "metadata": {},
   "source": [
    "<a id=\"4\"></a>\n",
    "# 4. Match parenthesis in your text\n",
    "- `\\( and \\)`  \n",
    "([go to top](#top))"
   ]
  },
  {
   "cell_type": "code",
   "execution_count": 20,
   "metadata": {},
   "outputs": [],
   "source": [
    "phoneNumRegex = re.compile(r'(\\(\\d\\d\\d\\))-(\\d\\d\\d-\\d\\d\\d\\d)') \n",
    "mo = phoneNumRegex.search('My number is (415)-555-4242.')"
   ]
  },
  {
   "cell_type": "code",
   "execution_count": 21,
   "metadata": {},
   "outputs": [
    {
     "data": {
      "text/plain": [
       "('(415)', '555-4242')"
      ]
     },
     "execution_count": 21,
     "metadata": {},
     "output_type": "execute_result"
    }
   ],
   "source": [
    "mo.groups()"
   ]
  },
  {
   "cell_type": "code",
   "execution_count": 22,
   "metadata": {},
   "outputs": [
    {
     "data": {
      "text/plain": [
       "'(415)'"
      ]
     },
     "execution_count": 22,
     "metadata": {},
     "output_type": "execute_result"
    }
   ],
   "source": [
    "mo.group(1)"
   ]
  },
  {
   "cell_type": "code",
   "execution_count": 23,
   "metadata": {},
   "outputs": [
    {
     "data": {
      "text/plain": [
       "'555-4242'"
      ]
     },
     "execution_count": 23,
     "metadata": {},
     "output_type": "execute_result"
    }
   ],
   "source": [
    "mo.group(2)"
   ]
  },
  {
   "cell_type": "markdown",
   "metadata": {},
   "source": [
    "____"
   ]
  },
  {
   "cell_type": "markdown",
   "metadata": {},
   "source": [
    "<a id=\"5\"></a>\n",
    "# 5. Special Regex Characters\n",
    "([go to top](#top))"
   ]
  },
  {
   "cell_type": "markdown",
   "metadata": {},
   "source": [
    "` . ^ $ * + ? { } [ ] \\ | ( ) `"
   ]
  },
  {
   "cell_type": "markdown",
   "metadata": {},
   "source": [
    "`to use these ad a \\ in front`"
   ]
  },
  {
   "cell_type": "markdown",
   "metadata": {},
   "source": [
    "____"
   ]
  },
  {
   "cell_type": "markdown",
   "metadata": {},
   "source": [
    "<a id=\"6\"></a>\n",
    "# 6. Matching groups with the pipe `|`\n",
    "- `The regular expression r'Batman|Tina Fey' will match either 'Batman' or 'Tina Fey'.\n",
    "When both Batman and Tina Fey occur in the searched string, the first occurrence of matching text will be returned as the Match object`  \n",
    "([go to top](#top))"
   ]
  },
  {
   "cell_type": "code",
   "execution_count": 38,
   "metadata": {},
   "outputs": [],
   "source": [
    "heroRegex = re.compile(r'Batman|Tina Fey')"
   ]
  },
  {
   "cell_type": "code",
   "execution_count": 39,
   "metadata": {},
   "outputs": [
    {
     "data": {
      "text/plain": [
       "'Batman'"
      ]
     },
     "execution_count": 39,
     "metadata": {},
     "output_type": "execute_result"
    }
   ],
   "source": [
    "mo1 = heroRegex.search('Batman and Tina Fey')\n",
    "mo1.group()"
   ]
  },
  {
   "cell_type": "code",
   "execution_count": 41,
   "metadata": {},
   "outputs": [
    {
     "data": {
      "text/plain": [
       "'Tina Fey'"
      ]
     },
     "execution_count": 41,
     "metadata": {},
     "output_type": "execute_result"
    }
   ],
   "source": [
    "mo2 = heroRegex.search('Tina Fey and Batman')\n",
    "mo2.group()"
   ]
  },
  {
   "cell_type": "markdown",
   "metadata": {},
   "source": [
    "`--------------------------------------------------------------------------------------------------------------`"
   ]
  },
  {
   "cell_type": "markdown",
   "metadata": {},
   "source": [
    "- `You can also use the pipe to match one of several patterns as part of your regex. \n",
    "For example, say you wanted to match any of the strings 'Batman', 'Batmobile', 'Batcopter', and 'Batbat'.`"
   ]
  },
  {
   "cell_type": "code",
   "execution_count": 47,
   "metadata": {},
   "outputs": [],
   "source": [
    "batRegex = re.compile(r'Bat(man|mobile|copter|bat)')"
   ]
  },
  {
   "cell_type": "code",
   "execution_count": 50,
   "metadata": {},
   "outputs": [],
   "source": [
    "mo = batRegex.search('Batmobile lost a wheel')"
   ]
  },
  {
   "cell_type": "code",
   "execution_count": 51,
   "metadata": {},
   "outputs": [
    {
     "data": {
      "text/plain": [
       "'Batmobile'"
      ]
     },
     "execution_count": 51,
     "metadata": {},
     "output_type": "execute_result"
    }
   ],
   "source": [
    "mo.group()"
   ]
  },
  {
   "cell_type": "code",
   "execution_count": 52,
   "metadata": {},
   "outputs": [
    {
     "data": {
      "text/plain": [
       "'mobile'"
      ]
     },
     "execution_count": 52,
     "metadata": {},
     "output_type": "execute_result"
    }
   ],
   "source": [
    "mo.group(1)"
   ]
  },
  {
   "cell_type": "markdown",
   "metadata": {},
   "source": [
    "`--------------------------------------------------------------------------------------------------------------`"
   ]
  },
  {
   "cell_type": "code",
   "execution_count": 44,
   "metadata": {},
   "outputs": [
    {
     "data": {
      "text/plain": [
       "['Tina Fey', 'Batman']"
      ]
     },
     "execution_count": 44,
     "metadata": {},
     "output_type": "execute_result"
    }
   ],
   "source": [
    "mo3 = heroRegex.findall('Tina Fey and Batman')\n",
    "mo3"
   ]
  },
  {
   "cell_type": "markdown",
   "metadata": {},
   "source": [
    "____"
   ]
  },
  {
   "cell_type": "markdown",
   "metadata": {},
   "source": [
    "<a id=\"7\"></a>\n",
    "# 7. Optional Matching with Question Mark\n",
    "-  `The ? character flags the group that precedes it as an optional part of the pattern\n",
    "That is, the regex should find a match regardless of whether that bit of text is there.`.   \n",
    "\n",
    "\n",
    "([go to top](#top))"
   ]
  },
  {
   "cell_type": "code",
   "execution_count": 53,
   "metadata": {},
   "outputs": [],
   "source": [
    "batRegex = re.compile(r'Bat(wo)?man')"
   ]
  },
  {
   "cell_type": "code",
   "execution_count": 54,
   "metadata": {},
   "outputs": [
    {
     "data": {
      "text/plain": [
       "'Batman'"
      ]
     },
     "execution_count": 54,
     "metadata": {},
     "output_type": "execute_result"
    }
   ],
   "source": [
    "mo1 = batRegex.search('The Adventures of Batman')\n",
    "mo1.group()"
   ]
  },
  {
   "cell_type": "code",
   "execution_count": 58,
   "metadata": {},
   "outputs": [
    {
     "data": {
      "text/plain": [
       "'Batwoman'"
      ]
     },
     "execution_count": 58,
     "metadata": {},
     "output_type": "execute_result"
    }
   ],
   "source": [
    "mo2 = batRegex.search('The Adventures of Batwoman')\n",
    "mo2.group()"
   ]
  },
  {
   "cell_type": "markdown",
   "metadata": {},
   "source": [
    "`--------------------------------------------------------------------------------------------------------------`"
   ]
  },
  {
   "cell_type": "code",
   "execution_count": 59,
   "metadata": {},
   "outputs": [],
   "source": [
    "phoneRegex = re.compile(r'(\\d\\d\\d-)?\\d\\d\\d-\\d\\d\\d\\d')"
   ]
  },
  {
   "cell_type": "code",
   "execution_count": 60,
   "metadata": {},
   "outputs": [
    {
     "data": {
      "text/plain": [
       "'415-555-4242'"
      ]
     },
     "execution_count": 60,
     "metadata": {},
     "output_type": "execute_result"
    }
   ],
   "source": [
    "mo1 = phoneRegex.search('My number is 415-555-4242')\n",
    "mo1.group()"
   ]
  },
  {
   "cell_type": "code",
   "execution_count": 62,
   "metadata": {},
   "outputs": [
    {
     "data": {
      "text/plain": [
       "'415-'"
      ]
     },
     "execution_count": 62,
     "metadata": {},
     "output_type": "execute_result"
    }
   ],
   "source": [
    "mo1.group(1)"
   ]
  },
  {
   "cell_type": "code",
   "execution_count": 61,
   "metadata": {},
   "outputs": [
    {
     "data": {
      "text/plain": [
       "'555-4242'"
      ]
     },
     "execution_count": 61,
     "metadata": {},
     "output_type": "execute_result"
    }
   ],
   "source": [
    "mo2 = phoneRegex.search('My number is 555-4242')\n",
    "mo2.group()"
   ]
  },
  {
   "cell_type": "markdown",
   "metadata": {},
   "source": [
    "____"
   ]
  },
  {
   "cell_type": "markdown",
   "metadata": {},
   "source": [
    "<a id=\"8\"></a>\n",
    "# 8. Zero or more matching with star *\n",
    "([go to top](#top))"
   ]
  },
  {
   "cell_type": "code",
   "execution_count": 63,
   "metadata": {},
   "outputs": [],
   "source": [
    "batRegex = re.compile(r'Bat(wo)*man')"
   ]
  },
  {
   "cell_type": "code",
   "execution_count": 64,
   "metadata": {},
   "outputs": [
    {
     "data": {
      "text/plain": [
       "'Batman'"
      ]
     },
     "execution_count": 64,
     "metadata": {},
     "output_type": "execute_result"
    }
   ],
   "source": [
    "mo1 = batRegex.search('The Adventures of Batman')\n",
    "mo1.group()"
   ]
  },
  {
   "cell_type": "code",
   "execution_count": 65,
   "metadata": {},
   "outputs": [
    {
     "data": {
      "text/plain": [
       "'Batwoman'"
      ]
     },
     "execution_count": 65,
     "metadata": {},
     "output_type": "execute_result"
    }
   ],
   "source": [
    "mo2 = batRegex.search('The Adventures of Batwoman')\n",
    "mo2.group()"
   ]
  },
  {
   "cell_type": "code",
   "execution_count": 70,
   "metadata": {},
   "outputs": [
    {
     "data": {
      "text/plain": [
       "'wo'"
      ]
     },
     "execution_count": 70,
     "metadata": {},
     "output_type": "execute_result"
    }
   ],
   "source": [
    "mo2.group(1)"
   ]
  },
  {
   "cell_type": "code",
   "execution_count": 68,
   "metadata": {},
   "outputs": [
    {
     "data": {
      "text/plain": [
       "'Batwowowowoman'"
      ]
     },
     "execution_count": 68,
     "metadata": {},
     "output_type": "execute_result"
    }
   ],
   "source": [
    "mo3 = batRegex.search('The Adventures of Batwowowowoman')\n",
    "mo3.group()"
   ]
  },
  {
   "cell_type": "code",
   "execution_count": 69,
   "metadata": {},
   "outputs": [
    {
     "data": {
      "text/plain": [
       "'wo'"
      ]
     },
     "execution_count": 69,
     "metadata": {},
     "output_type": "execute_result"
    }
   ],
   "source": [
    "mo3.group(1)"
   ]
  },
  {
   "cell_type": "code",
   "execution_count": 6,
   "metadata": {},
   "outputs": [],
   "source": [
    "#match any and evry possible string"
   ]
  },
  {
   "cell_type": "code",
   "execution_count": 4,
   "metadata": {},
   "outputs": [],
   "source": [
    "batRegex = re.compile(r'.*')"
   ]
  },
  {
   "cell_type": "code",
   "execution_count": 5,
   "metadata": {},
   "outputs": [
    {
     "data": {
      "text/plain": [
       "'The Adventures of Batman'"
      ]
     },
     "execution_count": 5,
     "metadata": {},
     "output_type": "execute_result"
    }
   ],
   "source": [
    "mo1 = batRegex.search('The Adventures of Batman')\n",
    "mo1.group()"
   ]
  },
  {
   "cell_type": "markdown",
   "metadata": {},
   "source": [
    "____"
   ]
  },
  {
   "cell_type": "markdown",
   "metadata": {},
   "source": [
    "<a id=\"9\"></a>\n",
    "# 9. One or more matching with plus +\n",
    "- `While * means “match zero or more,” the + (or plus) means “match one or more.” \n",
    "Unlike the star, which does not require its group to appear in the matched string, the group preceding a plus must appear at least once. \n",
    "It is not optional.`\n",
    "\n",
    "([go to top](#top))"
   ]
  },
  {
   "cell_type": "code",
   "execution_count": 25,
   "metadata": {},
   "outputs": [],
   "source": [
    "batRegex = re.compile(r'Bat(wo)+man')"
   ]
  },
  {
   "cell_type": "code",
   "execution_count": 77,
   "metadata": {},
   "outputs": [
    {
     "data": {
      "text/plain": [
       "'Batwoman'"
      ]
     },
     "execution_count": 77,
     "metadata": {},
     "output_type": "execute_result"
    }
   ],
   "source": [
    "mo1 = batRegex.search('The Adventures of Batwoman')\n",
    "mo1.group()"
   ]
  },
  {
   "cell_type": "code",
   "execution_count": 76,
   "metadata": {},
   "outputs": [
    {
     "data": {
      "text/plain": [
       "'Batwowowoman'"
      ]
     },
     "execution_count": 76,
     "metadata": {},
     "output_type": "execute_result"
    }
   ],
   "source": [
    "mo2 = batRegex.search('The Adventures of Batwowowoman')\n",
    "mo2.group()"
   ]
  },
  {
   "cell_type": "markdown",
   "metadata": {},
   "source": [
    "- `The regex Bat(wo)+man will not match the string 'The Adventures of Batman', because at least one wo is required by the plus sign.`"
   ]
  },
  {
   "cell_type": "code",
   "execution_count": 78,
   "metadata": {},
   "outputs": [
    {
     "ename": "AttributeError",
     "evalue": "'NoneType' object has no attribute 'group'",
     "output_type": "error",
     "traceback": [
      "\u001b[0;31m---------------------------------------------------------------------------\u001b[0m",
      "\u001b[0;31mAttributeError\u001b[0m                            Traceback (most recent call last)",
      "\u001b[0;32m<ipython-input-78-a63afd945b67>\u001b[0m in \u001b[0;36m<module>\u001b[0;34m\u001b[0m\n\u001b[1;32m      1\u001b[0m \u001b[0mmo3\u001b[0m \u001b[0;34m=\u001b[0m \u001b[0mbatRegex\u001b[0m\u001b[0;34m.\u001b[0m\u001b[0msearch\u001b[0m\u001b[0;34m(\u001b[0m\u001b[0;34m'The Adventures of Batman'\u001b[0m\u001b[0;34m)\u001b[0m\u001b[0;34m\u001b[0m\u001b[0;34m\u001b[0m\u001b[0m\n\u001b[0;32m----> 2\u001b[0;31m \u001b[0mmo3\u001b[0m\u001b[0;34m.\u001b[0m\u001b[0mgroup\u001b[0m\u001b[0;34m(\u001b[0m\u001b[0;34m)\u001b[0m\u001b[0;34m\u001b[0m\u001b[0;34m\u001b[0m\u001b[0m\n\u001b[0m",
      "\u001b[0;31mAttributeError\u001b[0m: 'NoneType' object has no attribute 'group'"
     ]
    }
   ],
   "source": [
    "mo3 = batRegex.search('The Adventures of Batman')\n",
    "mo3.group()"
   ]
  },
  {
   "cell_type": "markdown",
   "metadata": {},
   "source": [
    "____"
   ]
  },
  {
   "cell_type": "markdown",
   "metadata": {},
   "source": [
    "<a id=\"10\"></a>\n",
    "# 10. Match Specific Repetitions with Braces\n",
    "([go to top](#top))"
   ]
  },
  {
   "cell_type": "markdown",
   "metadata": {},
   "source": [
    "- ` For example, the regex (Ha){3} will match the string 'HaHaHa', but it will not match 'HaHa', since the latter has only two repeats of the (Ha) group.\n",
    "Instead of one number, you can specify a range by writing a minimum, a comma, and a maximum in between the braces. For example, the regex (Ha){3,5} will match 'HaHaHa', 'HaHaHaHa', and 'HaHaHaHaHa'.\n",
    "You can also leave out the first or second number in the braces to leave the minimum or maximum unbounded. For example, (Ha){3,} will match three or more instances of the (Ha) group, while (Ha){,5} will match zero\n",
    "to five instances. Braces can help make your regular expressions shorter. These two regular expressions match identical patterns:`"
   ]
  },
  {
   "cell_type": "code",
   "execution_count": 81,
   "metadata": {},
   "outputs": [],
   "source": [
    "haRegex = re.compile(r'(Ha){3}')"
   ]
  },
  {
   "cell_type": "code",
   "execution_count": 83,
   "metadata": {},
   "outputs": [
    {
     "data": {
      "text/plain": [
       "'HaHaHa'"
      ]
     },
     "execution_count": 83,
     "metadata": {},
     "output_type": "execute_result"
    }
   ],
   "source": [
    "mo1 = haRegex.search('HaHaHa')\n",
    "mo1.group()"
   ]
  },
  {
   "cell_type": "code",
   "execution_count": 89,
   "metadata": {},
   "outputs": [
    {
     "data": {
      "text/plain": [
       "True"
      ]
     },
     "execution_count": 89,
     "metadata": {},
     "output_type": "execute_result"
    }
   ],
   "source": [
    "mo2 = haRegex.search('Ha')\n",
    "mo2 == None"
   ]
  },
  {
   "cell_type": "code",
   "execution_count": 91,
   "metadata": {},
   "outputs": [
    {
     "ename": "AttributeError",
     "evalue": "'NoneType' object has no attribute 'group'",
     "output_type": "error",
     "traceback": [
      "\u001b[0;31m---------------------------------------------------------------------------\u001b[0m",
      "\u001b[0;31mAttributeError\u001b[0m                            Traceback (most recent call last)",
      "\u001b[0;32m<ipython-input-91-fe964b823f27>\u001b[0m in \u001b[0;36m<module>\u001b[0;34m\u001b[0m\n\u001b[0;32m----> 1\u001b[0;31m \u001b[0mmo2\u001b[0m\u001b[0;34m.\u001b[0m\u001b[0mgroup\u001b[0m\u001b[0;34m(\u001b[0m\u001b[0;34m)\u001b[0m\u001b[0;34m\u001b[0m\u001b[0;34m\u001b[0m\u001b[0m\n\u001b[0m",
      "\u001b[0;31mAttributeError\u001b[0m: 'NoneType' object has no attribute 'group'"
     ]
    }
   ],
   "source": [
    "mo2.group()"
   ]
  },
  {
   "cell_type": "markdown",
   "metadata": {},
   "source": [
    "____"
   ]
  },
  {
   "cell_type": "markdown",
   "metadata": {},
   "source": [
    "<a id=\"11\"></a>\n",
    "# 11. Greedy or nah?\n",
    "- `Since (Ha){3,5} can match three, four, or five instances of Ha in the string 'HaHaHaHaHa', you may wonder why the Match object’s call to group() in the previous brace example returns 'HaHaHaHaHa' instead of the shorter possibili- ties. After all, 'HaHaHa' and 'HaHaHaHa' are also valid matches of the regular expression (Ha){3,5}.\n",
    "Python’s regular expressions are greedy by default, which means that in ambiguous situations they will match the longest string possible. The non- greedy (also called lazy) version of the braces, which matches the shortest string possible, has the closing brace followed by a question mark.\n",
    "Enter the following into the interactive shell, and notice the differ- ence between the greedy and non-greedy forms of the braces searching the same string:`\n",
    "\n",
    "([go to top](#top))"
   ]
  },
  {
   "cell_type": "code",
   "execution_count": 92,
   "metadata": {},
   "outputs": [],
   "source": [
    "greedyRegex = re.compile(r'(Ha){3,5}')"
   ]
  },
  {
   "cell_type": "code",
   "execution_count": 93,
   "metadata": {},
   "outputs": [
    {
     "data": {
      "text/plain": [
       "'HaHaHaHaHa'"
      ]
     },
     "execution_count": 93,
     "metadata": {},
     "output_type": "execute_result"
    }
   ],
   "source": [
    "mo1 = greedyRegex.search('HaHaHaHaHa')\n",
    "mo1.group()"
   ]
  },
  {
   "cell_type": "code",
   "execution_count": 94,
   "metadata": {},
   "outputs": [
    {
     "data": {
      "text/plain": [
       "'Ha'"
      ]
     },
     "execution_count": 94,
     "metadata": {},
     "output_type": "execute_result"
    }
   ],
   "source": [
    "mo1.group(1)"
   ]
  },
  {
   "cell_type": "markdown",
   "metadata": {},
   "source": [
    "`--------------------------------------------------------------------------------------------------------------`"
   ]
  },
  {
   "cell_type": "code",
   "execution_count": 62,
   "metadata": {},
   "outputs": [],
   "source": [
    "nonGreedyRegex = re.compile(r'(Ha){3,5}?')"
   ]
  },
  {
   "cell_type": "code",
   "execution_count": 63,
   "metadata": {},
   "outputs": [
    {
     "data": {
      "text/plain": [
       "'HaHaHa'"
      ]
     },
     "execution_count": 63,
     "metadata": {},
     "output_type": "execute_result"
    }
   ],
   "source": [
    "mo2 = nonGreedyRegex.search('HaHaHaHaHa  HaHaHa')\n",
    "mo2.group()"
   ]
  },
  {
   "cell_type": "markdown",
   "metadata": {},
   "source": [
    "____"
   ]
  },
  {
   "cell_type": "markdown",
   "metadata": {},
   "source": [
    "<a id=\"12\"></a>\n",
    "# 12. `findall()` method\n",
    "([go to top](#top))"
   ]
  },
  {
   "cell_type": "code",
   "execution_count": 115,
   "metadata": {},
   "outputs": [],
   "source": [
    "phoneNumRegex = re.compile(r'\\d\\d\\d-\\d\\d\\d-\\d\\d\\d\\d')"
   ]
  },
  {
   "cell_type": "code",
   "execution_count": 116,
   "metadata": {},
   "outputs": [
    {
     "data": {
      "text/plain": [
       "'212-555-0000'"
      ]
     },
     "execution_count": 116,
     "metadata": {},
     "output_type": "execute_result"
    }
   ],
   "source": [
    "mo = phoneNumRegex.search('Cell: 415-555-999 Work: 212-555-0000')\n",
    "mo.group()"
   ]
  },
  {
   "cell_type": "markdown",
   "metadata": {},
   "source": [
    "`-----------------------------------------------------------------------------------------------------`"
   ]
  },
  {
   "cell_type": "code",
   "execution_count": 117,
   "metadata": {},
   "outputs": [],
   "source": [
    "phoneNumRegex = re.compile(r'\\d\\d\\d-\\d\\d\\d-\\d\\d\\d\\d')"
   ]
  },
  {
   "cell_type": "code",
   "execution_count": 118,
   "metadata": {},
   "outputs": [
    {
     "data": {
      "text/plain": [
       "['415-555-9999', '212-555-0000']"
      ]
     },
     "execution_count": 118,
     "metadata": {},
     "output_type": "execute_result"
    }
   ],
   "source": [
    "mo1 = phoneNumRegex.findall('Cell: 415-555-9999 Work: 212-555-0000')\n",
    "mo1"
   ]
  },
  {
   "cell_type": "markdown",
   "metadata": {},
   "source": [
    "`If there are groups in the regular expression, then findall() will return a list of tuples. \n",
    "Each tuple represents a found match, and its items are the matched strings for each group in the regex. \n",
    "To see findall() in action, enter the following into the interactive shell (notice that the regular expres- sion being compiled now has groups in parentheses):`"
   ]
  },
  {
   "cell_type": "code",
   "execution_count": 119,
   "metadata": {},
   "outputs": [],
   "source": [
    "phoneNumRegex = re.compile(r'(\\d\\d\\d)-(\\d\\d\\d)-(\\d\\d\\d\\d)')"
   ]
  },
  {
   "cell_type": "code",
   "execution_count": 120,
   "metadata": {},
   "outputs": [
    {
     "data": {
      "text/plain": [
       "[('415', '555', '9999'), ('212', '555', '0000')]"
      ]
     },
     "execution_count": 120,
     "metadata": {},
     "output_type": "execute_result"
    }
   ],
   "source": [
    "mo2 = phoneNumRegex.findall('Cell: 415-555-9999 Work: 212-555-0000')\n",
    "mo2"
   ]
  },
  {
   "cell_type": "code",
   "execution_count": null,
   "metadata": {},
   "outputs": [],
   "source": []
  },
  {
   "cell_type": "markdown",
   "metadata": {},
   "source": [
    "____"
   ]
  },
  {
   "cell_type": "markdown",
   "metadata": {},
   "source": [
    "<a id=\"13\"></a>\n",
    "# 13. Character Classes\n",
    "([go to top](#top))"
   ]
  },
  {
   "cell_type": "markdown",
   "metadata": {},
   "source": [
    "`\\d \n",
    "Any numeric digit from 0 to 9.\n",
    "\n",
    "\\D\n",
    "Any character that is not a numeric digit from 0 to 9.\n",
    "\n",
    "\\w\n",
    "Any letter, numeric digit, or the underscore character. (Think of this as matching “word” characters.)\n",
    "\n",
    "\\W\n",
    "Any character that is not a letter, numeric digit, or the underscore character.\n",
    "\n",
    "\\s\n",
    "Any space, tab, or newline character. (Think of this as matching “space” characters.)\n",
    "  \n",
    "\\S\n",
    "Any character that is not a space, tab, or newline.`"
   ]
  },
  {
   "cell_type": "markdown",
   "metadata": {},
   "source": [
    "`Character classes are nice for shortening regular expressions. The char- acter class [0-5] will match only the numbers 0 to 5; this is much shorter than typing (0|1|2|3|4|5). Note that while \\d matches digits and \\w matches digits, letters, and the underscore, there is no shorthand character class that matches only letters. (Though you can use the [a-zA-Z] character class, as explained next.)`"
   ]
  },
  {
   "cell_type": "code",
   "execution_count": 124,
   "metadata": {},
   "outputs": [
    {
     "data": {
      "text/plain": [
       "['12 drummers',\n",
       " '11 pipers',\n",
       " '10 lords',\n",
       " '9 ladies',\n",
       " '8 maids',\n",
       " '7 swans',\n",
       " '6 geese',\n",
       " '5 rings',\n",
       " '4 birds',\n",
       " '3 hens',\n",
       " '2 doves',\n",
       " '1 partridge']"
      ]
     },
     "execution_count": 124,
     "metadata": {},
     "output_type": "execute_result"
    }
   ],
   "source": [
    "xmasRegex = re.compile(r'\\d+\\s\\w+')\n",
    "xmasRegex.findall('12 drummers, 11 pipers, 10 lords, 9 ladies, 8 maids, 7 swans, 6 geese, 5 rings, 4 birds, 3 hens, 2 doves, 1 partridge')\n",
    "['12 drummers', '11 pipers', '10 lords', '9 ladies', '8 maids', '7 swans', '6 geese', '5 rings', '4 birds', '3 hens', '2 doves', '1 partridge']"
   ]
  },
  {
   "cell_type": "markdown",
   "metadata": {},
   "source": [
    "____"
   ]
  },
  {
   "cell_type": "markdown",
   "metadata": {},
   "source": [
    "<a id=\"14\"></a>\n",
    "# 14. Make Your own Character Classes\n",
    "- `There are times when you want to match a set of characters but the short- hand character classes (\\d, \\w, \\s, and so on) are too broad. \n",
    "You can define your own character class using square brackets. \n",
    "For example, the character class [aeiouAEIOU] will match any vowel, \n",
    "both lowercase and uppercase. Enter the following into the interactive shell:`\n",
    "\n",
    "\n",
    "([go to top](#top))"
   ]
  },
  {
   "cell_type": "code",
   "execution_count": 130,
   "metadata": {},
   "outputs": [],
   "source": [
    "vowelRegex = re.compile(r'[aeiouAEIOU]')"
   ]
  },
  {
   "cell_type": "code",
   "execution_count": 131,
   "metadata": {},
   "outputs": [
    {
     "data": {
      "text/plain": [
       "['o', 'o', 'o', 'e', 'a', 'a', 'o', 'o']"
      ]
     },
     "execution_count": 131,
     "metadata": {},
     "output_type": "execute_result"
    }
   ],
   "source": [
    "vowelRegex.findall('Robocop eats baby food')"
   ]
  },
  {
   "cell_type": "markdown",
   "metadata": {},
   "source": [
    "`--------------------------------------------------------------------------------------------------------------`"
   ]
  },
  {
   "cell_type": "code",
   "execution_count": 135,
   "metadata": {},
   "outputs": [],
   "source": [
    "vowelRegex2 = re.compile(r'[a-zA-Z0-9]')"
   ]
  },
  {
   "cell_type": "code",
   "execution_count": 137,
   "metadata": {},
   "outputs": [
    {
     "data": {
      "text/plain": [
       "['R',\n",
       " 'o',\n",
       " 'b',\n",
       " 'o',\n",
       " 'c',\n",
       " 'o',\n",
       " 'p',\n",
       " 'e',\n",
       " 'a',\n",
       " 't',\n",
       " 's',\n",
       " 'b',\n",
       " 'a',\n",
       " 'b',\n",
       " 'y',\n",
       " 'f',\n",
       " 'o',\n",
       " 'o',\n",
       " 'd',\n",
       " '3',\n",
       " '4',\n",
       " '5']"
      ]
     },
     "execution_count": 137,
     "metadata": {},
     "output_type": "execute_result"
    }
   ],
   "source": [
    "vowelRegex2.findall('Robocop eats baby food 345')"
   ]
  },
  {
   "cell_type": "markdown",
   "metadata": {},
   "source": [
    "`--------------------------------------------------------------------------------------------------------------`"
   ]
  },
  {
   "cell_type": "markdown",
   "metadata": {},
   "source": [
    "- `Note that inside the square brackets, the normal regular expression symbols are not interpreted as such. \n",
    "This means you do not need to escape the ., *, ?, or () characters with a preceding backslash. \n",
    "For example, the character class [0-5.] will match digits 0 to 5 and a period. \n",
    "You do not need to write it as [0-5\\.].\n",
    "By placing a caret character (^) just after the character class’s opening bracket, you can make a negative character class. \n",
    "A negative character class will match all the characters that are not in the character class. \n",
    "For example:`"
   ]
  },
  {
   "cell_type": "code",
   "execution_count": 138,
   "metadata": {},
   "outputs": [
    {
     "data": {
      "text/plain": [
       "['R',\n",
       " 'b',\n",
       " 'C',\n",
       " 'p',\n",
       " ' ',\n",
       " 't',\n",
       " 's',\n",
       " ' ',\n",
       " 'b',\n",
       " 'b',\n",
       " 'y',\n",
       " ' ',\n",
       " 'f',\n",
       " 'd',\n",
       " '.',\n",
       " ' ',\n",
       " 'B',\n",
       " 'B',\n",
       " 'Y',\n",
       " ' ',\n",
       " 'F',\n",
       " 'D',\n",
       " '.']"
      ]
     },
     "execution_count": 138,
     "metadata": {},
     "output_type": "execute_result"
    }
   ],
   "source": [
    "consonantRegex = re.compile(r'[^aeiouAEIOU]')\n",
    "consonantRegex.findall('RoboCop eats baby food. BABY FOOD.')"
   ]
  },
  {
   "cell_type": "markdown",
   "metadata": {},
   "source": [
    "____"
   ]
  },
  {
   "cell_type": "markdown",
   "metadata": {},
   "source": [
    "<a id=\"15\"></a>\n",
    "# 15. Caret and Dollar Sign Characters $ ^\n",
    "([go to top](#top))"
   ]
  },
  {
   "cell_type": "markdown",
   "metadata": {},
   "source": [
    "`You can also use the caret symbol (^) at the start of a regex to indicate that a match must occur at the beginning of the searched text. \n",
    "Likewise, you can put a dollar sign ($) at the end of the regex to indicate the string must end with this regex pattern. \n",
    "And you can use the ^ and $ together to indicate that the entire string must match the regex—that is, it’s not enough for a match to be made on some subset of the string.\n",
    "For example, the r'^Hello' regular expression string matches strings that begin with 'Hello'. `"
   ]
  },
  {
   "cell_type": "code",
   "execution_count": 4,
   "metadata": {},
   "outputs": [],
   "source": [
    "beginsWithHello = re.compile(r'^Hello')"
   ]
  },
  {
   "cell_type": "code",
   "execution_count": 6,
   "metadata": {},
   "outputs": [
    {
     "data": {
      "text/plain": [
       "<re.Match object; span=(0, 5), match='Hello'>"
      ]
     },
     "execution_count": 6,
     "metadata": {},
     "output_type": "execute_result"
    }
   ],
   "source": [
    "beginsWithHello.search('Hello World')"
   ]
  },
  {
   "cell_type": "code",
   "execution_count": 13,
   "metadata": {},
   "outputs": [],
   "source": [
    "mo = beginsWithHello.search('Hello World')"
   ]
  },
  {
   "cell_type": "code",
   "execution_count": 14,
   "metadata": {
    "scrolled": false
   },
   "outputs": [
    {
     "data": {
      "text/plain": [
       "<re.Match object; span=(0, 5), match='Hello'>"
      ]
     },
     "execution_count": 14,
     "metadata": {},
     "output_type": "execute_result"
    }
   ],
   "source": [
    "mo"
   ]
  },
  {
   "cell_type": "markdown",
   "metadata": {},
   "source": [
    "`--------------------------------------------------------------------------------------------------------------`"
   ]
  },
  {
   "cell_type": "code",
   "execution_count": 16,
   "metadata": {},
   "outputs": [],
   "source": [
    "endsWithNumber = re.compile(r'\\d$')"
   ]
  },
  {
   "cell_type": "code",
   "execution_count": 18,
   "metadata": {},
   "outputs": [
    {
     "data": {
      "text/plain": [
       "<re.Match object; span=(16, 17), match='2'>"
      ]
     },
     "execution_count": 18,
     "metadata": {},
     "output_type": "execute_result"
    }
   ],
   "source": [
    "endsWithNumber.search('Your number is 42')"
   ]
  },
  {
   "cell_type": "code",
   "execution_count": 21,
   "metadata": {
    "scrolled": false
   },
   "outputs": [
    {
     "data": {
      "text/plain": [
       "True"
      ]
     },
     "execution_count": 21,
     "metadata": {},
     "output_type": "execute_result"
    }
   ],
   "source": [
    "endsWithNumber.search('Your number is 42 is') == None"
   ]
  },
  {
   "cell_type": "markdown",
   "metadata": {},
   "source": [
    "`--------------------------------------------------------------------------------------------------------------`"
   ]
  },
  {
   "cell_type": "markdown",
   "metadata": {},
   "source": [
    "`The r'^\\d+$' regular expression string matches strings that both begin and end with one or more numeric characters`"
   ]
  },
  {
   "cell_type": "code",
   "execution_count": 39,
   "metadata": {},
   "outputs": [],
   "source": [
    "strBeginsEndsWithNum = re.compile(r'^\\d+$')"
   ]
  },
  {
   "cell_type": "code",
   "execution_count": 40,
   "metadata": {},
   "outputs": [
    {
     "data": {
      "text/plain": [
       "<re.Match object; span=(0, 9), match='123456789'>"
      ]
     },
     "execution_count": 40,
     "metadata": {},
     "output_type": "execute_result"
    }
   ],
   "source": [
    "strBeginsEndsWithNum.search('123456789')"
   ]
  },
  {
   "cell_type": "markdown",
   "metadata": {},
   "source": [
    "____"
   ]
  },
  {
   "cell_type": "markdown",
   "metadata": {},
   "source": [
    "<a id=\"16\"></a>\n",
    "# 16. Wildcard Character .\n",
    "([go to top](#top))"
   ]
  },
  {
   "cell_type": "markdown",
   "metadata": {},
   "source": [
    "`The . (or dot) character in a regular expression is called a wildcard and will match any character except for a newline. \n",
    "For example, enter the following into the interactive shell:`"
   ]
  },
  {
   "cell_type": "code",
   "execution_count": 18,
   "metadata": {},
   "outputs": [],
   "source": [
    "atRegex = re.compile(r'.at')"
   ]
  },
  {
   "cell_type": "code",
   "execution_count": 21,
   "metadata": {},
   "outputs": [],
   "source": [
    "mo = atRegex.findall('The cat in the hat sat on the flat mat ate attack harmattan.')"
   ]
  },
  {
   "cell_type": "code",
   "execution_count": 22,
   "metadata": {},
   "outputs": [
    {
     "data": {
      "text/plain": [
       "['cat', 'hat', 'sat', 'lat', 'mat', ' at', ' at', 'mat']"
      ]
     },
     "execution_count": 22,
     "metadata": {},
     "output_type": "execute_result"
    }
   ],
   "source": [
    "mo"
   ]
  },
  {
   "cell_type": "markdown",
   "metadata": {},
   "source": [
    "`--------------------------------------------------------------------------------------------------------------`"
   ]
  },
  {
   "cell_type": "markdown",
   "metadata": {},
   "source": [
    "## Matching Everything with Dot-Star\n",
    "\n",
    "`Sometimes you will want to match everything and anything. \n",
    "For example, say you want to match the string 'First Name:', followed by any and all text, followed by 'Last Name:', and then followed by anything again. \n",
    "You can use the dot-star (.*) to stand in for that “anything.” \n",
    "Remember that the dot character means “any single character except the newline,” and the star character means “zero or more of the preceding character.”`"
   ]
  },
  {
   "cell_type": "code",
   "execution_count": 52,
   "metadata": {},
   "outputs": [],
   "source": [
    "nameRegex = re.compile(r'First Name: (.*) Last Name: (.*)')"
   ]
  },
  {
   "cell_type": "code",
   "execution_count": 53,
   "metadata": {},
   "outputs": [],
   "source": [
    "mo = nameRegex.search('First Name: Al Last Name: Sweigart')"
   ]
  },
  {
   "cell_type": "code",
   "execution_count": 54,
   "metadata": {},
   "outputs": [
    {
     "data": {
      "text/plain": [
       "'First Name: Al Last Name: Sweigart'"
      ]
     },
     "execution_count": 54,
     "metadata": {},
     "output_type": "execute_result"
    }
   ],
   "source": [
    "mo.group()"
   ]
  },
  {
   "cell_type": "code",
   "execution_count": 56,
   "metadata": {},
   "outputs": [
    {
     "data": {
      "text/plain": [
       "'Al'"
      ]
     },
     "execution_count": 56,
     "metadata": {},
     "output_type": "execute_result"
    }
   ],
   "source": [
    "mo.group(1)"
   ]
  },
  {
   "cell_type": "code",
   "execution_count": 58,
   "metadata": {
    "scrolled": true
   },
   "outputs": [
    {
     "data": {
      "text/plain": [
       "'Sweigart'"
      ]
     },
     "execution_count": 58,
     "metadata": {},
     "output_type": "execute_result"
    }
   ],
   "source": [
    "mo.group(2)"
   ]
  },
  {
   "cell_type": "markdown",
   "metadata": {},
   "source": [
    "`--------------------------------------------------------------------------------------------------------------`"
   ]
  },
  {
   "cell_type": "markdown",
   "metadata": {},
   "source": [
    "`The dot-star uses greedy mode: It will always try to match as much text as possible. \n",
    "To match any and all text in a non-greedy fashion, use the dot, star, and question mark (.*?). \n",
    "Like with braces, the question mark tells Python to match in a non-greedy way.`"
   ]
  },
  {
   "cell_type": "code",
   "execution_count": 61,
   "metadata": {},
   "outputs": [],
   "source": [
    "nongreedyRegex = re.compile(r'<.*?>')\n",
    "mo = nongreedyRegex.search('<To serve man> for dinner.>') "
   ]
  },
  {
   "cell_type": "code",
   "execution_count": 64,
   "metadata": {},
   "outputs": [
    {
     "data": {
      "text/plain": [
       "'<To serve man>'"
      ]
     },
     "execution_count": 64,
     "metadata": {},
     "output_type": "execute_result"
    }
   ],
   "source": [
    "mo.group()"
   ]
  },
  {
   "cell_type": "code",
   "execution_count": 67,
   "metadata": {},
   "outputs": [
    {
     "data": {
      "text/plain": [
       "'<To serve man> for dinner.>'"
      ]
     },
     "execution_count": 67,
     "metadata": {},
     "output_type": "execute_result"
    }
   ],
   "source": [
    "greedyRegex = re.compile(r'<.*>')\n",
    "mo = greedyRegex.search('<To serve man> for dinner.>')\n",
    "mo.group()"
   ]
  },
  {
   "cell_type": "markdown",
   "metadata": {},
   "source": [
    "`--------------------------------------------------------------------------------------------------------------`"
   ]
  },
  {
   "cell_type": "markdown",
   "metadata": {},
   "source": [
    "## Matching Newlines with the Dot Character\n",
    "`The dot-star will match everything except a newline. \n",
    "By passing re.DOTALL as the second argument to re.compile(), you can make the dot character match all characters, including the newline character.`"
   ]
  },
  {
   "cell_type": "code",
   "execution_count": 77,
   "metadata": {},
   "outputs": [],
   "source": [
    "noNewLineRegex = re.compile('.*')"
   ]
  },
  {
   "cell_type": "code",
   "execution_count": 78,
   "metadata": {},
   "outputs": [],
   "source": [
    "mo = noNewLineRegex.search('Serve the public trust.\\nProtect the innocent. \\nUphold the law.')"
   ]
  },
  {
   "cell_type": "code",
   "execution_count": 79,
   "metadata": {
    "scrolled": true
   },
   "outputs": [
    {
     "data": {
      "text/plain": [
       "'Serve the public trust.'"
      ]
     },
     "execution_count": 79,
     "metadata": {},
     "output_type": "execute_result"
    }
   ],
   "source": [
    "mo.group()"
   ]
  },
  {
   "cell_type": "markdown",
   "metadata": {},
   "source": [
    "`--------------------------------------------------------------------------------------------------------------`"
   ]
  },
  {
   "cell_type": "code",
   "execution_count": 80,
   "metadata": {},
   "outputs": [],
   "source": [
    "NewLineRegex = re.compile('.*', re.DOTALL)"
   ]
  },
  {
   "cell_type": "code",
   "execution_count": 81,
   "metadata": {},
   "outputs": [],
   "source": [
    "mo1 = NewLineRegex.search('Serve the public trust.\\nProtect the innocent. \\nUphold the law.')"
   ]
  },
  {
   "cell_type": "code",
   "execution_count": 82,
   "metadata": {
    "scrolled": true
   },
   "outputs": [
    {
     "data": {
      "text/plain": [
       "'Serve the public trust.\\nProtect the innocent. \\nUphold the law.'"
      ]
     },
     "execution_count": 82,
     "metadata": {},
     "output_type": "execute_result"
    }
   ],
   "source": [
    "mo1.group()"
   ]
  },
  {
   "cell_type": "markdown",
   "metadata": {},
   "source": [
    "____"
   ]
  },
  {
   "cell_type": "markdown",
   "metadata": {},
   "source": [
    "<a id=\"17\"></a>\n",
    "# 17. Recap\n",
    "([go to top](#top))"
   ]
  },
  {
   "cell_type": "markdown",
   "metadata": {},
   "source": [
    "`\n",
    "• The ? matches zero or one of the preceding group.\n",
    "• The * matches zero or more of the preceding group.\n",
    "• The + matches one or more of the preceding group.\n",
    "• The {n} matches exactly n of the preceding group.\n",
    "• The {n,} matches n or more of the preceding group.\n",
    "• The {,m} matches 0 to m of the preceding group.\n",
    "• The {n,m} matches at least n and at most m of the preceding group.\n",
    "• {n,m}? or *? or +? performs a non-greedy match of the preceding group.\n",
    "• ^spam means the string must begin with spam.\n",
    "• spam$ means the string must end with spam.\n",
    "• The . matches any character, except newline characters.\n",
    "• \\d, \\w, and \\s match a digit, word, or space character, respectively.\n",
    "• \\D, \\W, and \\S match anything except a digit, word, or space character, respectively.\n",
    "• [abc] matches any character between the brackets (such as a, b, or c).\n",
    "• [^abc] matches any character that isn’t between the brackets.\n",
    "`"
   ]
  },
  {
   "cell_type": "markdown",
   "metadata": {},
   "source": [
    "____"
   ]
  },
  {
   "cell_type": "markdown",
   "metadata": {},
   "source": [
    "<a id=\"18\"></a>\n",
    "# 18. Case-Insensitive Matching\n",
    "`sometimes you care only about matching the letters without wor- rying whether they’re uppercase or lowercase. To make your regex case- insensitive, you can pass re.IGNORECASE or re.I as a second argument to re.compile().`  \n",
    "\n",
    "\n",
    "([go to top](#top))"
   ]
  },
  {
   "cell_type": "code",
   "execution_count": 84,
   "metadata": {},
   "outputs": [],
   "source": [
    "robocop = re.compile(r'robocop', re.I)"
   ]
  },
  {
   "cell_type": "code",
   "execution_count": 85,
   "metadata": {},
   "outputs": [
    {
     "data": {
      "text/plain": [
       "'Robocop'"
      ]
     },
     "execution_count": 85,
     "metadata": {},
     "output_type": "execute_result"
    }
   ],
   "source": [
    "robocop.search('Robocop is part man, part machine, all cop.').group()"
   ]
  },
  {
   "cell_type": "code",
   "execution_count": 86,
   "metadata": {},
   "outputs": [
    {
     "data": {
      "text/plain": [
       "'ROBOCOP'"
      ]
     },
     "execution_count": 86,
     "metadata": {},
     "output_type": "execute_result"
    }
   ],
   "source": [
    "robocop.search('ROBOCOP protects the innocent.').group()"
   ]
  },
  {
   "cell_type": "code",
   "execution_count": 87,
   "metadata": {},
   "outputs": [
    {
     "data": {
      "text/plain": [
       "'robocop'"
      ]
     },
     "execution_count": 87,
     "metadata": {},
     "output_type": "execute_result"
    }
   ],
   "source": [
    "robocop.search('Al, why does your programming book talk about robocop so much?').group()"
   ]
  },
  {
   "cell_type": "markdown",
   "metadata": {},
   "source": [
    "____"
   ]
  },
  {
   "cell_type": "markdown",
   "metadata": {},
   "source": [
    "<a id=\"19\"></a>\n",
    "# 19. Substitute Strings withthe `sub()` method\n",
    "- `Regular expressions can not only find text patterns but can also substitute new text in place of those patterns. The sub() method for Regex objects is passed two arguments. `. \n",
    "\n",
    "\n",
    "([go to top](#top))"
   ]
  },
  {
   "cell_type": "code",
   "execution_count": 13,
   "metadata": {},
   "outputs": [],
   "source": [
    "namesRegex = re.compile(r'Agent \\w+') # match  'Agent space (any word after that space)'"
   ]
  },
  {
   "cell_type": "code",
   "execution_count": 14,
   "metadata": {},
   "outputs": [],
   "source": [
    "mo = namesRegex.sub('CENSORED', 'Agent Alice gave the secret documents to Agent Bob.') #replace match with CENSORED"
   ]
  },
  {
   "cell_type": "code",
   "execution_count": 15,
   "metadata": {},
   "outputs": [
    {
     "data": {
      "text/plain": [
       "'CENSORED gave the secret documents to CENSORED.'"
      ]
     },
     "execution_count": 15,
     "metadata": {},
     "output_type": "execute_result"
    }
   ],
   "source": [
    "mo"
   ]
  },
  {
   "cell_type": "markdown",
   "metadata": {},
   "source": [
    "`Sometimes you may need to use the matched text itself as part of the substitution. \n",
    "In the first argument to sub(), you can type \\1, \\2, \\3, and so on, to mean “Enter the text of group 1, 2, 3, and so on, in the substitution.”\n",
    "For example, say you want to censor the names of the secret agents by showing just the first letters of their names. \n",
    "To do this, you could use the regex Agent (\\w)\\w* and pass r'\\1****' as the first argument to sub(). \n",
    "The \\1 in that string will be replaced by whatever text was matched by group 1— that is, the (\\w) group of the regular expression.`"
   ]
  },
  {
   "cell_type": "code",
   "execution_count": 38,
   "metadata": {},
   "outputs": [],
   "source": [
    "agentNamesRegex = re.compile(r'Agent (\\w)\\w*') # match Agent then space then single letterm then any letters after that"
   ]
  },
  {
   "cell_type": "code",
   "execution_count": 39,
   "metadata": {},
   "outputs": [],
   "source": [
    "mo = agentNamesRegex.sub(r'\\1****', 'Agent Alice told Agent Carol that Agent Eve knew Agent Bob was a double agent.')"
   ]
  },
  {
   "cell_type": "code",
   "execution_count": 40,
   "metadata": {
    "scrolled": true
   },
   "outputs": [
    {
     "data": {
      "text/plain": [
       "'A**** told C**** that E**** knew B**** was a double agent.'"
      ]
     },
     "execution_count": 40,
     "metadata": {},
     "output_type": "execute_result"
    }
   ],
   "source": [
    "mo"
   ]
  },
  {
   "cell_type": "markdown",
   "metadata": {},
   "source": [
    "`--------------------------------------------------------------------------------------------------------------`"
   ]
  },
  {
   "cell_type": "code",
   "execution_count": 38,
   "metadata": {},
   "outputs": [],
   "source": [
    "agentNamesRegex = re.compile(r'Agent (\\w)\\w*')"
   ]
  },
  {
   "cell_type": "code",
   "execution_count": 55,
   "metadata": {},
   "outputs": [],
   "source": [
    "mo = agentNamesRegex.sub(r'\\0', 'Agent Alice told Agent Carol that Agent Eve knew Agent Bob was a double agent.')"
   ]
  },
  {
   "cell_type": "code",
   "execution_count": 56,
   "metadata": {},
   "outputs": [
    {
     "data": {
      "text/plain": [
       "'\\x00 told \\x00 that \\x00 knew \\x00 was a double agent.'"
      ]
     },
     "execution_count": 56,
     "metadata": {},
     "output_type": "execute_result"
    }
   ],
   "source": [
    "mo"
   ]
  },
  {
   "cell_type": "code",
   "execution_count": 58,
   "metadata": {},
   "outputs": [],
   "source": [
    "mo1 = agentNamesRegex.search('Agent Alice told Agent Carol that Agent Eve knew Agent Bob was a double agent.')"
   ]
  },
  {
   "cell_type": "code",
   "execution_count": 59,
   "metadata": {},
   "outputs": [
    {
     "data": {
      "text/plain": [
       "<re.Match object; span=(0, 11), match='Agent Alice'>"
      ]
     },
     "execution_count": 59,
     "metadata": {},
     "output_type": "execute_result"
    }
   ],
   "source": [
    "mo1"
   ]
  },
  {
   "cell_type": "markdown",
   "metadata": {},
   "source": [
    "____"
   ]
  },
  {
   "cell_type": "markdown",
   "metadata": {},
   "source": [
    "<a id=\"20\"></a>\n",
    "# 20. Managing Complex Regexes\n",
    "- Regular expressions are fine if the text pattern you need to match is simple. \n",
    "- But matching complicated text patterns might require long, convoluted reg- ular expressions. \n",
    "- You can mitigate this by telling the re.compile() function to ignore whitespace and comments inside the regular expression string. \n",
    "- This “verbose mode” can be enabled by passing the variable re.VERBOSE as the second argument to re.compile().  \n",
    "\n",
    "\n",
    "([go to top](#top))"
   ]
  },
  {
   "cell_type": "code",
   "execution_count": 60,
   "metadata": {},
   "outputs": [],
   "source": [
    "phoneRegex = re.compile(r'((\\d{3}|\\(\\d{3}\\))?(\\s|-|\\.)?\\d{3}(\\s|-|\\.)\\d{4}(\\s*(ext|x|ext.)\\s*\\d{2,5})?)')"
   ]
  },
  {
   "cell_type": "code",
   "execution_count": 66,
   "metadata": {},
   "outputs": [],
   "source": [
    "# same as \n",
    "\n",
    "phoneRegex = re.compile(r'''(\n",
    "                            (\\d{3}|\\(\\d{3}\\))?            # area code\n",
    "                            (\\s|-|\\.)?                    # seperator\n",
    "                            \\d{3}                         # first 3 digits\n",
    "                            (\\s|-|\\.)? \n",
    "                            \\d{4}                         # last 4 digits\n",
    "                            (\\s*(ext|x|ext.)\\s*\\d{2,5})?  # extension\n",
    "                            )''', re.VERBOSE)"
   ]
  },
  {
   "cell_type": "markdown",
   "metadata": {},
   "source": [
    "____"
   ]
  },
  {
   "cell_type": "markdown",
   "metadata": {},
   "source": [
    "<a id=\"21\"></a>\n",
    "# 21. re.IGNORE, re.DOTALL, re.VERBORSE Combined\n",
    "- What if you want to use re.VERBOSE to write comments in your regular expression but also want to use re.IGNORECASE to ignore capitalization? \n",
    "- Unfortunately, the re.compile() function takes only a single value as its second argument. \n",
    "- You can get around this limitation by combining the re.IGNORECASE, re.DOTALL, and re.VERBOSE variables using the pipe character (|), which in this context is known as the bitwise or operator.  \n",
    "\n",
    "([go to top](#top))"
   ]
  },
  {
   "cell_type": "code",
   "execution_count": 67,
   "metadata": {},
   "outputs": [],
   "source": [
    "someRegexValue = re.compile('foo', re.IGNORECASE | re.DOTALL)"
   ]
  },
  {
   "cell_type": "code",
   "execution_count": 68,
   "metadata": {},
   "outputs": [],
   "source": [
    "someRegexValue = re.compile('foo', re.IGNORECASE | re.DOTALL | re.VERBOSE)"
   ]
  },
  {
   "cell_type": "markdown",
   "metadata": {},
   "source": [
    "____"
   ]
  },
  {
   "cell_type": "markdown",
   "metadata": {},
   "source": [
    "<a id=\"20\"></a>\n",
    "# 21. Phone Number & Email Extractor\n",
    "([go to top](#top))"
   ]
  },
  {
   "cell_type": "code",
   "execution_count": null,
   "metadata": {},
   "outputs": [],
   "source": []
  },
  {
   "cell_type": "code",
   "execution_count": null,
   "metadata": {},
   "outputs": [],
   "source": []
  },
  {
   "cell_type": "code",
   "execution_count": null,
   "metadata": {},
   "outputs": [],
   "source": []
  },
  {
   "cell_type": "markdown",
   "metadata": {},
   "source": [
    "____"
   ]
  },
  {
   "cell_type": "markdown",
   "metadata": {},
   "source": [
    "<a id=\"20\"></a>\n",
    "# 20. Title\n",
    "([go to top](#top))"
   ]
  },
  {
   "cell_type": "markdown",
   "metadata": {},
   "source": [
    "____"
   ]
  },
  {
   "cell_type": "markdown",
   "metadata": {},
   "source": [
    "____"
   ]
  },
  {
   "cell_type": "code",
   "execution_count": null,
   "metadata": {},
   "outputs": [],
   "source": []
  },
  {
   "cell_type": "markdown",
   "metadata": {},
   "source": [
    "____"
   ]
  },
  {
   "cell_type": "code",
   "execution_count": null,
   "metadata": {},
   "outputs": [],
   "source": []
  },
  {
   "cell_type": "markdown",
   "metadata": {},
   "source": [
    "```\n",
    "Support for regular expressions (RE).\n",
    "\n",
    "This module provides regular expression matching operations similar to\n",
    "those found in Perl.  It supports both 8-bit and Unicode strings; both\n",
    "the pattern and the strings being processed can contain null bytes and\n",
    "characters outside the US ASCII range.\n",
    "\n",
    "Regular expressions can contain both special and ordinary characters.\n",
    "Most ordinary characters, like \"A\", \"a\", or \"0\", are the simplest\n",
    "regular expressions; they simply match themselves.  You can\n",
    "concatenate ordinary characters, so last matches the string 'last'.\n",
    "\n",
    "The special characters are:\n",
    "    \".\"      Matches any character except a newline.\n",
    "    \"^\"      Matches the start of the string.\n",
    "    \"$\"      Matches the end of the string or just before the newline at\n",
    "             the end of the string.\n",
    "    \"*\"      Matches 0 or more (greedy) repetitions of the preceding RE.\n",
    "             Greedy means that it will match as many repetitions as possible.\n",
    "    \"+\"      Matches 1 or more (greedy) repetitions of the preceding RE.\n",
    "    \"?\"      Matches 0 or 1 (greedy) of the preceding RE.\n",
    "    *?,+?,?? Non-greedy versions of the previous three special characters.\n",
    "    {m,n}    Matches from m to n repetitions of the preceding RE.\n",
    "    {m,n}?   Non-greedy version of the above.\n",
    "    \"\\\\\"     Either escapes special characters or signals a special sequence.\n",
    "    []       Indicates a set of characters.\n",
    "             A \"^\" as the first character indicates a complementing set.\n",
    "    \"|\"      A|B, creates an RE that will match either A or B.\n",
    "    (...)    Matches the RE inside the parentheses.\n",
    "             The contents can be retrieved or matched later in the string.\n",
    "    (?aiLmsux) The letters set the corresponding flags defined below.\n",
    "    (?:...)  Non-grouping version of regular parentheses.\n",
    "    (?P<name>...) The substring matched by the group is accessible by name.\n",
    "    (?P=name)     Matches the text matched earlier by the group named name.\n",
    "    (?#...)  A comment; ignored.\n",
    "    (?=...)  Matches if ... matches next, but doesn't consume the string.\n",
    "    (?!...)  Matches if ... doesn't match next.\n",
    "    (?<=...) Matches if preceded by ... (must be fixed length).\n",
    "    (?<!...) Matches if not preceded by ... (must be fixed length).\n",
    "    (?(id/name)yes|no) Matches yes pattern if the group with id/name matched,\n",
    "                       the (optional) no pattern otherwise.\n",
    "\n",
    "The special sequences consist of \"\\\\\" and a character from the list\n",
    "below.  If the ordinary character is not on the list, then the\n",
    "resulting RE will match the second character.\n",
    "    \\number  Matches the contents of the group of the same number.\n",
    "    \\A       Matches only at the start of the string.\n",
    "    \\Z       Matches only at the end of the string.\n",
    "    \\b       Matches the empty string, but only at the start or end of a word.\n",
    "    \\B       Matches the empty string, but not at the start or end of a word.\n",
    "    \\d       Matches any decimal digit; equivalent to the set [0-9] in\n",
    "             bytes patterns or string patterns with the ASCII flag.\n",
    "             In string patterns without the ASCII flag, it will match the whole\n",
    "             range of Unicode digits.\n",
    "    \\D       Matches any non-digit character; equivalent to [^\\d].\n",
    "    \\s       Matches any whitespace character; equivalent to [ \\t\\n\\r\\f\\v] in\n",
    "             bytes patterns or string patterns with the ASCII flag.\n",
    "             In string patterns without the ASCII flag, it will match the whole\n",
    "             range of Unicode whitespace characters.\n",
    "    \\S       Matches any non-whitespace character; equivalent to [^\\s].\n",
    "    \\w       Matches any alphanumeric character; equivalent to [a-zA-Z0-9_]\n",
    "             in bytes patterns or string patterns with the ASCII flag.\n",
    "             In string patterns without the ASCII flag, it will match the\n",
    "             range of Unicode alphanumeric characters (letters plus digits\n",
    "             plus underscore).\n",
    "             With LOCALE, it will match the set [0-9_] plus characters defined\n",
    "             as letters for the current locale.\n",
    "    \\W       Matches the complement of \\w.\n",
    "    \\\\       Matches a literal backslash.\n",
    "\n",
    "This module exports the following functions:\n",
    "    match     Match a regular expression pattern to the beginning of a string.\n",
    "    fullmatch Match a regular expression pattern to all of a string.\n",
    "    search    Search a string for the presence of a pattern.\n",
    "    sub       Substitute occurrences of a pattern found in a string.\n",
    "    subn      Same as sub, but also return the number of substitutions made.\n",
    "    split     Split a string by the occurrences of a pattern.\n",
    "    findall   Find all occurrences of a pattern in a string.\n",
    "    finditer  Return an iterator yielding a Match object for each match.\n",
    "    compile   Compile a pattern into a Pattern object.\n",
    "    purge     Clear the regular expression cache.\n",
    "    escape    Backslash all non-alphanumerics in a string.\n",
    "\n",
    "Each function other than purge and escape can take an optional 'flags' argument\n",
    "consisting of one or more of the following module constants, joined by \"|\".\n",
    "A, L, and U are mutually exclusive.\n",
    "    A  ASCII       For string patterns, make \\w, \\W, \\b, \\B, \\d, \\D\n",
    "                   match the corresponding ASCII character categories\n",
    "                   (rather than the whole Unicode categories, which is the\n",
    "                   default).\n",
    "                   For bytes patterns, this flag is the only available\n",
    "                   behaviour and needn't be specified.\n",
    "    I  IGNORECASE  Perform case-insensitive matching.\n",
    "    L  LOCALE      Make \\w, \\W, \\b, \\B, dependent on the current locale.\n",
    "    M  MULTILINE   \"^\" matches the beginning of lines (after a newline)\n",
    "                   as well as the string.\n",
    "                   \"$\" matches the end of lines (before a newline) as well\n",
    "                   as the end of the string.\n",
    "    S  DOTALL      \".\" matches any character at all, including the newline.\n",
    "    X  VERBOSE     Ignore whitespace and comments for nicer looking RE's.\n",
    "    U  UNICODE     For compatibility only. Ignored for string patterns (it\n",
    "                   is the default), and forbidden for bytes patterns.\n",
    "\n",
    "```"
   ]
  }
 ],
 "metadata": {
  "kernelspec": {
   "display_name": "Python 3 (ipykernel)",
   "language": "python",
   "name": "python3"
  },
  "language_info": {
   "codemirror_mode": {
    "name": "ipython",
    "version": 3
   },
   "file_extension": ".py",
   "mimetype": "text/x-python",
   "name": "python",
   "nbconvert_exporter": "python",
   "pygments_lexer": "ipython3",
   "version": "3.10.1"
  }
 },
 "nbformat": 4,
 "nbformat_minor": 4
}
