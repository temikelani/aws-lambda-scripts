{
 "cells": [
  {
   "cell_type": "markdown",
   "id": "4eb37a87",
   "metadata": {},
   "source": [
    "https://boto3.amazonaws.com/v1/documentation/api/latest/reference/services/ec2.html#service-resource"
   ]
  },
  {
   "cell_type": "code",
   "execution_count": 10,
   "id": "b350f444",
   "metadata": {},
   "outputs": [],
   "source": [
    "import boto3\n",
    "import csv\n",
    "region = 'us-east-1'\n",
    "ec2 = boto3.resource('ec2', region_name=region)\n",
    "instance_details = []"
   ]
  },
  {
   "cell_type": "code",
   "execution_count": 11,
   "id": "26723a7c",
   "metadata": {},
   "outputs": [
    {
     "name": "stdout",
     "output_type": "stream",
     "text": [
      "ec2.Instance(id='i-0e97fa7146ee99880')\n",
      "i-0e97fa7146ee99880\n",
      "t2.micro\n",
      "ec2.Instance(id='i-0f9ebbc1645e55dcb')\n",
      "i-0f9ebbc1645e55dcb\n",
      "t2.micro\n"
     ]
    }
   ],
   "source": [
    "for instance in ec2.instances.all():\n",
    "    print(instance)\n",
    "    print(instance.id)\n",
    "    print(instance.instance_type)"
   ]
  },
  {
   "cell_type": "code",
   "execution_count": 12,
   "id": "1b6342cb",
   "metadata": {},
   "outputs": [
    {
     "data": {
      "text/plain": [
       "[{'Instance ID': 'i-0e97fa7146ee99880',\n",
       "  'Instance State': 'running',\n",
       "  'Launch Time': datetime.datetime(2022, 6, 19, 20, 41, 38, tzinfo=tzutc()),\n",
       "  'Instance Type': 't2.micro',\n",
       "  'Tags': [{'Key': 'Name', 'Value': 'test1'}]},\n",
       " {'Instance ID': 'i-0f9ebbc1645e55dcb',\n",
       "  'Instance State': 'running',\n",
       "  'Launch Time': datetime.datetime(2022, 6, 19, 20, 41, 14, tzinfo=tzutc()),\n",
       "  'Instance Type': 't2.micro',\n",
       "  'Tags': [{'Key': 'Name', 'Value': 'test'}]}]"
      ]
     },
     "metadata": {},
     "output_type": "display_data"
    }
   ],
   "source": [
    "for instance in ec2.instances.all():\n",
    "  result = dict()\n",
    "\n",
    "  result[\"Instance ID\"] = instance.id\n",
    "  result[\"Instance State\"] = instance.state[\"Name\"]\n",
    "  result[\"Launch Time\"] = instance.launch_time\n",
    "  result[\"Instance Type\"] = instance.instance_type\n",
    "  result[\"Tags\"] = instance.tags\n",
    "\n",
    "  instance_details.append(result)\n",
    "\n",
    "display(instance_details)"
   ]
  },
  {
   "cell_type": "code",
   "execution_count": 13,
   "id": "dd47467a",
   "metadata": {},
   "outputs": [],
   "source": [
    "# field names\n",
    "fields = [\n",
    "  \"Instance ID\",\n",
    "  \"Instance State\",\n",
    "  \"Launch Time\",\n",
    "  \"Instance Type\",\n",
    "  \"Tags\"\n",
    "]"
   ]
  },
  {
   "cell_type": "code",
   "execution_count": 14,
   "id": "0720fa6c",
   "metadata": {},
   "outputs": [],
   "source": [
    "#name of csv file\n",
    "filename = \"reports.csv\""
   ]
  },
  {
   "cell_type": "code",
   "execution_count": 15,
   "id": "e699beea",
   "metadata": {},
   "outputs": [],
   "source": [
    "#Writing to csv file\n",
    "with open(filename,\"w\") as csvfile:\n",
    "  # creating a csv dict writer object\n",
    "  writer = csv.DictWriter(csvfile, fieldnames=fields)\n",
    "\n",
    "  # writing headeers (field names)\n",
    "  writer.writeheader()\n",
    "\n",
    "  #writing data rows\n",
    "  writer.writerows(instance_details)"
   ]
  },
  {
   "cell_type": "code",
   "execution_count": null,
   "id": "1bbc80b0",
   "metadata": {},
   "outputs": [],
   "source": []
  }
 ],
 "metadata": {
  "kernelspec": {
   "display_name": "Python 3 (ipykernel)",
   "language": "python",
   "name": "python3"
  },
  "language_info": {
   "codemirror_mode": {
    "name": "ipython",
    "version": 3
   },
   "file_extension": ".py",
   "mimetype": "text/x-python",
   "name": "python",
   "nbconvert_exporter": "python",
   "pygments_lexer": "ipython3",
   "version": "3.9.13"
  }
 },
 "nbformat": 4,
 "nbformat_minor": 5
}
