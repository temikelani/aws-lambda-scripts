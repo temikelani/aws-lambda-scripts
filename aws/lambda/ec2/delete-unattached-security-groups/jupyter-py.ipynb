{
 "cells": [
  {
   "cell_type": "code",
   "execution_count": 1,
   "id": "19b4667b",
   "metadata": {},
   "outputs": [],
   "source": [
    "import boto3 \n",
    "\n",
    "region = 'us-east-1'\n",
    "ec2 = boto3.client('ec2', region_name=region)"
   ]
  },
  {
   "cell_type": "code",
   "execution_count": 2,
   "id": "1e8a0c29",
   "metadata": {},
   "outputs": [],
   "source": [
    "#get group ids from list of all security groups\n",
    "\n",
    "def get_all_security_group_ids() -> list:\n",
    "  return [sg.get('GroupId')for sg in ec2.describe_security_groups().get('SecurityGroups')]"
   ]
  },
  {
   "cell_type": "code",
   "execution_count": 3,
   "id": "c7a7c2cc",
   "metadata": {
    "scrolled": true
   },
   "outputs": [
    {
     "data": {
      "text/plain": [
       "['sg-0a417993a81248f14',\n",
       " 'sg-0e77db9c3f1ae0b5d',\n",
       " 'sg-0dd2cf5e7c4d71ad8',\n",
       " 'sg-023ff0a431cf2d9df',\n",
       " 'sg-03bcfec048792e00b']"
      ]
     },
     "execution_count": 3,
     "metadata": {},
     "output_type": "execute_result"
    }
   ],
   "source": [
    "get_all_security_group_ids()"
   ]
  },
  {
   "cell_type": "markdown",
   "id": "5bdbf80b",
   "metadata": {},
   "source": [
    "___"
   ]
  },
  {
   "cell_type": "code",
   "execution_count": 4,
   "id": "f46fc1e9",
   "metadata": {},
   "outputs": [],
   "source": [
    "# get security group ids for all security groups attached to an instance\n",
    "# keeping in mind an instance could have more that one sg attached\n",
    "\n",
    "def get_attached_security_group_ids() -> list:\n",
    "  all_instances = ec2.describe_instances().get('Reservations')\n",
    "  security_groups = [i.get('Instances')[0]['SecurityGroups'] for i in all_instances]\n",
    "  return [ i[j].get('GroupId') for i in security_groups for j in range(0, len(i))]"
   ]
  },
  {
   "cell_type": "code",
   "execution_count": 5,
   "id": "f4dfc2db",
   "metadata": {},
   "outputs": [
    {
     "data": {
      "text/plain": [
       "['sg-03bcfec048792e00b', 'sg-0a417993a81248f14', 'sg-023ff0a431cf2d9df']"
      ]
     },
     "execution_count": 5,
     "metadata": {},
     "output_type": "execute_result"
    }
   ],
   "source": [
    "get_attached_security_group_ids()"
   ]
  },
  {
   "cell_type": "markdown",
   "id": "55f749f6",
   "metadata": {},
   "source": [
    "___"
   ]
  },
  {
   "cell_type": "code",
   "execution_count": 6,
   "id": "a561e8d8",
   "metadata": {},
   "outputs": [],
   "source": [
    "#filter all sg id list for ids not in attached sg id list\n",
    "\n",
    "def get_unattached_sg_ids() -> list:\n",
    "  return list(filter(lambda id: id not in get_attached_security_group_ids(), get_all_security_group_ids()))"
   ]
  },
  {
   "cell_type": "code",
   "execution_count": 7,
   "id": "168a70c1",
   "metadata": {},
   "outputs": [
    {
     "data": {
      "text/plain": [
       "['sg-0e77db9c3f1ae0b5d', 'sg-0dd2cf5e7c4d71ad8']"
      ]
     },
     "execution_count": 7,
     "metadata": {},
     "output_type": "execute_result"
    }
   ],
   "source": [
    "get_unattached_sg_ids()"
   ]
  },
  {
   "cell_type": "markdown",
   "id": "50263cb1",
   "metadata": {},
   "source": [
    "_____"
   ]
  },
  {
   "cell_type": "markdown",
   "id": "8c9e9bd9",
   "metadata": {},
   "source": [
    "`if you run this command below it will delete your unsattached SGs`"
   ]
  },
  {
   "cell_type": "code",
   "execution_count": 12,
   "id": "a4c1e332",
   "metadata": {},
   "outputs": [],
   "source": [
    "# delete unattached sgs\n",
    "\n",
    "def delete_unattached_sg(list_of_unattached_sgs):\n",
    "  for sg in list_of_unattached_sgs:\n",
    "    try:\n",
    "      ec2.delete_security_group(GroupId=sg)\n",
    "    except Exception as e:\n",
    "      if '\"default\" cannot be deleted by a user' in str(e):\n",
    "        print(f\"Unable to delete {sg}, check that it isn't the default sg or referenced by another sg\")"
   ]
  },
  {
   "cell_type": "code",
   "execution_count": 13,
   "id": "251155df",
   "metadata": {},
   "outputs": [
    {
     "name": "stdout",
     "output_type": "stream",
     "text": [
      "Unable to delete sg-0dd2cf5e7c4d71ad8, check that it isn't the default sg or referenced by another sg\n"
     ]
    }
   ],
   "source": [
    "def init():\n",
    "    delete_unattached_sg(get_unattached_sg_ids())\n",
    "\n",
    "\n",
    "\n",
    "if __name__ == \"__main__\":\n",
    "    init()"
   ]
  },
  {
   "cell_type": "code",
   "execution_count": null,
   "id": "07389367",
   "metadata": {},
   "outputs": [],
   "source": []
  }
 ],
 "metadata": {
  "kernelspec": {
   "display_name": "Python 3 (ipykernel)",
   "language": "python",
   "name": "python3"
  },
  "language_info": {
   "codemirror_mode": {
    "name": "ipython",
    "version": 3
   },
   "file_extension": ".py",
   "mimetype": "text/x-python",
   "name": "python",
   "nbconvert_exporter": "python",
   "pygments_lexer": "ipython3",
   "version": "3.9.13"
  }
 },
 "nbformat": 4,
 "nbformat_minor": 5
}
