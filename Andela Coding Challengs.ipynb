{
 "cells": [
  {
   "cell_type": "code",
   "execution_count": 35,
   "id": "a6f796ce",
   "metadata": {},
   "outputs": [],
   "source": [
    "def pointsBelong(x1,y1,x2,y2,x3,y3,xp,yp,xq,yq):\n",
    "    import math \n",
    "    ab=math.sqrt((x1-x2)*(x1-x2)+(y1-y2)*(y1-y2))\n",
    "    bc=math.sqrt((x2-x3)*(x2-x3)+(y2-y3)*(y2-y3))\n",
    "    ac=math.sqrt((x3-x1)*(x3-x1)+(y3-y1)*(y3-y1))\n",
    "    if (ab+bc)<=ac or (bc+ac)<=ab or (ac+ab)<=bc:\n",
    "        return 0 \n",
    "    total_area=abs((x1*(y2-y3)+x2*(y3-y1)+x3*(y1-y2))/2.0)\n",
    "    p_area1=abs((x1*(y2-yp)+x2*(yp-y1)+xp*(y1-y2))/2.0)\n",
    "    p_area2=abs((x1*(yp-y3)+xp*(y3-y1)+x3*(y1-yp))/2.0)\n",
    "    p_area3=abs((xp*(y2-y3)+x2*(y3-yp)+x3*(yp-y2))/2.0)\n",
    "    q_area1=abs((x1*(y2-yq)+x2*(yq-y1)+xq*(y1 - y2))/2.0)\n",
    "    q_area2=abs((x1*(yq-y3)+xq*(y3-y1)+x3*(y1 - yq))/2.0)\n",
    "    q_area3=abs((xq*(y2-y3)+x2*(y3-yq)+x3*(yq - y2))/2.0)\n",
    "    if (p_area1+p_area2+p_area3)==total_area and (q_area1+q_area2+q_area3)!=total_area:\n",
    "        return 1 \n",
    "    if (p_area1+p_area2+p_area3)!=total_area and (q_area1+q_area2+q_area3)==total_area:\n",
    "        return 2 \n",
    "    if (p_area1+p_area2+p_area3)==total_area and (q_area1+q_area2+q_area3)==total_area:\n",
    "        return 3 \n",
    "    if (p_area1+p_area2+p_area3)!=total_area and (q_area1+q_area2+q_area3)!=total_area:\n",
    "        return 4"
   ]
  },
  {
   "cell_type": "code",
   "execution_count": 36,
   "id": "1946b765",
   "metadata": {},
   "outputs": [
    {
     "ename": "KeyError",
     "evalue": "'OUTPUT_PATH'",
     "output_type": "error",
     "traceback": [
      "\u001b[0;31m---------------------------------------------------------------------------\u001b[0m",
      "\u001b[0;31mKeyError\u001b[0m                                  Traceback (most recent call last)",
      "Input \u001b[0;32mIn [36]\u001b[0m, in \u001b[0;36m<cell line: 3>\u001b[0;34m()\u001b[0m\n\u001b[1;32m      1\u001b[0m \u001b[38;5;28;01mimport\u001b[39;00m \u001b[38;5;21;01mos\u001b[39;00m\n\u001b[1;32m      3\u001b[0m \u001b[38;5;28;01mif\u001b[39;00m \u001b[38;5;18m__name__\u001b[39m \u001b[38;5;241m==\u001b[39m \u001b[38;5;124m'\u001b[39m\u001b[38;5;124m__main__\u001b[39m\u001b[38;5;124m'\u001b[39m:\n\u001b[0;32m----> 4\u001b[0m     fptr \u001b[38;5;241m=\u001b[39m \u001b[38;5;28mopen\u001b[39m(\u001b[43mos\u001b[49m\u001b[38;5;241;43m.\u001b[39;49m\u001b[43menviron\u001b[49m\u001b[43m[\u001b[49m\u001b[38;5;124;43m'\u001b[39;49m\u001b[38;5;124;43mOUTPUT_PATH\u001b[39;49m\u001b[38;5;124;43m'\u001b[39;49m\u001b[43m]\u001b[49m, \u001b[38;5;124m'\u001b[39m\u001b[38;5;124mw\u001b[39m\u001b[38;5;124m'\u001b[39m)\n\u001b[1;32m      6\u001b[0m     x1 \u001b[38;5;241m=\u001b[39m \u001b[38;5;28mint\u001b[39m(raw_input()\u001b[38;5;241m.\u001b[39mstrip())\n\u001b[1;32m      8\u001b[0m     y1 \u001b[38;5;241m=\u001b[39m \u001b[38;5;28mint\u001b[39m(raw_input()\u001b[38;5;241m.\u001b[39mstrip())\n",
      "File \u001b[0;32m/usr/local/Cellar/python@3.9/3.9.13_1/Frameworks/Python.framework/Versions/3.9/lib/python3.9/os.py:679\u001b[0m, in \u001b[0;36m_Environ.__getitem__\u001b[0;34m(self, key)\u001b[0m\n\u001b[1;32m    676\u001b[0m     value \u001b[38;5;241m=\u001b[39m \u001b[38;5;28mself\u001b[39m\u001b[38;5;241m.\u001b[39m_data[\u001b[38;5;28mself\u001b[39m\u001b[38;5;241m.\u001b[39mencodekey(key)]\n\u001b[1;32m    677\u001b[0m \u001b[38;5;28;01mexcept\u001b[39;00m \u001b[38;5;167;01mKeyError\u001b[39;00m:\n\u001b[1;32m    678\u001b[0m     \u001b[38;5;66;03m# raise KeyError with the original key value\u001b[39;00m\n\u001b[0;32m--> 679\u001b[0m     \u001b[38;5;28;01mraise\u001b[39;00m \u001b[38;5;167;01mKeyError\u001b[39;00m(key) \u001b[38;5;28;01mfrom\u001b[39;00m \u001b[38;5;28mNone\u001b[39m\n\u001b[1;32m    680\u001b[0m \u001b[38;5;28;01mreturn\u001b[39;00m \u001b[38;5;28mself\u001b[39m\u001b[38;5;241m.\u001b[39mdecodevalue(value)\n",
      "\u001b[0;31mKeyError\u001b[0m: 'OUTPUT_PATH'"
     ]
    }
   ],
   "source": [
    "import os\n",
    "\n",
    "if __name__ == '__main__':\n",
    "    fptr = open(os.environ['OUTPUT_PATH'], 'w')\n",
    "\n",
    "    x1 = int(raw_input().strip())\n",
    "\n",
    "    y1 = int(raw_input().strip())\n",
    "\n",
    "    x2 = int(raw_input().strip())\n",
    "\n",
    "    y2 = int(raw_input().strip())\n",
    "\n",
    "    x3 = int(raw_input().strip())\n",
    "\n",
    "    y3 = int(raw_input().strip())\n",
    "\n",
    "    xp = int(raw_input().strip())\n",
    "\n",
    "    yp = int(raw_input().strip())\n",
    "\n",
    "    xq = int(raw_input().strip())\n",
    "\n",
    "    yq = int(raw_input().strip())\n",
    "\n",
    "    result = pointsBelong(x1, y1, x2, y2, x3, y3, xp, yp, xq, yq)\n",
    "\n",
    "    fptr.write(str(result) + '\\n')\n",
    "\n",
    "    fptr.close()\n"
   ]
  },
  {
   "cell_type": "code",
   "execution_count": null,
   "id": "401b0384",
   "metadata": {},
   "outputs": [],
   "source": []
  },
  {
   "cell_type": "code",
   "execution_count": null,
   "id": "f9f316ea",
   "metadata": {},
   "outputs": [],
   "source": []
  },
  {
   "cell_type": "code",
   "execution_count": null,
   "id": "3af31e76",
   "metadata": {},
   "outputs": [],
   "source": []
  },
  {
   "cell_type": "code",
   "execution_count": null,
   "id": "d2871480",
   "metadata": {},
   "outputs": [],
   "source": []
  },
  {
   "cell_type": "code",
   "execution_count": 29,
   "id": "6cd6dc71",
   "metadata": {},
   "outputs": [],
   "source": [
    "def closestNumbers():\n",
    "    len = int(input())\n",
    "    arr = []\n",
    "    for i in range(len):\n",
    "        arr.append(int(input()))\n",
    "    arr = sorted(arr)\n",
    "    result = []\n",
    "    compare = pow(10, 7) + 1\n",
    "    for i in range(1, len):\n",
    "        diff = abs(arr[i-1] - arr[i])\n",
    "        if (diff <= compare):\n",
    "            if (diff < compare):\n",
    "                result = []\n",
    "            compare = diff\n",
    "            result.append(str(arr[i-1]) + ' ' + str(arr[i]) + ' ')\n",
    "#     print(result)\n",
    "    for i in result:\n",
    "        print(i)"
   ]
  },
  {
   "cell_type": "code",
   "execution_count": 30,
   "id": "ad6a0ec3",
   "metadata": {
    "scrolled": false
   },
   "outputs": [
    {
     "name": "stdout",
     "output_type": "stream",
     "text": [
      "4\n",
      "4\n",
      "3\n",
      "2\n",
      "1\n",
      "1 2 \n",
      "2 3 \n",
      "3 4 \n"
     ]
    }
   ],
   "source": [
    "if __name__ == '__main__':\n",
    "    closestNumbers()"
   ]
  },
  {
   "cell_type": "code",
   "execution_count": 27,
   "id": "4cda371a",
   "metadata": {},
   "outputs": [],
   "source": [
    "def closestNumbers():\n",
    "    len = int(input())\n",
    "    arr = []\n",
    "    for i in range(len):\n",
    "        arr.append(int(input()))\n",
    "    arr = sorted(arr)\n",
    "    result = []\n",
    "    compare = pow(10,7) + 1\n",
    "    for i in range(1 , len):\n",
    "        diff = abs(arr[i-1] - arr[i])\n",
    "        if (diff <= compare):\n",
    "            result = []\n",
    "        compare = diff\n",
    "        result.append(str(arr[i-1]) + ' ' + str(arr[i]) + ' ')\n",
    "    #     print(result)\n",
    "    for i in result:\n",
    "        print(i)"
   ]
  },
  {
   "cell_type": "code",
   "execution_count": 28,
   "id": "d246c3c3",
   "metadata": {
    "scrolled": false
   },
   "outputs": [
    {
     "name": "stdout",
     "output_type": "stream",
     "text": [
      "4\n",
      "4\n",
      "3\n",
      "1\n",
      "2\n",
      "3 4 \n"
     ]
    }
   ],
   "source": [
    "if __name__ == '__main__':\n",
    "    closestNumbers()"
   ]
  },
  {
   "cell_type": "code",
   "execution_count": null,
   "id": "a64a180c",
   "metadata": {},
   "outputs": [],
   "source": []
  }
 ],
 "metadata": {
  "kernelspec": {
   "display_name": "Python 3 (ipykernel)",
   "language": "python",
   "name": "python3"
  },
  "language_info": {
   "codemirror_mode": {
    "name": "ipython",
    "version": 3
   },
   "file_extension": ".py",
   "mimetype": "text/x-python",
   "name": "python",
   "nbconvert_exporter": "python",
   "pygments_lexer": "ipython3",
   "version": "3.9.13"
  }
 },
 "nbformat": 4,
 "nbformat_minor": 5
}
