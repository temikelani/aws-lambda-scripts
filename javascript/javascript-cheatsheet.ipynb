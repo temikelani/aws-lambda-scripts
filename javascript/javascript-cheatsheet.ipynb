{
 "cells": [
  {
   "cell_type": "markdown",
   "id": "fce822bd",
   "metadata": {},
   "source": [
    "<a id=\"top\"></a>\n",
    "# Table of contents"
   ]
  },
  {
   "cell_type": "markdown",
   "id": "2ecee4d8",
   "metadata": {},
   "source": [
    "- [1. operators: `Arithmetic Operators`](#1)  \n",
    "- [1.1 Operators: `Comparison, Relational Operators`](#1.1)\n",
    "- [1.2 operators: `Truthy / Falsy`](#1.2)\n",
    "- [1.3 operators: `Assignment Operators`](#1.3)\n",
    "- [1.4 operators: `Logical Operators`](#1.4)\n",
    "\n",
    "<hr>\n",
    "\n",
    "- [2. BuiltIns: `Math`](#2)   \n",
    "- [# 2b Math: `Find Average`](#2b)\n",
    "\n",
    "<hr>  \n",
    "\n",
    "- [3.](#3)\n",
    "- [4.](#4)\n",
    "- [5.](#5)\n",
    "- [6.](#6)\n",
    "- [7.](#7)\n",
    "- [8.](#8)\n",
    "- [9.](#9)\n",
    "- [10.](#10)\n",
    "- [11.](#11)\n",
    "- [12.](#13)\n",
    "- [13.](#13)\n",
    "- [14.](#14)\n",
    "- [15.](#15)\n",
    "- [16.](#16)\n",
    "- [17.](#17)\n",
    "- [18.](#18)\n",
    "- [19.](#19)\n",
    "- [20.](#20)\n",
    "- [21.](#21)\n",
    "- [22.](#22)\n",
    "- [23.](#23)\n",
    "- [24.](#24)\n",
    "- [25.](#25)\n",
    "- [26.](#26)\n",
    "- [27.](#27)\n",
    "- [28.](#28)\n",
    "- [29.](#29)\n",
    "- [30.](#30)\n",
    "- [31.](#31)\n",
    "- [32.](#32)\n",
    "- [33.](#33)\n",
    "- [34.](#34)\n",
    "- [35.](#35)\n",
    "- [36.](#36)\n",
    "- [37.](#37)\n",
    "- [38.](#38)\n",
    "- [39.](#39)\n",
    "- [40.](#40)\n",
    "- [41.](#41)\n",
    "- [42.](#42)\n",
    "- [43.](#43)\n",
    "- [44.](#44)\n",
    "- [45.](#45)\n",
    "- [46.](#46)\n",
    "- [47.](#47)\n",
    "- [48.](#48)\n",
    "- [49.](#49)\n",
    "- [50.](#50)\n",
    "- [51.](#51)\n",
    "- [52.](#52)\n",
    "- [53.](#53)\n",
    "- [54.](#54)\n",
    "- [55.](#55)\n",
    "- [56.](#56)\n",
    "- [57.](#57)\n",
    "- [58.](#58)\n",
    "- [59.](#59)\n",
    "- [60.](#60)\n",
    "- [61.](#61)\n",
    "- [62.](#62)\n",
    "- [63.](#63)\n",
    "- [64.](#64)\n",
    "- [65.](#65)\n",
    "- [66.](#66)\n",
    "- [67.](#67)\n",
    "- [68.](#68)\n",
    "- [69.](#69)\n",
    "- [70.](#70)\n",
    "- [71.](#71)\n",
    "- [72.](#72)\n",
    "- [73.](#73)\n",
    "- [74.](#74)\n",
    "- [75.](#75)\n",
    "- [76.](#76)\n",
    "- [77.](#77)\n",
    "- [78.](#78)\n",
    "- [79.](#79)\n",
    "- [80.](#80)\n",
    "- [81.](#81)\n",
    "- [82.](#82)\n",
    "- [83.](#83)\n",
    "- [84.](#84)\n",
    "- [85.](#85)\n",
    "- [86.](#86)\n",
    "- [87.](#87)\n",
    "- [88.](#88)\n",
    "- [89.](#89)\n",
    "- [90.](#90)\n",
    "- [91.](#91)\n",
    "- [92.](#92)\n",
    "- [93.](#93)\n",
    "- [94.](#94)\n",
    "- [95.](#95)\n",
    "- [96.](#96)\n",
    "- [97.](#97)\n",
    "- [98.](#98)\n",
    "- [99.](#99)\n",
    "- [100.](#100)\n",
    "- [Unsorted](#200)\n",
    "\n",
    " <a id=\"\"></a> "
   ]
  },
  {
   "cell_type": "markdown",
   "id": "a2b5cf94",
   "metadata": {},
   "source": [
    "____"
   ]
  },
  {
   "cell_type": "markdown",
   "id": "470802e9",
   "metadata": {},
   "source": [
    "<a id=\"1\"></a>\n",
    "# 1. Operators: `Arithmetic`\n",
    "([go to top](#top))"
   ]
  },
  {
   "cell_type": "code",
   "execution_count": 1,
   "id": "5c5d0a9f",
   "metadata": {},
   "outputs": [
    {
     "data": {
      "text/plain": [
       "4"
      ]
     },
     "execution_count": 1,
     "metadata": {},
     "output_type": "execute_result"
    }
   ],
   "source": [
    "2 + 2"
   ]
  },
  {
   "cell_type": "code",
   "execution_count": 2,
   "id": "bf67c85d",
   "metadata": {},
   "outputs": [
    {
     "data": {
      "text/plain": [
       "-2"
      ]
     },
     "execution_count": 2,
     "metadata": {},
     "output_type": "execute_result"
    }
   ],
   "source": [
    "3 - 5"
   ]
  },
  {
   "cell_type": "code",
   "execution_count": 3,
   "id": "b1b3a98d",
   "metadata": {},
   "outputs": [
    {
     "data": {
      "text/plain": [
       "9"
      ]
     },
     "execution_count": 3,
     "metadata": {},
     "output_type": "execute_result"
    }
   ],
   "source": [
    "2 * 4.5"
   ]
  },
  {
   "cell_type": "code",
   "execution_count": 4,
   "id": "73777bed",
   "metadata": {},
   "outputs": [
    {
     "data": {
      "text/plain": [
       "0.5"
      ]
     },
     "execution_count": 4,
     "metadata": {},
     "output_type": "execute_result"
    }
   ],
   "source": [
    "9 / 18"
   ]
  },
  {
   "cell_type": "code",
   "execution_count": 5,
   "id": "5df34658",
   "metadata": {},
   "outputs": [
    {
     "data": {
      "text/plain": [
       "0"
      ]
     },
     "execution_count": 5,
     "metadata": {},
     "output_type": "execute_result"
    }
   ],
   "source": [
    "30 % 10"
   ]
  },
  {
   "cell_type": "code",
   "execution_count": 6,
   "id": "6d8174a2",
   "metadata": {},
   "outputs": [
    {
     "data": {
      "text/plain": [
       "5"
      ]
     },
     "execution_count": 6,
     "metadata": {},
     "output_type": "execute_result"
    }
   ],
   "source": [
    "25 % 10"
   ]
  },
  {
   "cell_type": "code",
   "execution_count": 7,
   "id": "f901cfd7",
   "metadata": {},
   "outputs": [
    {
     "data": {
      "text/plain": [
       "2"
      ]
     },
     "execution_count": 7,
     "metadata": {},
     "output_type": "execute_result"
    }
   ],
   "source": [
    "10 - 2 * 4 "
   ]
  },
  {
   "cell_type": "code",
   "execution_count": 8,
   "id": "0dc9fb8f",
   "metadata": {},
   "outputs": [
    {
     "data": {
      "text/plain": [
       "6"
      ]
     },
     "execution_count": 8,
     "metadata": {},
     "output_type": "execute_result"
    }
   ],
   "source": [
    "10 - 2 * 4 / 2 "
   ]
  },
  {
   "cell_type": "code",
   "execution_count": 9,
   "id": "49b4cb77",
   "metadata": {},
   "outputs": [
    {
     "data": {
      "text/plain": [
       "9"
      ]
     },
     "execution_count": 9,
     "metadata": {},
     "output_type": "execute_result"
    }
   ],
   "source": [
    "10 - 2 * 4 / 2 + 3"
   ]
  },
  {
   "cell_type": "markdown",
   "id": "2fd7920e",
   "metadata": {},
   "source": [
    "division > multiplication > subtraction > addition"
   ]
  },
  {
   "cell_type": "code",
   "execution_count": 10,
   "id": "7e1e2b40",
   "metadata": {},
   "outputs": [
    {
     "data": {
      "text/plain": [
       "4"
      ]
     },
     "execution_count": 10,
     "metadata": {},
     "output_type": "execute_result"
    }
   ],
   "source": [
    "2 ** 2 // raised to power"
   ]
  },
  {
   "cell_type": "code",
   "execution_count": 11,
   "id": "c7e957db",
   "metadata": {},
   "outputs": [
    {
     "data": {
      "text/plain": [
       "8"
      ]
     },
     "execution_count": 11,
     "metadata": {},
     "output_type": "execute_result"
    }
   ],
   "source": [
    "2 ** 3"
   ]
  },
  {
   "cell_type": "code",
   "execution_count": 12,
   "id": "1c5ad3d4",
   "metadata": {},
   "outputs": [
    {
     "data": {
      "text/plain": [
       "32"
      ]
     },
     "execution_count": 12,
     "metadata": {},
     "output_type": "execute_result"
    }
   ],
   "source": [
    "2 ** 5"
   ]
  },
  {
   "cell_type": "code",
   "execution_count": 13,
   "id": "420d17e3",
   "metadata": {},
   "outputs": [
    {
     "name": "stdout",
     "output_type": "stream",
     "text": [
      "3\n"
     ]
    }
   ],
   "source": [
    "num = 2\n",
    "num++\n",
    "console.log(num)"
   ]
  },
  {
   "cell_type": "code",
   "execution_count": 14,
   "id": "714f1dba",
   "metadata": {},
   "outputs": [
    {
     "name": "stdout",
     "output_type": "stream",
     "text": [
      "1\n"
     ]
    }
   ],
   "source": [
    "num = 2\n",
    "num--\n",
    "console.log(num)"
   ]
  },
  {
   "cell_type": "code",
   "execution_count": 15,
   "id": "228fe329",
   "metadata": {},
   "outputs": [
    {
     "name": "stdout",
     "output_type": "stream",
     "text": [
      "1\n"
     ]
    }
   ],
   "source": [
    "num = 2\n",
    "--num\n",
    "console.log(num)"
   ]
  },
  {
   "cell_type": "code",
   "execution_count": 16,
   "id": "67f5379d",
   "metadata": {},
   "outputs": [
    {
     "name": "stdout",
     "output_type": "stream",
     "text": [
      "3\n"
     ]
    }
   ],
   "source": [
    "num = 2\n",
    "++num\n",
    "console.log(num)"
   ]
  },
  {
   "cell_type": "markdown",
   "id": "48361ce4",
   "metadata": {},
   "source": [
    "<a id=\"1.1\"></a>\n",
    "# 1.1 Operators: `Comparison, Relational Operators`\n",
    "([go to top](#top))"
   ]
  },
  {
   "cell_type": "code",
   "execution_count": 17,
   "id": "2f0d66d2",
   "metadata": {},
   "outputs": [
    {
     "data": {
      "text/plain": [
       "true"
      ]
     },
     "execution_count": 17,
     "metadata": {},
     "output_type": "execute_result"
    }
   ],
   "source": [
    "5 > 2"
   ]
  },
  {
   "cell_type": "code",
   "execution_count": 18,
   "id": "9a99e05b",
   "metadata": {},
   "outputs": [
    {
     "data": {
      "text/plain": [
       "false"
      ]
     },
     "execution_count": 18,
     "metadata": {},
     "output_type": "execute_result"
    }
   ],
   "source": [
    "2 > 4"
   ]
  },
  {
   "cell_type": "code",
   "execution_count": 19,
   "id": "31415317",
   "metadata": {},
   "outputs": [
    {
     "data": {
      "text/plain": [
       "false"
      ]
     },
     "execution_count": 19,
     "metadata": {},
     "output_type": "execute_result"
    }
   ],
   "source": [
    "3 > 3"
   ]
  },
  {
   "cell_type": "code",
   "execution_count": 20,
   "id": "69819049",
   "metadata": {},
   "outputs": [
    {
     "data": {
      "text/plain": [
       "true"
      ]
     },
     "execution_count": 20,
     "metadata": {},
     "output_type": "execute_result"
    }
   ],
   "source": [
    "3 >= 3"
   ]
  },
  {
   "cell_type": "code",
   "execution_count": 21,
   "id": "41736634",
   "metadata": {},
   "outputs": [
    {
     "data": {
      "text/plain": [
       "false"
      ]
     },
     "execution_count": 21,
     "metadata": {},
     "output_type": "execute_result"
    }
   ],
   "source": [
    "3 < 3"
   ]
  },
  {
   "cell_type": "code",
   "execution_count": 22,
   "id": "8a0bb2ed",
   "metadata": {},
   "outputs": [
    {
     "data": {
      "text/plain": [
       "true"
      ]
     },
     "execution_count": 22,
     "metadata": {},
     "output_type": "execute_result"
    }
   ],
   "source": [
    "3 <= 3"
   ]
  },
  {
   "cell_type": "code",
   "execution_count": 23,
   "id": "bd21462f",
   "metadata": {},
   "outputs": [
    {
     "data": {
      "text/plain": [
       "true"
      ]
     },
     "execution_count": 23,
     "metadata": {},
     "output_type": "execute_result"
    }
   ],
   "source": [
    "2 !== 4"
   ]
  },
  {
   "cell_type": "code",
   "execution_count": 24,
   "id": "5eace75f",
   "metadata": {},
   "outputs": [
    {
     "data": {
      "text/plain": [
       "true"
      ]
     },
     "execution_count": 24,
     "metadata": {},
     "output_type": "execute_result"
    }
   ],
   "source": [
    "2 === 2"
   ]
  },
  {
   "cell_type": "code",
   "execution_count": 25,
   "id": "c7114ba9",
   "metadata": {
    "scrolled": true
   },
   "outputs": [
    {
     "data": {
      "text/plain": [
       "false"
      ]
     },
     "execution_count": 25,
     "metadata": {},
     "output_type": "execute_result"
    }
   ],
   "source": [
    "2 === 3"
   ]
  },
  {
   "cell_type": "code",
   "execution_count": 26,
   "id": "47920b04",
   "metadata": {},
   "outputs": [
    {
     "name": "stdout",
     "output_type": "stream",
     "text": [
      "true\n",
      "false\n"
     ]
    }
   ],
   "source": [
    "array = [1, 2,4, 5,6]\n",
    "console.log(2 in array)\n",
    "console.log(9 in array)"
   ]
  },
  {
   "cell_type": "code",
   "execution_count": 27,
   "id": "b9f94439",
   "metadata": {},
   "outputs": [
    {
     "name": "stdout",
     "output_type": "stream",
     "text": [
      "5\n",
      "true\n",
      "true\n",
      "true\n",
      "true\n",
      "true\n",
      "false\n",
      "false\n"
     ]
    }
   ],
   "source": [
    "array = ['one', 'two','three', 'four','five']\n",
    "console.log(array.length)\n",
    "console.log(0 in array)\n",
    "console.log(1 in array)\n",
    "console.log(2 in array)\n",
    "console.log(3 in array)\n",
    "console.log(4 in array)\n",
    "console.log(5 in array)\n",
    "console.log('two' in array)"
   ]
  },
  {
   "cell_type": "code",
   "execution_count": 28,
   "id": "d552e774",
   "metadata": {},
   "outputs": [
    {
     "name": "stdout",
     "output_type": "stream",
     "text": [
      "true\n"
     ]
    }
   ],
   "source": [
    "const car = { make: 'Honda', model: 'Accord', year: 1998 };\n",
    "\n",
    "console.log('make' in car);"
   ]
  },
  {
   "cell_type": "markdown",
   "id": "8355a04e",
   "metadata": {},
   "source": [
    "______"
   ]
  },
  {
   "cell_type": "markdown",
   "id": "67cda72d",
   "metadata": {},
   "source": [
    "<a id=\"1.2\"></a>\n",
    "# 1.2 Operators: `Truthy / Falsy`\n",
    "([go to top](#top))"
   ]
  },
  {
   "cell_type": "code",
   "execution_count": 29,
   "id": "2d56f54e",
   "metadata": {},
   "outputs": [
    {
     "name": "stdout",
     "output_type": "stream",
     "text": [
      "falsy\n"
     ]
    }
   ],
   "source": [
    "if (0) {\n",
    "    console.log('truthy')\n",
    "}else {\n",
    "    console.log('falsy')\n",
    "}"
   ]
  },
  {
   "cell_type": "code",
   "execution_count": 30,
   "id": "6b15046c",
   "metadata": {},
   "outputs": [
    {
     "name": "stdout",
     "output_type": "stream",
     "text": [
      "falsy\n"
     ]
    }
   ],
   "source": [
    "if (undefined) {\n",
    "    console.log('truthy')\n",
    "}else {\n",
    "    console.log('falsy')\n",
    "}"
   ]
  },
  {
   "cell_type": "code",
   "execution_count": 31,
   "id": "5d9bcefc",
   "metadata": {},
   "outputs": [
    {
     "name": "stdout",
     "output_type": "stream",
     "text": [
      "falsy\n"
     ]
    }
   ],
   "source": [
    "if (NaN) {\n",
    "    console.log('truthy')\n",
    "}else {\n",
    "    console.log('falsy')\n",
    "}"
   ]
  },
  {
   "cell_type": "code",
   "execution_count": 32,
   "id": "e935c7b2",
   "metadata": {},
   "outputs": [
    {
     "name": "stdout",
     "output_type": "stream",
     "text": [
      "falsy\n"
     ]
    }
   ],
   "source": [
    "if (null) {\n",
    "    console.log('truthy')\n",
    "}else {\n",
    "    console.log('falsy')\n",
    "}"
   ]
  },
  {
   "cell_type": "code",
   "execution_count": 33,
   "id": "fb78fe84",
   "metadata": {},
   "outputs": [
    {
     "name": "stdout",
     "output_type": "stream",
     "text": [
      "falsy\n"
     ]
    }
   ],
   "source": [
    "if ('') {\n",
    "    console.log('truthy')\n",
    "}else {\n",
    "    console.log('falsy')\n",
    "}"
   ]
  },
  {
   "cell_type": "code",
   "execution_count": 34,
   "id": "fba2297c",
   "metadata": {},
   "outputs": [
    {
     "name": "stdout",
     "output_type": "stream",
     "text": [
      "falsy\n"
     ]
    }
   ],
   "source": [
    "if (``) {\n",
    "    console.log('truthy')\n",
    "}else {\n",
    "    console.log('falsy')\n",
    "}"
   ]
  },
  {
   "cell_type": "code",
   "execution_count": 35,
   "id": "ef0edac1",
   "metadata": {},
   "outputs": [
    {
     "name": "stdout",
     "output_type": "stream",
     "text": [
      "falsy\n"
     ]
    }
   ],
   "source": [
    "if (false) {\n",
    "    console.log('truthy')\n",
    "}else {\n",
    "    console.log('falsy')\n",
    "}"
   ]
  },
  {
   "cell_type": "code",
   "execution_count": 36,
   "id": "7178b7eb",
   "metadata": {},
   "outputs": [
    {
     "name": "stdout",
     "output_type": "stream",
     "text": [
      "truthy\n"
     ]
    }
   ],
   "source": [
    "if ('non-empty-string') {\n",
    "    console.log('truthy')\n",
    "}else {\n",
    "    console.log('falsy')\n",
    "}"
   ]
  },
  {
   "cell_type": "code",
   "execution_count": 37,
   "id": "163c18c1",
   "metadata": {},
   "outputs": [
    {
     "name": "stdout",
     "output_type": "stream",
     "text": [
      "truthy\n"
     ]
    }
   ],
   "source": [
    "if (true) {\n",
    "    console.log('truthy')\n",
    "}else {\n",
    "    console.log('falsy')\n",
    "}"
   ]
  },
  {
   "cell_type": "code",
   "execution_count": 38,
   "id": "c538923b",
   "metadata": {},
   "outputs": [
    {
     "name": "stdout",
     "output_type": "stream",
     "text": [
      "truthy\n"
     ]
    }
   ],
   "source": [
    "if (2) {\n",
    "    console.log('truthy')\n",
    "}else {\n",
    "    console.log('falsy')\n",
    "}"
   ]
  },
  {
   "cell_type": "code",
   "execution_count": 39,
   "id": "17f96d92",
   "metadata": {},
   "outputs": [
    {
     "name": "stdout",
     "output_type": "stream",
     "text": [
      "truthy\n"
     ]
    }
   ],
   "source": [
    "if ({}) {\n",
    "    console.log('truthy')\n",
    "}else {\n",
    "    console.log('falsy')\n",
    "}"
   ]
  },
  {
   "cell_type": "code",
   "execution_count": 40,
   "id": "d8be445e",
   "metadata": {},
   "outputs": [
    {
     "name": "stdout",
     "output_type": "stream",
     "text": [
      "truthy\n"
     ]
    }
   ],
   "source": [
    "if ([]) {\n",
    "    console.log('truthy')\n",
    "}else {\n",
    "    console.log('falsy')\n",
    "}"
   ]
  },
  {
   "cell_type": "code",
   "execution_count": 41,
   "id": "d53786d7",
   "metadata": {},
   "outputs": [
    {
     "name": "stdout",
     "output_type": "stream",
     "text": [
      "truthy\n"
     ]
    }
   ],
   "source": [
    "if (-4) {\n",
    "    console.log('truthy')\n",
    "}else {\n",
    "    console.log('falsy')\n",
    "}"
   ]
  },
  {
   "cell_type": "code",
   "execution_count": 42,
   "id": "79da9499",
   "metadata": {},
   "outputs": [
    {
     "name": "stdout",
     "output_type": "stream",
     "text": [
      "truthy\n"
     ]
    }
   ],
   "source": [
    "if (Infinity) {\n",
    "    console.log('truthy')\n",
    "}else {\n",
    "    console.log('falsy')\n",
    "}"
   ]
  },
  {
   "cell_type": "markdown",
   "id": "14927106",
   "metadata": {},
   "source": [
    "______"
   ]
  },
  {
   "cell_type": "markdown",
   "id": "0f786919",
   "metadata": {},
   "source": [
    "<a id=\"1.3\"></a>\n",
    "# 1.3 Operators: `Assignment Operators`\n",
    "([go to top](#top))"
   ]
  },
  {
   "cell_type": "code",
   "execution_count": 43,
   "id": "40d78ad1",
   "metadata": {},
   "outputs": [
    {
     "name": "stdout",
     "output_type": "stream",
     "text": [
      "2022\n"
     ]
    }
   ],
   "source": [
    "year = 2022\n",
    "console.log(year)"
   ]
  },
  {
   "cell_type": "code",
   "execution_count": 44,
   "id": "6040469f",
   "metadata": {},
   "outputs": [
    {
     "name": "stdout",
     "output_type": "stream",
     "text": [
      "2023\n"
     ]
    }
   ],
   "source": [
    "year += 1\n",
    "console.log(year)"
   ]
  },
  {
   "cell_type": "code",
   "execution_count": 45,
   "id": "fee5b100",
   "metadata": {},
   "outputs": [
    {
     "name": "stdout",
     "output_type": "stream",
     "text": [
      "2022\n"
     ]
    }
   ],
   "source": [
    "year -= 1\n",
    "console.log(year)"
   ]
  },
  {
   "cell_type": "code",
   "execution_count": 46,
   "id": "d9662f05",
   "metadata": {
    "scrolled": true
   },
   "outputs": [
    {
     "name": "stdout",
     "output_type": "stream",
     "text": [
      "1011\n"
     ]
    }
   ],
   "source": [
    "year /= 2\n",
    "console.log(year)"
   ]
  },
  {
   "cell_type": "code",
   "execution_count": 47,
   "id": "09eb3749",
   "metadata": {
    "scrolled": true
   },
   "outputs": [
    {
     "name": "stdout",
     "output_type": "stream",
     "text": [
      "2022\n"
     ]
    }
   ],
   "source": [
    "year *= 2\n",
    "console.log(year)"
   ]
  },
  {
   "cell_type": "code",
   "execution_count": 48,
   "id": "68f54440",
   "metadata": {
    "scrolled": true
   },
   "outputs": [
    {
     "name": "stdout",
     "output_type": "stream",
     "text": [
      "2022\n",
      "2\n"
     ]
    }
   ],
   "source": [
    "console.log(year)\n",
    "year %= 5\n",
    "console.log(year)"
   ]
  },
  {
   "cell_type": "code",
   "execution_count": 49,
   "id": "c81c52c6",
   "metadata": {
    "scrolled": true
   },
   "outputs": [
    {
     "name": "stdout",
     "output_type": "stream",
     "text": [
      "4\n"
     ]
    }
   ],
   "source": [
    "year **= 2\n",
    "console.log(year)"
   ]
  },
  {
   "cell_type": "markdown",
   "id": "a9aee71b",
   "metadata": {},
   "source": [
    "<a id=\"1.4\"></a>\n",
    "# 1.4 Operators: `Logical Operators`\n",
    "([go to top](#top))"
   ]
  },
  {
   "cell_type": "code",
   "execution_count": 50,
   "id": "44cac518",
   "metadata": {
    "scrolled": true
   },
   "outputs": [
    {
     "name": "stdout",
     "output_type": "stream",
     "text": [
      "true\n"
     ]
    }
   ],
   "source": [
    "console.log(true || false)"
   ]
  },
  {
   "cell_type": "code",
   "execution_count": 51,
   "id": "52ecc2a7",
   "metadata": {
    "scrolled": false
   },
   "outputs": [
    {
     "name": "stdout",
     "output_type": "stream",
     "text": [
      "true\n"
     ]
    }
   ],
   "source": [
    "console.log(false || true)"
   ]
  },
  {
   "cell_type": "code",
   "execution_count": 52,
   "id": "2174c6fc",
   "metadata": {
    "scrolled": true
   },
   "outputs": [
    {
     "name": "stdout",
     "output_type": "stream",
     "text": [
      "false\n"
     ]
    }
   ],
   "source": [
    "console.log(true && false)"
   ]
  },
  {
   "cell_type": "code",
   "execution_count": 53,
   "id": "411e73e6",
   "metadata": {
    "scrolled": false
   },
   "outputs": [
    {
     "name": "stdout",
     "output_type": "stream",
     "text": [
      "false\n"
     ]
    }
   ],
   "source": [
    "console.log(false && true)"
   ]
  },
  {
   "cell_type": "code",
   "execution_count": 54,
   "id": "4ba5904e",
   "metadata": {
    "scrolled": false
   },
   "outputs": [
    {
     "name": "stdout",
     "output_type": "stream",
     "text": [
      "false\n"
     ]
    }
   ],
   "source": [
    "console.log(!true || false)"
   ]
  },
  {
   "cell_type": "code",
   "execution_count": 55,
   "id": "a6aee965",
   "metadata": {
    "scrolled": false
   },
   "outputs": [
    {
     "name": "stdout",
     "output_type": "stream",
     "text": [
      "true\n"
     ]
    }
   ],
   "source": [
    "console.log(!false && true)"
   ]
  },
  {
   "cell_type": "code",
   "execution_count": 56,
   "id": "99306ba9",
   "metadata": {},
   "outputs": [
    {
     "data": {
      "text/plain": [
       "true"
      ]
     },
     "execution_count": 56,
     "metadata": {},
     "output_type": "execute_result"
    }
   ],
   "source": [
    "!\"\""
   ]
  },
  {
   "cell_type": "markdown",
   "id": "eba00ed8",
   "metadata": {},
   "source": [
    "_____"
   ]
  },
  {
   "cell_type": "markdown",
   "id": "50008459",
   "metadata": {},
   "source": [
    "<a id=\"2\"></a>\n",
    "# 2 BuiltIns: `Math`\n",
    "([go to top](#top))"
   ]
  },
  {
   "cell_type": "code",
   "execution_count": 57,
   "id": "d67a3704",
   "metadata": {},
   "outputs": [
    {
     "data": {
      "text/plain": [
       "2"
      ]
     },
     "execution_count": 57,
     "metadata": {},
     "output_type": "execute_result"
    }
   ],
   "source": [
    "Math.floor(2.4)"
   ]
  },
  {
   "cell_type": "code",
   "execution_count": 58,
   "id": "2c6bedc3",
   "metadata": {},
   "outputs": [
    {
     "data": {
      "text/plain": [
       "3"
      ]
     },
     "execution_count": 58,
     "metadata": {},
     "output_type": "execute_result"
    }
   ],
   "source": [
    "Math.ceil(2.4)"
   ]
  },
  {
   "cell_type": "code",
   "execution_count": 59,
   "id": "d305c026",
   "metadata": {
    "scrolled": true
   },
   "outputs": [
    {
     "data": {
      "text/plain": [
       "0.38599953337205206"
      ]
     },
     "execution_count": 59,
     "metadata": {},
     "output_type": "execute_result"
    }
   ],
   "source": [
    "Math.random()"
   ]
  },
  {
   "cell_type": "code",
   "execution_count": 60,
   "id": "9ac8a92d",
   "metadata": {
    "scrolled": true
   },
   "outputs": [
    {
     "data": {
      "text/plain": [
       "0.03958924790026419"
      ]
     },
     "execution_count": 60,
     "metadata": {},
     "output_type": "execute_result"
    }
   ],
   "source": [
    "Math.random()"
   ]
  },
  {
   "cell_type": "code",
   "execution_count": 61,
   "id": "f30dcec3",
   "metadata": {},
   "outputs": [
    {
     "data": {
      "text/plain": [
       "2"
      ]
     },
     "execution_count": 61,
     "metadata": {},
     "output_type": "execute_result"
    }
   ],
   "source": [
    "Math.floor(Math.random() * 5)"
   ]
  },
  {
   "cell_type": "code",
   "execution_count": 62,
   "id": "2b245c08",
   "metadata": {},
   "outputs": [
    {
     "data": {
      "text/plain": [
       "4"
      ]
     },
     "execution_count": 62,
     "metadata": {},
     "output_type": "execute_result"
    }
   ],
   "source": [
    "Math.floor(Math.random() * 5)"
   ]
  },
  {
   "cell_type": "code",
   "execution_count": 63,
   "id": "7c08898e",
   "metadata": {},
   "outputs": [
    {
     "data": {
      "text/plain": [
       "16"
      ]
     },
     "execution_count": 63,
     "metadata": {},
     "output_type": "execute_result"
    }
   ],
   "source": [
    "Math.pow(2, 4)"
   ]
  },
  {
   "cell_type": "code",
   "execution_count": 64,
   "id": "e143c2fc",
   "metadata": {},
   "outputs": [
    {
     "name": "stdout",
     "output_type": "stream",
     "text": [
      "3\n"
     ]
    }
   ],
   "source": [
    "console.log(Math.max(1, 3, 2));"
   ]
  },
  {
   "cell_type": "code",
   "execution_count": 65,
   "id": "b74da640",
   "metadata": {},
   "outputs": [
    {
     "name": "stdout",
     "output_type": "stream",
     "text": [
      "1\n"
     ]
    }
   ],
   "source": [
    "console.log(Math.min(2, 3, 1));"
   ]
  },
  {
   "cell_type": "code",
   "execution_count": null,
   "id": "583383cf",
   "metadata": {},
   "outputs": [],
   "source": []
  },
  {
   "cell_type": "markdown",
   "id": "f5396fd8",
   "metadata": {},
   "source": [
    "_______________"
   ]
  },
  {
   "cell_type": "markdown",
   "id": "78968ba1",
   "metadata": {},
   "source": [
    "<a id=\"3\"></a>\n",
    "# 3. Title\n",
    "([go to top](#top))"
   ]
  },
  {
   "cell_type": "markdown",
   "id": "8911b89e",
   "metadata": {},
   "source": [
    "____"
   ]
  },
  {
   "cell_type": "markdown",
   "id": "4ff26d70",
   "metadata": {},
   "source": [
    "<a id=\"4\"></a>\n",
    "# 4. Title\n",
    "([go to top](#top))"
   ]
  },
  {
   "cell_type": "markdown",
   "id": "b2877e1e",
   "metadata": {},
   "source": [
    "____"
   ]
  },
  {
   "cell_type": "markdown",
   "id": "242ef396",
   "metadata": {},
   "source": [
    "<a id=\"5\"></a>\n",
    "# 5. Title\n",
    "([go to top](#top))"
   ]
  },
  {
   "cell_type": "markdown",
   "id": "01be605b",
   "metadata": {},
   "source": [
    "____"
   ]
  },
  {
   "cell_type": "markdown",
   "id": "165c2ef8",
   "metadata": {},
   "source": [
    "<a id=\"6\"></a>\n",
    "# 6. Title\n",
    "([go to top](#top))"
   ]
  },
  {
   "cell_type": "markdown",
   "id": "54fa2ecc",
   "metadata": {},
   "source": [
    "____"
   ]
  },
  {
   "cell_type": "markdown",
   "id": "22d2569b",
   "metadata": {},
   "source": [
    "<a id=\"7\"></a>\n",
    "# 7. Title\n",
    "([go to top](#top))"
   ]
  },
  {
   "cell_type": "markdown",
   "id": "0cef772e",
   "metadata": {},
   "source": [
    "____"
   ]
  },
  {
   "cell_type": "markdown",
   "id": "1a6c9498",
   "metadata": {},
   "source": [
    "<a id=\"8\"></a>\n",
    "# 8. Title\n",
    "([go to top](#top))"
   ]
  },
  {
   "cell_type": "markdown",
   "id": "fe184caa",
   "metadata": {},
   "source": [
    "____"
   ]
  },
  {
   "cell_type": "markdown",
   "id": "daa63866",
   "metadata": {},
   "source": [
    "<a id=\"9\"></a>\n",
    "# 9. Title\n",
    "([go to top](#top))"
   ]
  },
  {
   "cell_type": "markdown",
   "id": "e6f1afe1",
   "metadata": {},
   "source": [
    "____"
   ]
  },
  {
   "cell_type": "markdown",
   "id": "37aae51b",
   "metadata": {},
   "source": [
    "<a id=\"10\"></a>\n",
    "# 10. Title\n",
    "([go to top](#top))"
   ]
  },
  {
   "cell_type": "markdown",
   "id": "ce4ebdbf",
   "metadata": {},
   "source": [
    "____"
   ]
  },
  {
   "cell_type": "markdown",
   "id": "19173913",
   "metadata": {},
   "source": [
    "<a id=\"11\"></a>\n",
    "# 11. Title\n",
    "([go to top](#top))"
   ]
  },
  {
   "cell_type": "markdown",
   "id": "e32619d0",
   "metadata": {},
   "source": [
    "____"
   ]
  },
  {
   "cell_type": "markdown",
   "id": "848ce8ff",
   "metadata": {},
   "source": [
    "<a id=\"12\"></a>\n",
    "# 12. Title\n",
    "([go to top](#top))"
   ]
  },
  {
   "cell_type": "markdown",
   "id": "e6c55946",
   "metadata": {},
   "source": [
    "____"
   ]
  },
  {
   "cell_type": "markdown",
   "id": "9ab4ee79",
   "metadata": {},
   "source": [
    "<a id=\"13\"></a>\n",
    "# 13. Title\n",
    "([go to top](#top))"
   ]
  },
  {
   "cell_type": "markdown",
   "id": "bd810c8f",
   "metadata": {},
   "source": [
    "____"
   ]
  },
  {
   "cell_type": "markdown",
   "id": "849f3d81",
   "metadata": {},
   "source": [
    "<a id=\"14\"></a>\n",
    "# 14. Title\n",
    "([go to top](#top))"
   ]
  },
  {
   "cell_type": "markdown",
   "id": "eb0aac58",
   "metadata": {},
   "source": [
    "____"
   ]
  },
  {
   "cell_type": "markdown",
   "id": "ad49642f",
   "metadata": {},
   "source": [
    "<a id=\"15\"></a>\n",
    "# 15. Title\n",
    "([go to top](#top))"
   ]
  },
  {
   "cell_type": "markdown",
   "id": "8067e877",
   "metadata": {},
   "source": [
    "____"
   ]
  },
  {
   "cell_type": "markdown",
   "id": "d3c3caa9",
   "metadata": {},
   "source": [
    "<a id=\"16\"></a>\n",
    "# 16. Title\n",
    "([go to top](#top))"
   ]
  },
  {
   "cell_type": "markdown",
   "id": "49ca043d",
   "metadata": {},
   "source": [
    "____"
   ]
  },
  {
   "cell_type": "markdown",
   "id": "a78628cc",
   "metadata": {},
   "source": [
    "<a id=\"17\"></a>\n",
    "# 17. Title\n",
    "([go to top](#top))"
   ]
  },
  {
   "cell_type": "markdown",
   "id": "51410c94",
   "metadata": {},
   "source": [
    "____"
   ]
  },
  {
   "cell_type": "markdown",
   "id": "11ae0a92",
   "metadata": {},
   "source": [
    "<a id=\"18\"></a>\n",
    "# 18. Title\n",
    "([go to top](#top))"
   ]
  },
  {
   "cell_type": "markdown",
   "id": "b7870397",
   "metadata": {},
   "source": [
    "____"
   ]
  },
  {
   "cell_type": "markdown",
   "id": "e7f1459c",
   "metadata": {},
   "source": [
    "<a id=\"19\"></a>\n",
    "# 19. Title\n",
    "([go to top](#top))"
   ]
  },
  {
   "cell_type": "markdown",
   "id": "f12e52b2",
   "metadata": {},
   "source": [
    "____"
   ]
  },
  {
   "cell_type": "markdown",
   "id": "a70d2aee",
   "metadata": {},
   "source": [
    "<a id=\"20\"></a>\n",
    "# 20. Title\n",
    "([go to top](#top))"
   ]
  },
  {
   "cell_type": "markdown",
   "id": "2afb70fe",
   "metadata": {},
   "source": [
    "____"
   ]
  },
  {
   "cell_type": "markdown",
   "id": "251e74b6",
   "metadata": {},
   "source": [
    "<a id=\"21\"></a>\n",
    "# 21. Title\n",
    "([go to top](#top))"
   ]
  },
  {
   "cell_type": "markdown",
   "id": "4fdaac7a",
   "metadata": {},
   "source": [
    "____"
   ]
  },
  {
   "cell_type": "markdown",
   "id": "0dafe209",
   "metadata": {},
   "source": [
    "<a id=\"22\"></a>\n",
    "# 22. Title\n",
    "([go to top](#top))"
   ]
  },
  {
   "cell_type": "markdown",
   "id": "76dee883",
   "metadata": {},
   "source": [
    "____"
   ]
  },
  {
   "cell_type": "markdown",
   "id": "696d8402",
   "metadata": {},
   "source": [
    "<a id=\"23\"></a>\n",
    "# 23. Title\n",
    "([go to top](#top))"
   ]
  },
  {
   "cell_type": "markdown",
   "id": "ff0b0fae",
   "metadata": {},
   "source": [
    "____"
   ]
  },
  {
   "cell_type": "markdown",
   "id": "f64638ad",
   "metadata": {},
   "source": [
    "<a id=\"24\"></a>\n",
    "# 24. Title\n",
    "([go to top](#top))"
   ]
  },
  {
   "cell_type": "markdown",
   "id": "839a6ba6",
   "metadata": {},
   "source": [
    "____"
   ]
  },
  {
   "cell_type": "markdown",
   "id": "951e68fd",
   "metadata": {},
   "source": [
    "<a id=\"25\"></a>\n",
    "# 25. Title\n",
    "([go to top](#top))"
   ]
  },
  {
   "cell_type": "markdown",
   "id": "3b29e1e4",
   "metadata": {},
   "source": [
    "____"
   ]
  },
  {
   "cell_type": "markdown",
   "id": "9ad2f924",
   "metadata": {},
   "source": [
    "<a id=\"26\"></a>\n",
    "# 26. Title\n",
    "([go to top](#top))"
   ]
  },
  {
   "cell_type": "markdown",
   "id": "0cf20a46",
   "metadata": {},
   "source": [
    "____"
   ]
  },
  {
   "cell_type": "markdown",
   "id": "baa65dc2",
   "metadata": {},
   "source": [
    "<a id=\"27\"></a>\n",
    "# 27. Title\n",
    "([go to top](#top))"
   ]
  },
  {
   "cell_type": "markdown",
   "id": "923c00d7",
   "metadata": {},
   "source": [
    "____"
   ]
  },
  {
   "cell_type": "markdown",
   "id": "50dda372",
   "metadata": {},
   "source": [
    "<a id=\"28\"></a>\n",
    "# 28. Title\n",
    "([go to top](#top))"
   ]
  },
  {
   "cell_type": "markdown",
   "id": "bf021c64",
   "metadata": {},
   "source": [
    "____"
   ]
  },
  {
   "cell_type": "markdown",
   "id": "e4763317",
   "metadata": {},
   "source": [
    "<a id=\"29\"></a>\n",
    "# 29. Title\n",
    "([go to top](#top))"
   ]
  },
  {
   "cell_type": "markdown",
   "id": "cc5fd710",
   "metadata": {},
   "source": [
    "____"
   ]
  },
  {
   "cell_type": "markdown",
   "id": "5f469575",
   "metadata": {},
   "source": [
    "<a id=\"30\"></a>\n",
    "# 30. Title\n",
    "([go to top](#top))"
   ]
  },
  {
   "cell_type": "markdown",
   "id": "8d4d5109",
   "metadata": {},
   "source": [
    "____"
   ]
  },
  {
   "cell_type": "markdown",
   "id": "c5f076a4",
   "metadata": {},
   "source": [
    "<a id=\"31\"></a>\n",
    "# 31. Title\n",
    "([go to top](#top))"
   ]
  },
  {
   "cell_type": "markdown",
   "id": "5fc35f29",
   "metadata": {},
   "source": [
    "____"
   ]
  },
  {
   "cell_type": "markdown",
   "id": "2ee76176",
   "metadata": {},
   "source": [
    "<a id=\"32\"></a>\n",
    "# 32. Title\n",
    "([go to top](#top))"
   ]
  },
  {
   "cell_type": "markdown",
   "id": "3d75f067",
   "metadata": {},
   "source": [
    "____"
   ]
  },
  {
   "cell_type": "markdown",
   "id": "b66b4036",
   "metadata": {},
   "source": [
    "<a id=\"33\"></a>\n",
    "# 33. Title\n",
    "([go to top](#top))"
   ]
  },
  {
   "cell_type": "markdown",
   "id": "cde5aacb",
   "metadata": {},
   "source": [
    "____"
   ]
  },
  {
   "cell_type": "markdown",
   "id": "23ccef1e",
   "metadata": {},
   "source": [
    "<a id=\"34\"></a>\n",
    "# 34. Title\n",
    "([go to top](#top))"
   ]
  },
  {
   "cell_type": "markdown",
   "id": "74a7ea81",
   "metadata": {},
   "source": [
    "____"
   ]
  },
  {
   "cell_type": "markdown",
   "id": "d5dc6d3f",
   "metadata": {},
   "source": [
    "<a id=\"35\"></a>\n",
    "# 35. Title\n",
    "([go to top](#top))"
   ]
  },
  {
   "cell_type": "markdown",
   "id": "073cadc2",
   "metadata": {},
   "source": [
    "____"
   ]
  },
  {
   "cell_type": "markdown",
   "id": "a308203d",
   "metadata": {},
   "source": [
    "<a id=\"36\"></a>\n",
    "# 36. Title\n",
    "([go to top](#top))"
   ]
  },
  {
   "cell_type": "markdown",
   "id": "943408d2",
   "metadata": {},
   "source": [
    "____"
   ]
  },
  {
   "cell_type": "markdown",
   "id": "5e8e9423",
   "metadata": {},
   "source": [
    "<a id=\"37\"></a>\n",
    "# 37. Title\n",
    "([go to top](#top))"
   ]
  },
  {
   "cell_type": "markdown",
   "id": "7a6706fd",
   "metadata": {},
   "source": [
    "____"
   ]
  },
  {
   "cell_type": "markdown",
   "id": "53ec5605",
   "metadata": {},
   "source": [
    "<a id=\"38\"></a>\n",
    "# 38. Title\n",
    "([go to top](#top))"
   ]
  },
  {
   "cell_type": "markdown",
   "id": "0aea7eed",
   "metadata": {},
   "source": [
    "____"
   ]
  },
  {
   "cell_type": "markdown",
   "id": "128bbb7f",
   "metadata": {},
   "source": [
    "<a id=\"39\"></a>\n",
    "# 39. Title\n",
    "([go to top](#top))"
   ]
  },
  {
   "cell_type": "markdown",
   "id": "835f738b",
   "metadata": {},
   "source": [
    "____"
   ]
  },
  {
   "cell_type": "markdown",
   "id": "44c39f55",
   "metadata": {},
   "source": [
    "<a id=\"40\"></a>\n",
    "# 40. Title\n",
    "([go to top](#top))"
   ]
  },
  {
   "cell_type": "markdown",
   "id": "55570346",
   "metadata": {},
   "source": [
    "____"
   ]
  },
  {
   "cell_type": "markdown",
   "id": "62d39e6b",
   "metadata": {},
   "source": [
    "<a id=\"41\"></a>\n",
    "# 41. Title\n",
    "([go to top](#top))"
   ]
  },
  {
   "cell_type": "markdown",
   "id": "2d8097a8",
   "metadata": {},
   "source": [
    "____"
   ]
  },
  {
   "cell_type": "markdown",
   "id": "834c594c",
   "metadata": {},
   "source": [
    "<a id=\"42\"></a>\n",
    "# 42. Title\n",
    "([go to top](#top))"
   ]
  },
  {
   "cell_type": "markdown",
   "id": "0239451b",
   "metadata": {},
   "source": [
    "____"
   ]
  },
  {
   "cell_type": "markdown",
   "id": "c29839ca",
   "metadata": {},
   "source": [
    "<a id=\"43\"></a>\n",
    "# 43. Title\n",
    "([go to top](#top))"
   ]
  },
  {
   "cell_type": "markdown",
   "id": "aba3079e",
   "metadata": {},
   "source": [
    "____"
   ]
  },
  {
   "cell_type": "markdown",
   "id": "3ccc5f87",
   "metadata": {},
   "source": [
    "<a id=\"44\"></a>\n",
    "# 44. Title\n",
    "([go to top](#top))"
   ]
  },
  {
   "cell_type": "markdown",
   "id": "822af715",
   "metadata": {},
   "source": [
    "____"
   ]
  },
  {
   "cell_type": "markdown",
   "id": "2a4c7a20",
   "metadata": {},
   "source": [
    "<a id=\"45\"></a>\n",
    "# 45. Title\n",
    "([go to top](#top))"
   ]
  },
  {
   "cell_type": "markdown",
   "id": "89f79944",
   "metadata": {},
   "source": [
    "____"
   ]
  },
  {
   "cell_type": "markdown",
   "id": "817e3754",
   "metadata": {},
   "source": [
    "<a id=\"46\"></a>\n",
    "# 46. Title\n",
    "([go to top](#top))"
   ]
  },
  {
   "cell_type": "markdown",
   "id": "d96976a3",
   "metadata": {},
   "source": [
    "____"
   ]
  },
  {
   "cell_type": "markdown",
   "id": "4a0556a9",
   "metadata": {},
   "source": [
    "<a id=\"47\"></a>\n",
    "# 47. Title\n",
    "([go to top](#top))"
   ]
  },
  {
   "cell_type": "markdown",
   "id": "0e01fe39",
   "metadata": {},
   "source": [
    "____"
   ]
  },
  {
   "cell_type": "markdown",
   "id": "2905c09f",
   "metadata": {},
   "source": [
    "<a id=\"48\"></a>\n",
    "# 48. Title\n",
    "([go to top](#top))"
   ]
  },
  {
   "cell_type": "markdown",
   "id": "9d5b6c43",
   "metadata": {},
   "source": [
    "____"
   ]
  },
  {
   "cell_type": "markdown",
   "id": "e362a0f0",
   "metadata": {},
   "source": [
    "<a id=\"49\"></a>\n",
    "# 50. Title\n",
    "([go to top](#top))"
   ]
  },
  {
   "cell_type": "markdown",
   "id": "16932d13",
   "metadata": {},
   "source": [
    "____"
   ]
  },
  {
   "cell_type": "markdown",
   "id": "0cb3cbb0",
   "metadata": {},
   "source": [
    "<a id=\"51\"></a>\n",
    "# 51. Title\n",
    "([go to top](#top))"
   ]
  },
  {
   "cell_type": "markdown",
   "id": "c7b719cf",
   "metadata": {},
   "source": [
    "____"
   ]
  },
  {
   "cell_type": "markdown",
   "id": "813488d6",
   "metadata": {},
   "source": [
    "<a id=\"52\"></a>\n",
    "# 52. Title\n",
    "([go to top](#top))"
   ]
  },
  {
   "cell_type": "markdown",
   "id": "143c47dd",
   "metadata": {},
   "source": [
    "____"
   ]
  },
  {
   "cell_type": "markdown",
   "id": "7fffbb36",
   "metadata": {},
   "source": [
    "<a id=\"53\"></a>\n",
    "# 53. Title\n",
    "([go to top](#top))"
   ]
  },
  {
   "cell_type": "markdown",
   "id": "fffebf8d",
   "metadata": {},
   "source": [
    "____"
   ]
  },
  {
   "cell_type": "markdown",
   "id": "681ef287",
   "metadata": {},
   "source": [
    "<a id=\"54\"></a>\n",
    "# 54. Title\n",
    "([go to top](#top))"
   ]
  },
  {
   "cell_type": "markdown",
   "id": "98e75220",
   "metadata": {},
   "source": [
    "____"
   ]
  },
  {
   "cell_type": "markdown",
   "id": "e3c02ca7",
   "metadata": {},
   "source": [
    "<a id=\"55\"></a>\n",
    "# 55. Title\n",
    "([go to top](#top))"
   ]
  },
  {
   "cell_type": "markdown",
   "id": "ebbbddfc",
   "metadata": {},
   "source": [
    "____"
   ]
  },
  {
   "cell_type": "markdown",
   "id": "4d555bbf",
   "metadata": {},
   "source": [
    "<a id=\"56\"></a>\n",
    "# 56. Title\n",
    "([go to top](#top))"
   ]
  },
  {
   "cell_type": "markdown",
   "id": "4394f474",
   "metadata": {},
   "source": [
    "____"
   ]
  },
  {
   "cell_type": "markdown",
   "id": "520c01f9",
   "metadata": {},
   "source": [
    "<a id=\"57\"></a>\n",
    "# 57. Title\n",
    "([go to top](#top))"
   ]
  },
  {
   "cell_type": "markdown",
   "id": "49ae3635",
   "metadata": {},
   "source": [
    "____"
   ]
  },
  {
   "cell_type": "markdown",
   "id": "34fb09b8",
   "metadata": {},
   "source": [
    "<a id=\"58\"></a>\n",
    "# 58. Title\n",
    "([go to top](#top))"
   ]
  },
  {
   "cell_type": "markdown",
   "id": "19359928",
   "metadata": {},
   "source": [
    "____"
   ]
  },
  {
   "cell_type": "markdown",
   "id": "640262b8",
   "metadata": {},
   "source": [
    "<a id=\"59\"></a>\n",
    "# 59. Title\n",
    "([go to top](#top))"
   ]
  },
  {
   "cell_type": "markdown",
   "id": "faa97f66",
   "metadata": {},
   "source": [
    "____"
   ]
  },
  {
   "cell_type": "markdown",
   "id": "2226f553",
   "metadata": {},
   "source": [
    "<a id=\"60\"></a>\n",
    "# 60. Title\n",
    "([go to top](#top))"
   ]
  },
  {
   "cell_type": "markdown",
   "id": "e41aa731",
   "metadata": {},
   "source": [
    "____"
   ]
  },
  {
   "cell_type": "markdown",
   "id": "478cde61",
   "metadata": {},
   "source": [
    "<a id=\"61\"></a>\n",
    "# 61. Title\n",
    "([go to top](#top))"
   ]
  },
  {
   "cell_type": "markdown",
   "id": "84eabddc",
   "metadata": {},
   "source": [
    "____"
   ]
  },
  {
   "cell_type": "markdown",
   "id": "90bd481f",
   "metadata": {},
   "source": [
    "<a id=\"62\"></a>\n",
    "# 62. Title\n",
    "([go to top](#top))"
   ]
  },
  {
   "cell_type": "markdown",
   "id": "bec084b2",
   "metadata": {},
   "source": [
    "____"
   ]
  },
  {
   "cell_type": "markdown",
   "id": "b741ce7e",
   "metadata": {},
   "source": [
    "<a id=\"63\"></a>\n",
    "# 63. Title\n",
    "([go to top](#top))"
   ]
  },
  {
   "cell_type": "markdown",
   "id": "f0e613e2",
   "metadata": {},
   "source": [
    "____"
   ]
  },
  {
   "cell_type": "markdown",
   "id": "3411eec6",
   "metadata": {},
   "source": [
    "<a id=\"64\"></a>\n",
    "# 64. Title\n",
    "([go to top](#top))"
   ]
  },
  {
   "cell_type": "markdown",
   "id": "e60846fd",
   "metadata": {},
   "source": [
    "____"
   ]
  },
  {
   "cell_type": "markdown",
   "id": "9514403f",
   "metadata": {},
   "source": [
    "<a id=\"65\"></a>\n",
    "# 65. Title\n",
    "([go to top](#top))"
   ]
  },
  {
   "cell_type": "markdown",
   "id": "b9b5e9a6",
   "metadata": {},
   "source": [
    "____"
   ]
  },
  {
   "cell_type": "markdown",
   "id": "c444e6e8",
   "metadata": {},
   "source": [
    "<a id=\"66\"></a>\n",
    "# 66. Title\n",
    "([go to top](#top))"
   ]
  },
  {
   "cell_type": "markdown",
   "id": "12305641",
   "metadata": {},
   "source": [
    "____"
   ]
  },
  {
   "cell_type": "markdown",
   "id": "9517ba54",
   "metadata": {},
   "source": [
    "<a id=\"67\"></a>\n",
    "# 67. Title\n",
    "([go to top](#top))"
   ]
  },
  {
   "cell_type": "markdown",
   "id": "c94e06c9",
   "metadata": {},
   "source": [
    "____"
   ]
  },
  {
   "cell_type": "markdown",
   "id": "9eba4ef4",
   "metadata": {},
   "source": [
    "<a id=\"68\"></a>\n",
    "# 68. Title\n",
    "([go to top](#top))"
   ]
  },
  {
   "cell_type": "markdown",
   "id": "9ee9e802",
   "metadata": {},
   "source": [
    "____"
   ]
  },
  {
   "cell_type": "markdown",
   "id": "c47352f1",
   "metadata": {},
   "source": [
    "<a id=\"69\"></a>\n",
    "# 69. Title\n",
    "([go to top](#top))"
   ]
  },
  {
   "cell_type": "markdown",
   "id": "ec16bc8e",
   "metadata": {},
   "source": [
    "____"
   ]
  },
  {
   "cell_type": "markdown",
   "id": "7e8d040a",
   "metadata": {},
   "source": [
    "<a id=\"70\"></a>\n",
    "# 70. Title\n",
    "([go to top](#top))"
   ]
  },
  {
   "cell_type": "markdown",
   "id": "49fda370",
   "metadata": {},
   "source": [
    "____"
   ]
  },
  {
   "cell_type": "markdown",
   "id": "5fb67390",
   "metadata": {},
   "source": [
    "<a id=\"71\"></a>\n",
    "# 71. Title\n",
    "([go to top](#top))"
   ]
  },
  {
   "cell_type": "markdown",
   "id": "4f067c1d",
   "metadata": {},
   "source": [
    "____"
   ]
  },
  {
   "cell_type": "markdown",
   "id": "d3328129",
   "metadata": {},
   "source": [
    "<a id=\"72\"></a>\n",
    "# 72. Title\n",
    "([go to top](#top))"
   ]
  },
  {
   "cell_type": "markdown",
   "id": "fb5d8a99",
   "metadata": {},
   "source": [
    "____"
   ]
  },
  {
   "cell_type": "markdown",
   "id": "a48f1df4",
   "metadata": {},
   "source": [
    "<a id=\"73\"></a>\n",
    "# 73. Title\n",
    "([go to top](#top))"
   ]
  },
  {
   "cell_type": "markdown",
   "id": "c58ed76e",
   "metadata": {},
   "source": [
    "____"
   ]
  },
  {
   "cell_type": "markdown",
   "id": "f267791b",
   "metadata": {},
   "source": [
    "<a id=\"74\"></a>\n",
    "# 74. Title\n",
    "([go to top](#top))"
   ]
  },
  {
   "cell_type": "markdown",
   "id": "5204b87e",
   "metadata": {},
   "source": [
    "____"
   ]
  },
  {
   "cell_type": "markdown",
   "id": "65f6c3c4",
   "metadata": {},
   "source": [
    "<a id=\"75\"></a>\n",
    "# 75. Title\n",
    "([go to top](#top))"
   ]
  },
  {
   "cell_type": "markdown",
   "id": "62e4bfa1",
   "metadata": {},
   "source": [
    "____"
   ]
  },
  {
   "cell_type": "markdown",
   "id": "2d749206",
   "metadata": {},
   "source": [
    "<a id=\"76\"></a>\n",
    "# 76. Title\n",
    "([go to top](#top))"
   ]
  },
  {
   "cell_type": "markdown",
   "id": "53605ba8",
   "metadata": {},
   "source": [
    "____"
   ]
  },
  {
   "cell_type": "markdown",
   "id": "aad531d7",
   "metadata": {},
   "source": [
    "<a id=\"77\"></a>\n",
    "# 77. Title\n",
    "([go to top](#top))"
   ]
  },
  {
   "cell_type": "markdown",
   "id": "db205be5",
   "metadata": {},
   "source": [
    "____"
   ]
  },
  {
   "cell_type": "markdown",
   "id": "41b47574",
   "metadata": {},
   "source": [
    "<a id=\"78\"></a>\n",
    "# 78. Title\n",
    "([go to top](#top))"
   ]
  },
  {
   "cell_type": "markdown",
   "id": "9148f218",
   "metadata": {},
   "source": [
    "____"
   ]
  },
  {
   "cell_type": "markdown",
   "id": "da2339f0",
   "metadata": {},
   "source": [
    "<a id=\"79\"></a>\n",
    "# 79. Title\n",
    "([go to top](#top))"
   ]
  },
  {
   "cell_type": "markdown",
   "id": "e94592b1",
   "metadata": {},
   "source": [
    "____"
   ]
  },
  {
   "cell_type": "markdown",
   "id": "61ddcdaf",
   "metadata": {},
   "source": [
    "<a id=\"80\"></a>\n",
    "# 80. Title\n",
    "([go to top](#top))"
   ]
  },
  {
   "cell_type": "markdown",
   "id": "3c734457",
   "metadata": {},
   "source": [
    "____"
   ]
  },
  {
   "cell_type": "markdown",
   "id": "7b6f8817",
   "metadata": {},
   "source": [
    "<a id=\"81\"></a>\n",
    "# 81. Title\n",
    "([go to top](#top))"
   ]
  },
  {
   "cell_type": "markdown",
   "id": "1d3d9a96",
   "metadata": {},
   "source": [
    "____"
   ]
  },
  {
   "cell_type": "markdown",
   "id": "e3453255",
   "metadata": {},
   "source": [
    "<a id=\"82\"></a>\n",
    "# 82. Title\n",
    "([go to top](#top))"
   ]
  },
  {
   "cell_type": "markdown",
   "id": "adab25bb",
   "metadata": {},
   "source": [
    "____"
   ]
  },
  {
   "cell_type": "markdown",
   "id": "2caae6f9",
   "metadata": {},
   "source": [
    "<a id=\"83\"></a>\n",
    "# 84. Title\n",
    "([go to top](#top))"
   ]
  },
  {
   "cell_type": "markdown",
   "id": "08785a29",
   "metadata": {},
   "source": [
    "____"
   ]
  },
  {
   "cell_type": "markdown",
   "id": "5100d5c5",
   "metadata": {},
   "source": [
    "<a id=\"85\"></a>\n",
    "# 85. Title\n",
    "([go to top](#top))"
   ]
  },
  {
   "cell_type": "markdown",
   "id": "e0b9d3df",
   "metadata": {},
   "source": [
    "____"
   ]
  },
  {
   "cell_type": "markdown",
   "id": "1accc492",
   "metadata": {},
   "source": [
    "<a id=\"86\"></a>\n",
    "# 86. Title\n",
    "([go to top](#top))"
   ]
  },
  {
   "cell_type": "markdown",
   "id": "3e8487ec",
   "metadata": {},
   "source": [
    "____"
   ]
  },
  {
   "cell_type": "markdown",
   "id": "a712d488",
   "metadata": {},
   "source": [
    "<a id=\"87\"></a>\n",
    "# 87. Title\n",
    "([go to top](#top))"
   ]
  },
  {
   "cell_type": "markdown",
   "id": "e974ff2b",
   "metadata": {},
   "source": [
    "____"
   ]
  },
  {
   "cell_type": "markdown",
   "id": "c51f4677",
   "metadata": {},
   "source": [
    "<a id=\"88\"></a>\n",
    "# 88. Title\n",
    "([go to top](#top))"
   ]
  },
  {
   "cell_type": "markdown",
   "id": "8b9fa131",
   "metadata": {},
   "source": [
    "____"
   ]
  },
  {
   "cell_type": "markdown",
   "id": "6aef41ab",
   "metadata": {},
   "source": [
    "<a id=\"89\"></a>\n",
    "# 89. Title\n",
    "([go to top](#top))"
   ]
  },
  {
   "cell_type": "markdown",
   "id": "d834a9f8",
   "metadata": {},
   "source": [
    "____"
   ]
  },
  {
   "cell_type": "markdown",
   "id": "c0b8903e",
   "metadata": {},
   "source": [
    "<a id=\"90\"></a>\n",
    "# 90. Title\n",
    "([go to top](#top))"
   ]
  },
  {
   "cell_type": "markdown",
   "id": "b98a497a",
   "metadata": {},
   "source": [
    "____"
   ]
  },
  {
   "cell_type": "markdown",
   "id": "64534988",
   "metadata": {},
   "source": [
    "<a id=\"91\"></a>\n",
    "# 91. Title\n",
    "([go to top](#top))"
   ]
  },
  {
   "cell_type": "markdown",
   "id": "1a722d6b",
   "metadata": {},
   "source": [
    "____"
   ]
  },
  {
   "cell_type": "markdown",
   "id": "50e612e1",
   "metadata": {},
   "source": [
    "<a id=\"92\"></a>\n",
    "# 92. Title\n",
    "([go to top](#top))"
   ]
  },
  {
   "cell_type": "markdown",
   "id": "37cf8528",
   "metadata": {},
   "source": [
    "____"
   ]
  },
  {
   "cell_type": "markdown",
   "id": "238c7ac1",
   "metadata": {},
   "source": [
    "<a id=\"93\"></a>\n",
    "# 93. Title\n",
    "([go to top](#top))"
   ]
  },
  {
   "cell_type": "markdown",
   "id": "51b60c33",
   "metadata": {},
   "source": [
    "____"
   ]
  },
  {
   "cell_type": "markdown",
   "id": "4a5b17c3",
   "metadata": {},
   "source": [
    "<a id=\"94\"></a>\n",
    "# 94. Title\n",
    "([go to top](#top))"
   ]
  },
  {
   "cell_type": "markdown",
   "id": "8510ec71",
   "metadata": {},
   "source": [
    "____"
   ]
  },
  {
   "cell_type": "markdown",
   "id": "9137f111",
   "metadata": {},
   "source": [
    "<a id=\"95\"></a>\n",
    "# 95. Title\n",
    "([go to top](#top))"
   ]
  },
  {
   "cell_type": "markdown",
   "id": "07a28907",
   "metadata": {},
   "source": [
    "____"
   ]
  },
  {
   "cell_type": "markdown",
   "id": "ae2ab720",
   "metadata": {},
   "source": [
    "<a id=\"96\"></a>\n",
    "# 96. Title\n",
    "([go to top](#top))"
   ]
  },
  {
   "cell_type": "markdown",
   "id": "539e69fb",
   "metadata": {},
   "source": [
    "____"
   ]
  },
  {
   "cell_type": "markdown",
   "id": "d5942a01",
   "metadata": {},
   "source": [
    "<a id=\"97\"></a>\n",
    "# 97. Title\n",
    "([go to top](#top))"
   ]
  },
  {
   "cell_type": "markdown",
   "id": "cd95826d",
   "metadata": {},
   "source": [
    "____"
   ]
  },
  {
   "cell_type": "markdown",
   "id": "c9fa0bf6",
   "metadata": {},
   "source": [
    "<a id=\"98\"></a>\n",
    "# 98. Title\n",
    "([go to top](#top))"
   ]
  },
  {
   "cell_type": "markdown",
   "id": "77c93304",
   "metadata": {},
   "source": [
    "____"
   ]
  },
  {
   "cell_type": "markdown",
   "id": "9ae7cb42",
   "metadata": {},
   "source": [
    "<a id=\"99\"></a>\n",
    "# 99. Title\n",
    "([go to top](#top))"
   ]
  },
  {
   "cell_type": "markdown",
   "id": "9e4917db",
   "metadata": {},
   "source": [
    "____"
   ]
  },
  {
   "cell_type": "markdown",
   "id": "dad8d37f",
   "metadata": {},
   "source": [
    "<a id=\"100\"></a>\n",
    "# 100. Title\n",
    "([go to top](#top))"
   ]
  },
  {
   "cell_type": "markdown",
   "id": "d7b5c14c",
   "metadata": {},
   "source": [
    "____"
   ]
  },
  {
   "cell_type": "markdown",
   "id": "98e05b7f",
   "metadata": {},
   "source": [
    "<a id=\"\"></a>\n",
    "# . Title\n",
    "([go to top](#top))"
   ]
  },
  {
   "cell_type": "markdown",
   "id": "b2ec7984",
   "metadata": {},
   "source": [
    "____"
   ]
  },
  {
   "cell_type": "markdown",
   "id": "22b529fe",
   "metadata": {},
   "source": [
    "<a id=\"\"></a>\n",
    "# . Title\n",
    "([go to top](#top))"
   ]
  },
  {
   "cell_type": "markdown",
   "id": "59afe020",
   "metadata": {},
   "source": [
    "____"
   ]
  },
  {
   "cell_type": "markdown",
   "id": "6af25ea0",
   "metadata": {},
   "source": [
    "____"
   ]
  },
  {
   "cell_type": "markdown",
   "id": "c7831faa",
   "metadata": {},
   "source": [
    "<a id=\"200\"></a>\n",
    "# Unsorted\n",
    "([go to top](#top))"
   ]
  },
  {
   "cell_type": "markdown",
   "id": "f2ea09ac",
   "metadata": {},
   "source": [
    "```\n",
    "document.getElementById('myImage');\n",
    "\n",
    "const elem = document.getElementById('logo');\n",
    "elem.style.color = 'yellow';\n",
    "\n",
    "document.body.innerHTML = 'The cat loves the dog.';\n",
    "document.body.innerHTML = '<h2>This is a heading</h2>'; \n",
    "\n",
    "document.querySelector('h1').innerHTML = 'Most popular Harry Potter characters';\n",
    "document.getElementById('fourth').innerHTML = 'Professor Snape';\n",
    "document.getElementsByClassName('slytherin')[0].innerHTML = 'Salazar Slytherin';\n",
    "document.getElementsByTagName('li')[0].innerHTML = 'Dobby';\n",
    "\n",
    "let blueElement = document.querySelector('.blue');\n",
    "blueElement.style.backgroundColor = 'blue';\n",
    "\n",
    "document.querySelector('.blue').style.fontFamily = 'Roboto';\n",
    "\n",
    "let parentElement = document.getElementById('must-have').parentNode; // returns <ul> element\n",
    "let childElements = document.getElementById('groceries').children; // returns an array of <li> elements\n",
    "\n",
    "// let first = document.body.children\n",
    "let first = document.querySelector('body').children\n",
    "first[0].innerHTML = 'BROWN BEARS ARE AWESOME!'\n",
    "first[0].parentNode.style.backgroundColor = 'beige'\n",
    "\n",
    "let paragraph = document.createElement('p');\n",
    "paragraph.id = 'info'; \n",
    "paragraph.innerHTML = 'The text inside the paragraph';\n",
    "document.body.appendChild(paragraph);\n",
    "\n",
    "let paragraph = document.querySelector('p');\n",
    "document.body.removeChild(paragraph);\n",
    "document.getElementById('sign').hidden = true;\n",
    "\n",
    "let element = document.querySelector('button');\n",
    "element.onclick = function() { \n",
    "  element.style.backgroundColor = 'blue' \n",
    "};\n",
    "\n",
    "let element = document.querySelector('button');\n",
    "function turnBlue() {\n",
    "   element.style.backgroundColor = 'blue';\n",
    "}\n",
    "element.onclick = turnBlue;\n",
    "\n",
    "\n",
    "let element = document.querySelector('button');\n",
    "function turnButtonRed(){\n",
    "  // Add code to turn button red\n",
    "  element.style.backgroundColor = 'red';\n",
    "  element.style.color = 'white';\n",
    "  element.innerHTML = 'Red Button';\n",
    "}\n",
    "// element.addEventlistener('click', turnButtonRed)\n",
    "element.onclick = turnButtonRed\n",
    "\n",
    "\n",
    "let eventTarget = document.getElementById('targetElement');\n",
    "eventTarget.addEventListener('click', function() {\n",
    "  // this block of code will run when click event happens on eventTarget element\n",
    "});\n",
    "```"
   ]
  },
  {
   "cell_type": "markdown",
   "id": "3e9060a2",
   "metadata": {},
   "source": [
    "<a id=\"2b\"></a>\n",
    "# 2b Math: `Find Average`\n",
    "([go to top](#top))"
   ]
  },
  {
   "cell_type": "code",
   "execution_count": 66,
   "id": "2e265054",
   "metadata": {},
   "outputs": [
    {
     "name": "stdout",
     "output_type": "stream",
     "text": [
      "5\n"
     ]
    }
   ],
   "source": [
    "arr = [1,2,3,4,5,6,7,8,9]\n",
    "let sum = arr.reduce( (a, b) => a + b, 0)\n",
    "let average = sum / arr.length\n",
    "console.log(average)"
   ]
  },
  {
   "cell_type": "code",
   "execution_count": null,
   "id": "ebaac7a8",
   "metadata": {},
   "outputs": [],
   "source": []
  },
  {
   "cell_type": "code",
   "execution_count": null,
   "id": "86f169ad",
   "metadata": {},
   "outputs": [],
   "source": []
  }
 ],
 "metadata": {
  "kernelspec": {
   "display_name": "JavaScript (Node.js)",
   "language": "javascript",
   "name": "javascript"
  },
  "language_info": {
   "file_extension": ".js",
   "mimetype": "application/javascript",
   "name": "javascript",
   "version": "18.2.0"
  }
 },
 "nbformat": 4,
 "nbformat_minor": 5
}
