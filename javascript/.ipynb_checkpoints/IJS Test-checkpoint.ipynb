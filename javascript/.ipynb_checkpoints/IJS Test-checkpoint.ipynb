{
 "cells": [
  {
   "cell_type": "code",
   "execution_count": 1,
   "id": "5e9cbde4",
   "metadata": {},
   "outputs": [
    {
     "name": "stdout",
     "output_type": "stream",
     "text": [
      "test\n"
     ]
    }
   ],
   "source": [
    "console.log('test')"
   ]
  },
  {
   "cell_type": "code",
   "execution_count": 2,
   "id": "2cef7238",
   "metadata": {},
   "outputs": [
    {
     "name": "stdout",
     "output_type": "stream",
     "text": [
      "[ '1', '2', '3', '4', '5', '6' ]\n"
     ]
    }
   ],
   "source": [
    "const strToArray = (str) => {\n",
    "  return str.split('')\n",
    "}\n",
    "\n",
    "console.log(strToArray('123456'))"
   ]
  },
  {
   "cell_type": "code",
   "execution_count": null,
   "id": "d4d4858a",
   "metadata": {},
   "outputs": [],
   "source": []
  }
 ],
 "metadata": {
  "kernelspec": {
   "display_name": "JavaScript (Node.js)",
   "language": "javascript",
   "name": "javascript"
  },
  "language_info": {
   "file_extension": ".js",
   "mimetype": "application/javascript",
   "name": "javascript",
   "version": "18.2.0"
  }
 },
 "nbformat": 4,
 "nbformat_minor": 5
}
